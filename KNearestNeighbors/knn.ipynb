{
 "cells": [
  {
   "cell_type": "markdown",
   "metadata": {},
   "source": [
    "# K-Nearest Neighbors Classification\n",
    "\n",
    "José Julián Camacho Hernández\n",
    "\n",
    "Leonardo Guillén Fernández"
   ]
  },
  {
   "cell_type": "markdown",
   "metadata": {},
   "source": [
    "### 3. Teoría\n",
    "\n",
    "**1. Indique cual es costo de “Training” y de test del algoritmo KNN**\n",
    "\n",
    "Es costoso porque ocupa gran cantidad de memoria, y además de que es finita, su acceso es caro. Adicionalmente, su ejecución es muy costosa debido a que debe comparar la distancia de cada nueva instancia con otras del set de datos.\n",
    "En términos de Big O, el costo de entrenamiento es de O(1), ya que se almacenan una sola vez. Por otro lado, el costo de test es de O(N*D), donde N es la cantidad de feature vectors y D es la cantidad de features en cada uno. Si D = N, entonces el costo será de O(N^2).\n",
    "\n",
    "**2. Explique por qué se dice que instance learning es un algoritmo por fuerza bruta o perezoso.**\n",
    "\n",
    "Se dice que es un algoritmo perezoso o por fuerza bruta ya que no hay un entrenamiento con lógica, sino que simplemente se compara con el resto de la base de datos a través de la busca de una similitud o de distancia, y se enfoca en encontrar el caso más cercano.\n",
    "\n",
    "**3. Indique cuántas comparaciones se deben realizar en la etapa de testeo (asumiendo el peor de los casos).**\n",
    "\n",
    "En la etapa de testeo, en el peor de los casos se debe comparar cada nueva instancia del conjunto de prueba con todas y cada una de las del conjunto de training, por lo que para una se deben hacer N comparaciones, donde N es la cantidad de instancias en el conjunto de training. Para una etapa de testeo con M instancias en el conjunto de prueba, se deben realizar entonces M*N comparaciones.\n",
    "\n",
    "**4. Investigue alguna modificación que se ha realizado al algoritmo original del KNN.**\n",
    "\n",
    "inc-k-MSN es una de las modificaciones del algoritmo original del KNN, esta nueva modificación no almacena el conjunto de datos de entrenamiento en la memoria provincial, solamente guarda el objeto a clasificar, así como los k vecinos más similares calculados hasta el paso.\n"
   ]
  },
  {
   "cell_type": "markdown",
   "metadata": {},
   "source": [
    "## 4.1 Distancia entre elementos"
   ]
  },
  {
   "cell_type": "code",
   "execution_count": 243,
   "metadata": {},
   "outputs": [],
   "source": [
    "import numpy as np\n"
   ]
  },
  {
   "cell_type": "code",
   "execution_count": 244,
   "metadata": {},
   "outputs": [],
   "source": [
    "class KNearestNeighbors():\n",
    "    def __init__(self, X_train, y_train, n_neighbors=5, weights='distance'):\n",
    "\n",
    "        self.X_train = X_train\n",
    "        self.y_train = y_train\n",
    "\n",
    "        self.n_neighbors = n_neighbors\n",
    "        self.weights = weights\n",
    "\n",
    "        self.n_classes = 2\n",
    "\n",
    "    def euclidian_distance(self, a, b):\n",
    "        return np.sqrt(np.sum((a - b)**2, axis=1))\n",
    "\n",
    "    def kneighbors(self, X_test, return_distance=False):\n",
    "\n",
    "        dist = []\n",
    "        neigh_ind = []\n",
    "\n",
    "        #print(X_test, self.X_train. X_test, self.X_train)\n",
    "        point_dist = []\n",
    "        for x_test in X_test:\n",
    "            point_dist += [ self.euclidian_distance(x_test, self.X_train) ]\n",
    "\n",
    "        for row in point_dist:\n",
    "            enum_neigh = enumerate(row)\n",
    "            sorted_neigh = sorted(enum_neigh,\n",
    "                                  key=lambda x: x[1])[:self.n_neighbors]\n",
    "            #print(\"Sorted_neighs: \", sorted_neigh)\n",
    "            ind_list = [tup[0] for tup in sorted_neigh]\n",
    "            dist_list = [tup[1] for tup in sorted_neigh]\n",
    "\n",
    "            dist.append(dist_list)\n",
    "            neigh_ind.append(ind_list)\n",
    "\n",
    "        if return_distance:\n",
    "            return np.array(dist), np.array(neigh_ind)\n",
    "\n",
    "        return np.array(neigh_ind)\n",
    "\n",
    "    def predict(self, X_test):\n",
    "\n",
    "        if self.weights == 'uniform':\n",
    "            neighbors = self.kneighbors(X_test)\n",
    "            y_pred = np.array([\n",
    "                np.argmax(np.bincount(self.y_train[neighbor]))\n",
    "                for neighbor in neighbors\n",
    "            ])\n",
    "            #print(\"Y_pred: \", y_pred)\n",
    "            return y_pred\n",
    "\n",
    "        if self.weights == 'distance':\n",
    "\n",
    "            dist, neigh_ind = self.kneighbors(X_test, return_distance=True) #Obtener distancias y vecinos\n",
    "            neighbors = []\n",
    "            neighbors = [self.y_train[i] for i in neigh_ind] #Obtener los tipos segun los indices de vecinos\n",
    "            \n",
    "            y_pred = []\n",
    "            for i in range(len(neighbors)):\n",
    "                distances = {}                              #Diccionario para guardar distancias por tipo\n",
    "                for j in range(len(neighbors[i])):\n",
    "                    neighbor_type = neighbors[i][j]         #Obtener tipo de vecino\n",
    "                    distance = dist[i][j]                   #Obtener distancia a dicho vecino\n",
    "                    if neighbor_type in distances:          #Guardar en el diccionario\n",
    "                        distances[neighbor_type].append(distance)\n",
    "                    else:\n",
    "                        distances[neighbor_type] = [distance]\n",
    "                \n",
    "                average_distances = {}                      #Diccionario para guardar promedio de distancias\n",
    "                for neighbor_type in distances:\n",
    "                    average_distance = np.mean(distances[neighbor_type])\n",
    "                    average_distances[neighbor_type] = average_distance\n",
    "\n",
    "                #Obtener minima distancia promedio \n",
    "                min_distance_type = min(average_distances, key=average_distances.get)\n",
    "                #print(\"El tipo {} tiene la mínima distacia promedio y es: {}\".format(min_distance_type, average_distances[min_distance_type]))\n",
    "                y_pred.append(min_distance_type)\n",
    "\n",
    "            return y_pred\n",
    "\n",
    "    def score(self, X_test, y_test):\n",
    "        y_pred = self.predict(X_test)\n",
    "        return float(sum(y_pred == y_test)) / float(len(y_test)), y_pred, y_test\n"
   ]
  },
  {
   "cell_type": "markdown",
   "metadata": {},
   "source": [
    "El algoritmo implementado se detalla en el siguiente diagrama:\n",
    "\n",
    "![alt text](diagramaKNN.png)\n",
    "\n",
    "Se observa un ejemplo para K = 5. En este, en primer lugar se obtienen los 5 vecinos más cercanos y se calculan sus distancias respecto al nuevo objeto. El algoritmo se encarga de promediar la distancia de cada tipo de objeto respecto al nuevo y selecciona el tipo de objeto que tenga la menor distancia, en lugar de seleccionar el tipo de objeto con mayor cantidad de instancias en los 5 vecinos más cercanos.\n",
    "Por lo tanto, en el ejemplo se selecciona el amarillo en lugar del rojo, ya que a pesar de que el rojo cuenta con la mayoría, el amarillo tiene una distancia promedio menor.\n",
    "\n",
    "En el algoritmo, se toman las distancias e índices de los vecinos de la función kneighbors, y se construye una nueva lista con los tipo de datos en esos índices. Posteriormente, se predice para cada conjunto de k vecinos más cercanos. Para esto, como en el ejemplo, se guarda en un diccionario las distancias para cada tipo de datos en los k. Luego, en otro diccionario se guarda el promedio de las distancias para cada tipo de dato. Finalmente, se obtiene el mínimo valor en el diccionario y se obtiene de ahí el tipo que será la predicción. "
   ]
  },
  {
   "cell_type": "markdown",
   "metadata": {},
   "source": [
    "# Iris dataset (Observations/Treatments)"
   ]
  },
  {
   "cell_type": "code",
   "execution_count": 245,
   "metadata": {},
   "outputs": [],
   "source": [
    "import sklearn.datasets as datasets\n",
    "from sklearn.model_selection import train_test_split\n",
    "from sklearn.neighbors import KNeighborsClassifier\n",
    "import pandas as pd\n",
    "import time\n",
    "from matplotlib import pyplot as plt\n",
    "dataset = datasets.load_iris(as_frame=True)\n",
    "\n",
    "X = dataset.data\n",
    "y = dataset.target\n"
   ]
  },
  {
   "cell_type": "code",
   "execution_count": 246,
   "metadata": {},
   "outputs": [
    {
     "data": {
      "text/html": [
       "<div>\n",
       "<style scoped>\n",
       "    .dataframe tbody tr th:only-of-type {\n",
       "        vertical-align: middle;\n",
       "    }\n",
       "\n",
       "    .dataframe tbody tr th {\n",
       "        vertical-align: top;\n",
       "    }\n",
       "\n",
       "    .dataframe thead th {\n",
       "        text-align: right;\n",
       "    }\n",
       "</style>\n",
       "<table border=\"1\" class=\"dataframe\">\n",
       "  <thead>\n",
       "    <tr style=\"text-align: right;\">\n",
       "      <th></th>\n",
       "      <th>sepal length (cm)</th>\n",
       "      <th>sepal width (cm)</th>\n",
       "      <th>petal length (cm)</th>\n",
       "      <th>petal width (cm)</th>\n",
       "    </tr>\n",
       "  </thead>\n",
       "  <tbody>\n",
       "    <tr>\n",
       "      <th>0</th>\n",
       "      <td>5.1</td>\n",
       "      <td>3.5</td>\n",
       "      <td>1.4</td>\n",
       "      <td>0.2</td>\n",
       "    </tr>\n",
       "    <tr>\n",
       "      <th>1</th>\n",
       "      <td>4.9</td>\n",
       "      <td>3.0</td>\n",
       "      <td>1.4</td>\n",
       "      <td>0.2</td>\n",
       "    </tr>\n",
       "    <tr>\n",
       "      <th>2</th>\n",
       "      <td>4.7</td>\n",
       "      <td>3.2</td>\n",
       "      <td>1.3</td>\n",
       "      <td>0.2</td>\n",
       "    </tr>\n",
       "    <tr>\n",
       "      <th>3</th>\n",
       "      <td>4.6</td>\n",
       "      <td>3.1</td>\n",
       "      <td>1.5</td>\n",
       "      <td>0.2</td>\n",
       "    </tr>\n",
       "    <tr>\n",
       "      <th>4</th>\n",
       "      <td>5.0</td>\n",
       "      <td>3.6</td>\n",
       "      <td>1.4</td>\n",
       "      <td>0.2</td>\n",
       "    </tr>\n",
       "  </tbody>\n",
       "</table>\n",
       "</div>"
      ],
      "text/plain": [
       "   sepal length (cm)  sepal width (cm)  petal length (cm)  petal width (cm)\n",
       "0                5.1               3.5                1.4               0.2\n",
       "1                4.9               3.0                1.4               0.2\n",
       "2                4.7               3.2                1.3               0.2\n",
       "3                4.6               3.1                1.5               0.2\n",
       "4                5.0               3.6                1.4               0.2"
      ]
     },
     "execution_count": 246,
     "metadata": {},
     "output_type": "execute_result"
    }
   ],
   "source": [
    "X.head(5)"
   ]
  },
  {
   "cell_type": "markdown",
   "metadata": {},
   "source": [
    "### 4.1.2\n",
    "\n",
    "Prueba del algoritmo de distancia y comparación con sklearn"
   ]
  },
  {
   "cell_type": "code",
   "execution_count": 247,
   "metadata": {},
   "outputs": [
    {
     "name": "stdout",
     "output_type": "stream",
     "text": [
      "Resultados obtenidos:  [0, 0, 2, 0, 0, 0, 0, 2, 2, 2, 0, 2, 2, 2, 1, 0, 2, 2, 0, 1]\n",
      "Resultados esperados:  [0 0 2 0 0 0 0 2 2 2 0 2 2 2 2 0 2 2 0 1] \n",
      "\n",
      "Valores de precisión obtenidos\n"
     ]
    },
    {
     "data": {
      "text/html": [
       "<div>\n",
       "<style scoped>\n",
       "    .dataframe tbody tr th:only-of-type {\n",
       "        vertical-align: middle;\n",
       "    }\n",
       "\n",
       "    .dataframe tbody tr th {\n",
       "        vertical-align: top;\n",
       "    }\n",
       "\n",
       "    .dataframe thead th {\n",
       "        text-align: right;\n",
       "    }\n",
       "</style>\n",
       "<table border=\"1\" class=\"dataframe\">\n",
       "  <thead>\n",
       "    <tr style=\"text-align: right;\">\n",
       "      <th></th>\n",
       "      <th>Our Distance Implementation</th>\n",
       "      <th>Sklearn's Implementation</th>\n",
       "    </tr>\n",
       "  </thead>\n",
       "  <tbody>\n",
       "    <tr>\n",
       "      <th>2</th>\n",
       "      <td>0.955556</td>\n",
       "      <td>0.955556</td>\n",
       "    </tr>\n",
       "    <tr>\n",
       "      <th>3</th>\n",
       "      <td>0.955556</td>\n",
       "      <td>0.955556</td>\n",
       "    </tr>\n",
       "    <tr>\n",
       "      <th>4</th>\n",
       "      <td>0.911111</td>\n",
       "      <td>0.955556</td>\n",
       "    </tr>\n",
       "    <tr>\n",
       "      <th>5</th>\n",
       "      <td>0.911111</td>\n",
       "      <td>0.955556</td>\n",
       "    </tr>\n",
       "    <tr>\n",
       "      <th>6</th>\n",
       "      <td>0.911111</td>\n",
       "      <td>0.955556</td>\n",
       "    </tr>\n",
       "    <tr>\n",
       "      <th>7</th>\n",
       "      <td>0.888889</td>\n",
       "      <td>0.955556</td>\n",
       "    </tr>\n",
       "    <tr>\n",
       "      <th>9</th>\n",
       "      <td>0.955556</td>\n",
       "      <td>0.955556</td>\n",
       "    </tr>\n",
       "    <tr>\n",
       "      <th>11</th>\n",
       "      <td>0.955556</td>\n",
       "      <td>0.955556</td>\n",
       "    </tr>\n",
       "  </tbody>\n",
       "</table>\n",
       "</div>"
      ],
      "text/plain": [
       "    Our Distance Implementation  Sklearn's Implementation\n",
       "2                      0.955556                  0.955556\n",
       "3                      0.955556                  0.955556\n",
       "4                      0.911111                  0.955556\n",
       "5                      0.911111                  0.955556\n",
       "6                      0.911111                  0.955556\n",
       "7                      0.888889                  0.955556\n",
       "9                      0.955556                  0.955556\n",
       "11                     0.955556                  0.955556"
      ]
     },
     "execution_count": 247,
     "metadata": {},
     "output_type": "execute_result"
    }
   ],
   "source": [
    "if isinstance(X, pd.DataFrame):\n",
    "    X = X.to_numpy()\n",
    "    y = y.to_numpy()\n",
    "\n",
    "X_train, X_test, y_train, y_test = train_test_split(X, y, test_size=0.3, random_state=45)\n",
    "\n",
    "#Valores de k vecinos más cercanos para clasificación\n",
    "k_values = [2,3,4,5,6,7,9,11]\n",
    "distance_accuracy_list = []\n",
    "sklearn_accuracy_list = []\n",
    "distance_time_list = []\n",
    "sklearn_time_list = []\n",
    "\n",
    "for k in k_values:\n",
    "    #Instanciar clasificadores\n",
    "    distance_classifier = KNearestNeighbors(X_train, y_train, n_neighbors=k)\n",
    "    sklearn_classifier = KNeighborsClassifier(n_neighbors=k).fit(X_train, y_train)\n",
    "    \n",
    "    #Tomar tiempos de clasificación\n",
    "    start_time = time.time()\n",
    "    distance_accuracy, y_pred, y_test = distance_classifier.score(X_test, y_test)\n",
    "    end_time = time.time()\n",
    "    time_taken_distance_classifier = end_time - start_time\n",
    "    distance_time_list.append(time_taken_distance_classifier)\n",
    "\n",
    "    start_time = time.time()\n",
    "    sklearn_accuracy = sklearn_classifier.score(X_test, y_test)\n",
    "    end_time = time.time()\n",
    "    time_taken_sklearn_classifier = end_time - start_time\n",
    "    sklearn_time_list.append(time_taken_sklearn_classifier)\n",
    "\n",
    "    distance_accuracy_list.append(distance_accuracy)\n",
    "    sklearn_accuracy_list.append(sklearn_accuracy)\n",
    "\n",
    "print(\"Resultados obtenidos: \", y_pred[:20])\n",
    "print(\"Resultados esperados: \", y_test[:20], \"\\n\")\n",
    "\n",
    "print(\"Valores de precisión obtenidos\")\n",
    "accuracy_data = {\n",
    "  \"Our Distance Implementation\": distance_accuracy_list,\n",
    "  \"Sklearn\\'s Implementation\": sklearn_accuracy_list\n",
    "}\n",
    "pd.DataFrame(accuracy_data, index = k_values)"
   ]
  },
  {
   "cell_type": "code",
   "execution_count": 248,
   "metadata": {},
   "outputs": [
    {
     "name": "stdout",
     "output_type": "stream",
     "text": [
      "Tiempos de ejecución obtenidos\n"
     ]
    },
    {
     "data": {
      "text/html": [
       "<div>\n",
       "<style scoped>\n",
       "    .dataframe tbody tr th:only-of-type {\n",
       "        vertical-align: middle;\n",
       "    }\n",
       "\n",
       "    .dataframe tbody tr th {\n",
       "        vertical-align: top;\n",
       "    }\n",
       "\n",
       "    .dataframe thead th {\n",
       "        text-align: right;\n",
       "    }\n",
       "</style>\n",
       "<table border=\"1\" class=\"dataframe\">\n",
       "  <thead>\n",
       "    <tr style=\"text-align: right;\">\n",
       "      <th></th>\n",
       "      <th>Our Implementation</th>\n",
       "      <th>Sklearn's Implementation</th>\n",
       "    </tr>\n",
       "  </thead>\n",
       "  <tbody>\n",
       "    <tr>\n",
       "      <th>2</th>\n",
       "      <td>0.005275</td>\n",
       "      <td>0.002899</td>\n",
       "    </tr>\n",
       "    <tr>\n",
       "      <th>3</th>\n",
       "      <td>0.003103</td>\n",
       "      <td>0.003542</td>\n",
       "    </tr>\n",
       "    <tr>\n",
       "      <th>4</th>\n",
       "      <td>0.004230</td>\n",
       "      <td>0.002545</td>\n",
       "    </tr>\n",
       "    <tr>\n",
       "      <th>5</th>\n",
       "      <td>0.004552</td>\n",
       "      <td>0.003702</td>\n",
       "    </tr>\n",
       "    <tr>\n",
       "      <th>6</th>\n",
       "      <td>0.004373</td>\n",
       "      <td>0.002585</td>\n",
       "    </tr>\n",
       "    <tr>\n",
       "      <th>7</th>\n",
       "      <td>0.004273</td>\n",
       "      <td>0.003555</td>\n",
       "    </tr>\n",
       "    <tr>\n",
       "      <th>9</th>\n",
       "      <td>0.004441</td>\n",
       "      <td>0.002301</td>\n",
       "    </tr>\n",
       "    <tr>\n",
       "      <th>11</th>\n",
       "      <td>0.004012</td>\n",
       "      <td>0.002410</td>\n",
       "    </tr>\n",
       "  </tbody>\n",
       "</table>\n",
       "</div>"
      ],
      "text/plain": [
       "    Our Implementation  Sklearn's Implementation\n",
       "2             0.005275                  0.002899\n",
       "3             0.003103                  0.003542\n",
       "4             0.004230                  0.002545\n",
       "5             0.004552                  0.003702\n",
       "6             0.004373                  0.002585\n",
       "7             0.004273                  0.003555\n",
       "9             0.004441                  0.002301\n",
       "11            0.004012                  0.002410"
      ]
     },
     "execution_count": 248,
     "metadata": {},
     "output_type": "execute_result"
    }
   ],
   "source": [
    "print(\"Tiempos de ejecución obtenidos\")\n",
    "time_data = {\n",
    "  \"Our Implementation\": distance_time_list,\n",
    "  \"Sklearn\\'s Implementation\": sklearn_time_list\n",
    "}\n",
    "pd.DataFrame(time_data, index = k_values)"
   ]
  },
  {
   "cell_type": "markdown",
   "metadata": {},
   "source": [
    "### 4.1.3"
   ]
  },
  {
   "cell_type": "code",
   "execution_count": 249,
   "metadata": {},
   "outputs": [
    {
     "data": {
      "image/png": "[encoded data removed]",
      "text/plain": [
       "<Figure size 640x480 with 1 Axes>"
      ]
     },
     "metadata": {},
     "output_type": "display_data"
    }
   ],
   "source": [
    "plt.plot(k_values, distance_accuracy_list)\n",
    "\n",
    "plt.title(\"K vs Precisión: Nuestra Implementación\")\n",
    "plt.xlabel(\"Valores de K\")\n",
    "plt.ylabel(\"Precisión\")\n",
    "\n",
    "plt.show()"
   ]
  },
  {
   "cell_type": "code",
   "execution_count": 250,
   "metadata": {},
   "outputs": [
    {
     "data": {
      "image/png": "[encoded data removed]",
      "text/plain": [
       "<Figure size 640x480 with 1 Axes>"
      ]
     },
     "metadata": {},
     "output_type": "display_data"
    }
   ],
   "source": [
    "plt.plot(k_values, sklearn_accuracy_list)\n",
    "\n",
    "plt.title(\"K vs Precisión: Implementación de Sklearn\")\n",
    "plt.xlabel(\"Valores de K\")\n",
    "plt.ylabel(\"Precisión\")\n",
    "\n",
    "plt.show()"
   ]
  },
  {
   "cell_type": "markdown",
   "metadata": {},
   "source": [
    "#### Discusión\n",
    "\n",
    "En la tabla de comparación de precisión, es posible observar que el algoritmo implementado consigue la misma precisión que Sklearn para ciertos valores de k. En la gráfica, se observa que la precisión baja para k=4 hasta k=7 donde obtiene la más baja, posteriormente vuelve a igualar a Sklearn, la cual obtiene un valor constante de precisión para todos los valores de k.\n",
    "\n",
    "Respecto a los tiempos de ejecución, se puede anotar que son muy similares, por lo que nuestra implementación no es significativamente ineficiente respecto a la de Sklearn."
   ]
  },
  {
   "cell_type": "markdown",
   "metadata": {},
   "source": [
    "# 4.2. Digits dataset"
   ]
  },
  {
   "cell_type": "code",
   "execution_count": 251,
   "metadata": {},
   "outputs": [
    {
     "data": {
      "image/png": "[encoded data removed]",
      "text/plain": [
       "<Figure size 800x600 with 12 Axes>"
      ]
     },
     "metadata": {},
     "output_type": "display_data"
    }
   ],
   "source": [
    "from sklearn.datasets import load_digits\n",
    "import matplotlib.pyplot as plt\n",
    "digits = load_digits (n_class =10)\n",
    "fig, axes = plt.subplots(nrows=3, ncols=4, figsize=(8, 6))\n",
    "plt.gray()\n",
    "\n",
    "#Mostrar imagenes en cuadrícula\n",
    "for i, ax in enumerate(axes.flat):\n",
    "    ax.imshow(digits.images[i])\n",
    "    ax.axis('off')\n",
    "\n",
    "plt.tight_layout()\n",
    "plt.show()\n",
    "X = digits.data\n",
    "y = digits.target"
   ]
  },
  {
   "cell_type": "code",
   "execution_count": 252,
   "metadata": {},
   "outputs": [
    {
     "name": "stdout",
     "output_type": "stream",
     "text": [
      "El set tiene:  1797 datos\n",
      "El cada feature vector tiene:  64 features\n"
     ]
    }
   ],
   "source": [
    "print('El set tiene: ', X.shape[0], 'datos')\n",
    "print('El cada feature vector tiene: ', X.shape[1], 'features')"
   ]
  },
  {
   "cell_type": "markdown",
   "metadata": {},
   "source": [
    "### 4.2.5\n",
    "Comparación del método uniforme con el método de distancias implementado por el grupo"
   ]
  },
  {
   "cell_type": "code",
   "execution_count": 253,
   "metadata": {},
   "outputs": [
    {
     "name": "stdout",
     "output_type": "stream",
     "text": [
      "Resultados obtenidos:  [0, 8, 4, 4, 0, 5, 1, 3, 8, 9, 4, 5, 0, 0, 6, 4, 6, 2, 2, 8]\n",
      "Resultados esperados:  [0 8 4 4 0 5 1 3 9 9 4 5 0 0 6 4 6 2 2 8] \n",
      "\n",
      "Valores de precisión obtenidos\n"
     ]
    },
    {
     "data": {
      "text/html": [
       "<div>\n",
       "<style scoped>\n",
       "    .dataframe tbody tr th:only-of-type {\n",
       "        vertical-align: middle;\n",
       "    }\n",
       "\n",
       "    .dataframe tbody tr th {\n",
       "        vertical-align: top;\n",
       "    }\n",
       "\n",
       "    .dataframe thead th {\n",
       "        text-align: right;\n",
       "    }\n",
       "</style>\n",
       "<table border=\"1\" class=\"dataframe\">\n",
       "  <thead>\n",
       "    <tr style=\"text-align: right;\">\n",
       "      <th></th>\n",
       "      <th>Uniform Implementation</th>\n",
       "      <th>Distance Implementation</th>\n",
       "    </tr>\n",
       "  </thead>\n",
       "  <tbody>\n",
       "    <tr>\n",
       "      <th>2</th>\n",
       "      <td>0.982222</td>\n",
       "      <td>0.984444</td>\n",
       "    </tr>\n",
       "    <tr>\n",
       "      <th>3</th>\n",
       "      <td>0.982222</td>\n",
       "      <td>0.986667</td>\n",
       "    </tr>\n",
       "    <tr>\n",
       "      <th>5</th>\n",
       "      <td>0.977778</td>\n",
       "      <td>0.980000</td>\n",
       "    </tr>\n",
       "    <tr>\n",
       "      <th>7</th>\n",
       "      <td>0.968889</td>\n",
       "      <td>0.982222</td>\n",
       "    </tr>\n",
       "    <tr>\n",
       "      <th>8</th>\n",
       "      <td>0.968889</td>\n",
       "      <td>0.980000</td>\n",
       "    </tr>\n",
       "    <tr>\n",
       "      <th>10</th>\n",
       "      <td>0.964444</td>\n",
       "      <td>0.968889</td>\n",
       "    </tr>\n",
       "    <tr>\n",
       "      <th>11</th>\n",
       "      <td>0.966667</td>\n",
       "      <td>0.971111</td>\n",
       "    </tr>\n",
       "  </tbody>\n",
       "</table>\n",
       "</div>"
      ],
      "text/plain": [
       "    Uniform Implementation  Distance Implementation\n",
       "2                 0.982222                 0.984444\n",
       "3                 0.982222                 0.986667\n",
       "5                 0.977778                 0.980000\n",
       "7                 0.968889                 0.982222\n",
       "8                 0.968889                 0.980000\n",
       "10                0.964444                 0.968889\n",
       "11                0.966667                 0.971111"
      ]
     },
     "execution_count": 253,
     "metadata": {},
     "output_type": "execute_result"
    }
   ],
   "source": [
    "if isinstance(X, pd.DataFrame):\n",
    "    X = X.to_numpy()\n",
    "    y = y.to_numpy()\n",
    "\n",
    "#Reshape\n",
    "n_samples = len(digits.images)\n",
    "data = digits.images.reshape((n_samples, -1))\n",
    "\n",
    "#Separar el set de datos para un 25% de testing\n",
    "X_train, X_test, y_train, y_test = train_test_split(data, y, test_size=0.25, random_state=45)\n",
    "\n",
    "#Valores de k vecinos más cercanos por probar\n",
    "k_values = [2,3,5,7,8,10,11]\n",
    "uniform_accuracy_list = []\n",
    "distance_accuracy_list = []\n",
    "\n",
    "for k in k_values:\n",
    "    #Instanciar clasificadores uniforme y de distancias\n",
    "    uniform_classifier = KNearestNeighbors(X_train, y_train, n_neighbors=k,weights='uniform')\n",
    "    distance_classifier = KNearestNeighbors(X_train, y_train, n_neighbors=k,weights='distance')\n",
    "    \n",
    "    #Clasificar y calcular precisiones\n",
    "    uniform_accuracy, y_pred, y_test = uniform_classifier.score(X_test, y_test)\n",
    "    distance_accuracy, y_pred, y_test = distance_classifier.score(X_test, y_test)\n",
    "\n",
    "    uniform_accuracy_list.append(uniform_accuracy)\n",
    "    distance_accuracy_list.append(distance_accuracy)\n",
    "\n",
    "print(\"Resultados obtenidos: \", y_pred[:20])\n",
    "print(\"Resultados esperados: \", y_test[:20], \"\\n\")\n",
    "\n",
    "print(\"Valores de precisión obtenidos\")\n",
    "\n",
    "\n",
    "accuracy_data = {\n",
    "  \"Uniform Implementation\": uniform_accuracy_list,\n",
    "  \"Distance Implementation\": distance_accuracy_list\n",
    "}\n",
    "pd.DataFrame(accuracy_data, index = k_values)"
   ]
  },
  {
   "cell_type": "markdown",
   "metadata": {},
   "source": [
    "### 4.2.6-7\n",
    "Comparación del método de distancias implementado por el grupo con el de sklearn"
   ]
  },
  {
   "cell_type": "code",
   "execution_count": 264,
   "metadata": {},
   "outputs": [
    {
     "name": "stdout",
     "output_type": "stream",
     "text": [
      "Resultados obtenidos:  [0, 8, 4, 4, 0, 5, 1, 3, 8, 9, 4, 5, 0, 0, 6, 4, 6, 2, 2, 8]\n",
      "Resultados esperados:  [0 8 4 4 0 5 1 3 9 9 4 5 0 0 6 4 6 2 2 8] \n",
      "\n",
      "Valores de precisión obtenidos\n"
     ]
    },
    {
     "data": {
      "text/html": [
       "<div>\n",
       "<style scoped>\n",
       "    .dataframe tbody tr th:only-of-type {\n",
       "        vertical-align: middle;\n",
       "    }\n",
       "\n",
       "    .dataframe tbody tr th {\n",
       "        vertical-align: top;\n",
       "    }\n",
       "\n",
       "    .dataframe thead th {\n",
       "        text-align: right;\n",
       "    }\n",
       "</style>\n",
       "<table border=\"1\" class=\"dataframe\">\n",
       "  <thead>\n",
       "    <tr style=\"text-align: right;\">\n",
       "      <th></th>\n",
       "      <th>Our Distance Implementation</th>\n",
       "      <th>Sklearn's Implementation</th>\n",
       "    </tr>\n",
       "  </thead>\n",
       "  <tbody>\n",
       "    <tr>\n",
       "      <th>2</th>\n",
       "      <td>0.984444</td>\n",
       "      <td>0.982222</td>\n",
       "    </tr>\n",
       "    <tr>\n",
       "      <th>3</th>\n",
       "      <td>0.986667</td>\n",
       "      <td>0.982222</td>\n",
       "    </tr>\n",
       "    <tr>\n",
       "      <th>5</th>\n",
       "      <td>0.980000</td>\n",
       "      <td>0.977778</td>\n",
       "    </tr>\n",
       "    <tr>\n",
       "      <th>7</th>\n",
       "      <td>0.982222</td>\n",
       "      <td>0.968889</td>\n",
       "    </tr>\n",
       "    <tr>\n",
       "      <th>8</th>\n",
       "      <td>0.980000</td>\n",
       "      <td>0.968889</td>\n",
       "    </tr>\n",
       "    <tr>\n",
       "      <th>10</th>\n",
       "      <td>0.968889</td>\n",
       "      <td>0.964444</td>\n",
       "    </tr>\n",
       "    <tr>\n",
       "      <th>11</th>\n",
       "      <td>0.971111</td>\n",
       "      <td>0.966667</td>\n",
       "    </tr>\n",
       "  </tbody>\n",
       "</table>\n",
       "</div>"
      ],
      "text/plain": [
       "    Our Distance Implementation  Sklearn's Implementation\n",
       "2                      0.984444                  0.982222\n",
       "3                      0.986667                  0.982222\n",
       "5                      0.980000                  0.977778\n",
       "7                      0.982222                  0.968889\n",
       "8                      0.980000                  0.968889\n",
       "10                     0.968889                  0.964444\n",
       "11                     0.971111                  0.966667"
      ]
     },
     "execution_count": 264,
     "metadata": {},
     "output_type": "execute_result"
    }
   ],
   "source": [
    "if isinstance(X, pd.DataFrame):\n",
    "    X = X.to_numpy()\n",
    "    y = y.to_numpy()\n",
    "\n",
    "#Reshape\n",
    "n_samples = len(digits.images)\n",
    "data = digits.images.reshape((n_samples, -1))\n",
    "\n",
    "#Importar SKLearn\n",
    "from sklearn.model_selection import train_test_split\n",
    "X_train, X_test, y_train, y_test = train_test_split(data, y, test_size=0.25, random_state=45)\n",
    "\n",
    "#Valores de k vecinos más cercanos de prueba\n",
    "k_values = [2,3,5,7,8,10,11]\n",
    "distance_accuracy_list = []\n",
    "sklearn_accuracy_list = []\n",
    "\n",
    "for k in k_values:\n",
    "    distance_classifier = KNearestNeighbors(X_train, y_train, n_neighbors=k)\n",
    "    sklearn_classifier = KNeighborsClassifier(n_neighbors=k, metric='euclidean').fit(X_train, y_train)\n",
    "\n",
    "    distance_accuracy, y_pred, y_test = distance_classifier.score(X_test, y_test)\n",
    "    sklearn_accuracy = sklearn_classifier.score(X_test, y_test)\n",
    "\n",
    "    distance_accuracy_list.append(distance_accuracy)\n",
    "    sklearn_accuracy_list.append(sklearn_accuracy)\n",
    "\n",
    "print(\"Resultados obtenidos: \", y_pred[:20])\n",
    "print(\"Resultados esperados: \", y_test[:20], \"\\n\")\n",
    "\n",
    "print(\"Valores de precisión obtenidos\")\n",
    "\n",
    "accuracy_data = {\n",
    "  \"Our Distance Implementation\": distance_accuracy_list,\n",
    "  \"Sklearn\\'s Implementation\": sklearn_accuracy_list\n",
    "}\n",
    "pd.DataFrame(accuracy_data, index = k_values)"
   ]
  },
  {
   "cell_type": "code",
   "execution_count": 255,
   "metadata": {},
   "outputs": [
    {
     "data": {
      "image/png": "[encoded data removed]",
      "text/plain": [
       "<Figure size 640x480 with 1 Axes>"
      ]
     },
     "metadata": {},
     "output_type": "display_data"
    }
   ],
   "source": [
    "plt.plot(k_values, our_accuracy_list)\n",
    "\n",
    "plt.title(\"K vs Precisión: Nuestra Implementación\")\n",
    "plt.xlabel(\"Valores de K\")\n",
    "plt.ylabel(\"Precisión\")\n",
    "\n",
    "plt.show()"
   ]
  },
  {
   "cell_type": "code",
   "execution_count": 256,
   "metadata": {},
   "outputs": [
    {
     "data": {
      "image/png": "[encoded data removed]",
      "text/plain": [
       "<Figure size 640x480 with 1 Axes>"
      ]
     },
     "metadata": {},
     "output_type": "display_data"
    }
   ],
   "source": [
    "plt.plot(k_values, sklearn_accuracy_list)\n",
    "\n",
    "plt.title(\"K vs Precisión: Implementación de Sklearn\")\n",
    "plt.xlabel(\"Valores de K\")\n",
    "plt.ylabel(\"Precisión\")\n",
    "\n",
    "plt.show()"
   ]
  },
  {
   "cell_type": "markdown",
   "metadata": {},
   "source": [
    "### 4.2.8\n",
    "\n",
    "Uso del modelo para clasificar imágenes de dígitos escritos a mano"
   ]
  },
  {
   "cell_type": "code",
   "execution_count": 268,
   "metadata": {
    "scrolled": true
   },
   "outputs": [
    {
     "data": {
      "image/png": "[encoded data removed]",
      "text/plain": [
       "<Figure size 640x480 with 1 Axes>"
      ]
     },
     "metadata": {},
     "output_type": "display_data"
    },
    {
     "name": "stdout",
     "output_type": "stream",
     "text": [
      "Datos de entrada (imagen) en 8x8:\n",
      " [[ 0  0  0 15  0  0  0  0]\n",
      " [ 0  0 15  0  0  0 16  6]\n",
      " [ 0  0 15  0  0  0 15  0]\n",
      " [ 0 15 16 16 13 15  1  0]\n",
      " [ 1  0  0  0  0  8  0  0]\n",
      " [ 0  0  0  0 16  0  0  0]\n",
      " [ 0  0  0  0 16  0  0  0]\n",
      " [ 0  0  0 14  0  0  0  0]]\n",
      "Resultado esperado:  4\n",
      "La clasificación según nuestro modelo de distancia es:  [4]\n",
      "Por lo tanto, el modelo acertó en esta clasificación\n"
     ]
    }
   ],
   "source": [
    "def rgb2gray(rgb):\n",
    "    return np.dot(rgb[...,:3], [0.299, 0.587, 0.114])\n",
    "\n",
    "#Cargar la imagen\n",
    "img = plt.imread('./numeros/4b.png')\n",
    "gray = rgb2gray(img)\n",
    "a=(16-gray*16).astype(int)\n",
    "plt.imshow(a, cmap = plt.get_cmap('gray_r'))\n",
    "plt.show()\n",
    "print(\"Datos de entrada (imagen) en 8x8:\\n\",a)\n",
    "\n",
    "#Instanciar clasificador y predecir\n",
    "distance_classifier = KNearestNeighbors(X_train, y_train, n_neighbors=3)\n",
    "predicted = distance_classifier.predict(a.flatten().reshape(1, -1))\n",
    "expected = 4\n",
    "\n",
    "print(\"Resultado esperado: \", expected)\n",
    "print(\"La clasificación según nuestro modelo de distancia es: \", predicted)\n",
    "\n",
    "if (predicted[0] == expected):\n",
    "    print(\"Por lo tanto, el modelo acertó en esta clasificación\")\n",
    "else:\n",
    "    print(\"Por lo tanto, el modelo falló en esta clasificación\")"
   ]
  },
  {
   "cell_type": "code",
   "execution_count": 218,
   "metadata": {},
   "outputs": [
    {
     "data": {
      "image/png": "[encoded data removed]",
      "text/plain": [
       "<Figure size 640x480 with 1 Axes>"
      ]
     },
     "metadata": {},
     "output_type": "display_data"
    },
    {
     "name": "stdout",
     "output_type": "stream",
     "text": [
      "Datos de entrada (imagen) en 8x8:\n",
      " [[ 0  0  0  0  0  0  0  0]\n",
      " [ 0  0  0 15 15 16  8  0]\n",
      " [ 0  0 14  0  0  0 15  0]\n",
      " [ 0 16  0  0  0  0  0  0]\n",
      " [ 0  2  0  0  0  0 16  0]\n",
      " [ 0 15  0  0 15 16  0  0]\n",
      " [ 0 15 15  4  0  0  0  0]\n",
      " [ 0  0  0  0  0  0  0  0]]\n",
      "Resultado esperado:  0\n",
      "La clasificación según nuestro modelo de distancia es:  [0]\n",
      "Por lo tanto, el modelo acertó en esta clasificación\n"
     ]
    }
   ],
   "source": [
    "#Cargar segunda imagen\n",
    "img = plt.imread('./numeros/0b.png')\n",
    "gray = rgb2gray(img)\n",
    "a=(16-gray*16).astype(int)\n",
    "plt.imshow(a, cmap = plt.get_cmap('gray_r'))\n",
    "plt.show()\n",
    "print(\"Datos de entrada (imagen) en 8x8:\\n\",a)\n",
    "\n",
    "#Predecir\n",
    "predicted = distance_classifier.predict(a.flatten().reshape(1, -1))\n",
    "expected = 0\n",
    "\n",
    "print(\"Resultado esperado: \", expected)\n",
    "print(\"La clasificación según nuestro modelo de distancia es: \", predicted)\n",
    "\n",
    "if (predicted[0] == expected):\n",
    "    print(\"Por lo tanto, el modelo acertó en esta clasificación\")\n",
    "else:\n",
    "    print(\"Por lo tanto, el modelo falló en esta clasificación\")"
   ]
  },
  {
   "cell_type": "code",
   "execution_count": 214,
   "metadata": {},
   "outputs": [
    {
     "data": {
      "image/png": "[encoded data removed]",
      "text/plain": [
       "<Figure size 640x480 with 1 Axes>"
      ]
     },
     "metadata": {},
     "output_type": "display_data"
    },
    {
     "name": "stdout",
     "output_type": "stream",
     "text": [
      "Datos de entrada (imagen) en 8x8:\n",
      " [[ 0  0  0 16 16 15  0  0]\n",
      " [ 0  0  0  0  0  0 15  0]\n",
      " [ 0  0  0  0  0 16  0  0]\n",
      " [ 0  0  0 16 16  0  0  0]\n",
      " [ 0  0  0  0  0 16  0  0]\n",
      " [ 0  0  0  0  0  0 16  0]\n",
      " [ 0  0  0 15 15 15 16  0]\n",
      " [ 0  0  0  0  0  0  0  0]]\n",
      "Resultado esperado:  3\n",
      "La clasificación según nuestro modelo de distancia es:  [3]\n",
      "Por lo tanto, el modelo acertó en esta clasificación\n"
     ]
    }
   ],
   "source": [
    "#Cargar segunda imagen\n",
    "img = plt.imread('./numeros/3b.png')\n",
    "gray = rgb2gray(img)\n",
    "a=(16-gray*16).astype(int)\n",
    "plt.imshow(a, cmap = plt.get_cmap('gray_r'))\n",
    "plt.show()\n",
    "print(\"Datos de entrada (imagen) en 8x8:\\n\",a)\n",
    "\n",
    "#Predecir\n",
    "predicted = distance_classifier.predict(a.flatten().reshape(1, -1))\n",
    "expected = 3\n",
    "\n",
    "print(\"Resultado esperado: \", expected)\n",
    "print(\"La clasificación según nuestro modelo de distancia es: \", predicted)\n",
    "\n",
    "if (predicted[0] == expected):\n",
    "    print(\"Por lo tanto, el modelo acertó en esta clasificación\")\n",
    "else:\n",
    "    print(\"Por lo tanto, el modelo falló en esta clasificación\")"
   ]
  },
  {
   "cell_type": "code",
   "execution_count": 215,
   "metadata": {},
   "outputs": [
    {
     "data": {
      "image/png": "[encoded data removed]",
      "text/plain": [
       "<Figure size 640x480 with 1 Axes>"
      ]
     },
     "metadata": {},
     "output_type": "display_data"
    },
    {
     "name": "stdout",
     "output_type": "stream",
     "text": [
      "Datos de entrada (imagen) en 8x8:\n",
      " [[ 0  0  0 16 16 15  1  0]\n",
      " [ 0  0 16  0  0  0 15  0]\n",
      " [ 0  0  0 16  0 16  0  0]\n",
      " [ 0  0  0  4 15  5  0  0]\n",
      " [ 0  0 16 15  0 16  0  0]\n",
      " [ 1 15  0  0  0  0 16  0]\n",
      " [15 15 15 15 15 15 16  0]\n",
      " [ 0  0  0  0  0  0  0  0]]\n",
      "Resultado esperado:  8\n",
      "La clasificación según nuestro modelo de distancia es:  [3]\n",
      "Por lo tanto, el modelo falló en esta clasificación\n"
     ]
    }
   ],
   "source": [
    "#Cargar cuarta imagen\n",
    "img = plt.imread('./numeros/8b.png')\n",
    "gray = rgb2gray(img)\n",
    "a=(16-gray*16).astype(int)\n",
    "plt.imshow(a, cmap = plt.get_cmap('gray_r'))\n",
    "plt.show()\n",
    "print(\"Datos de entrada (imagen) en 8x8:\\n\",a)\n",
    "\n",
    "#Predecir\n",
    "predicted = distance_classifier.predict(a.flatten().reshape(1, -1))\n",
    "expected = 8\n",
    "\n",
    "print(\"Resultado esperado: \", expected)\n",
    "print(\"La clasificación según nuestro modelo de distancia es: \", predicted)\n",
    "\n",
    "if (predicted[0] == expected):\n",
    "    print(\"Por lo tanto, el modelo acertó en esta clasificación\")\n",
    "else:\n",
    "    print(\"Por lo tanto, el modelo falló en esta clasificación\")"
   ]
  },
  {
   "cell_type": "code",
   "execution_count": 216,
   "metadata": {},
   "outputs": [
    {
     "data": {
      "image/png": "[encoded data removed]",
      "text/plain": [
       "<Figure size 640x480 with 1 Axes>"
      ]
     },
     "metadata": {},
     "output_type": "display_data"
    },
    {
     "name": "stdout",
     "output_type": "stream",
     "text": [
      "Datos de entrada (imagen) en 8x8:\n",
      " [[ 0  0  0 16 16 12 15  0]\n",
      " [ 0  0 16 14 14  0 16  0]\n",
      " [ 0 16 15  0  0  0 15  0]\n",
      " [ 0  0  0  0  0 15  5  0]\n",
      " [ 0  0  0  0  0 15  0  0]\n",
      " [ 0  0  0 16 15  0  0  0]\n",
      " [ 0  1 16  0  0  0  0  0]\n",
      " [16  4  0  0  0  0  0  0]]\n",
      "Resultado esperado:  7\n",
      "La clasificación según nuestro modelo de distancia es:  [7]\n",
      "Por lo tanto, el modelo acertó en esta clasificación\n"
     ]
    }
   ],
   "source": [
    "#Cargar segunda imagen\n",
    "img = plt.imread('./numeros/7b.png')\n",
    "gray = rgb2gray(img)\n",
    "a=(16-gray*16).astype(int)\n",
    "plt.imshow(a, cmap = plt.get_cmap('gray_r'))\n",
    "plt.show()\n",
    "print(\"Datos de entrada (imagen) en 8x8:\\n\",a)\n",
    "\n",
    "#Predecir\n",
    "predicted = distance_classifier.predict(a.flatten().reshape(1, -1))\n",
    "expected = 7\n",
    "\n",
    "print(\"Resultado esperado: \", expected)\n",
    "print(\"La clasificación según nuestro modelo de distancia es: \", predicted)\n",
    "\n",
    "if (predicted[0] == expected):\n",
    "    print(\"Por lo tanto, el modelo acertó en esta clasificación\")\n",
    "else:\n",
    "    print(\"Por lo tanto, el modelo falló en esta clasificación\")"
   ]
  }
 ],
 "metadata": {
  "kernelspec": {
   "display_name": "Python 3 (ipykernel)",
   "language": "python",
   "name": "python3"
  },
  "language_info": {
   "codemirror_mode": {
    "name": "ipython",
    "version": 3
   },
   "file_extension": ".py",
   "mimetype": "text/x-python",
   "name": "python",
   "nbconvert_exporter": "python",
   "pygments_lexer": "ipython3",
   "version": "3.8.10"
  },
  "vscode": {
   "interpreter": {
    "hash": "e7370f93d1d0cde622a1f8e1c04877d8463912d04d973331ad4851f04de6915a"
   }
  }
 },
 "nbformat": 4,
 "nbformat_minor": 4
}
