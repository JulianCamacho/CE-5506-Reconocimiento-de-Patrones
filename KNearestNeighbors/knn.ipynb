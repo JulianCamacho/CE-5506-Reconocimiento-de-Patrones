{
 "cells": [
  {
   "cell_type": "markdown",
   "metadata": {},
   "source": [
    "# K-Nearest Neighbors Classification"
   ]
  },
  {
   "cell_type": "markdown",
   "metadata": {},
   "source": [
    "### 3. Teoría\n",
    "\n",
    "**1. Indique cual es costo de “Training” y de test del algoritmo KNN**\n",
    "\n",
    "Es costoso porque ocupa gran cantidad de memoria, y además de que es finita, su acceso es caro. Adicionalmente, su ejecución es muy costosa debido a que debe comparar la distancia de cada nueva instancia con otras del set de datos.\n",
    "En términos de Big O, el costo de entrenamiento es de O(1), ya que se almacenan una sola vez. Por otro lado, el costo de test es de O(N*D), donde N es la cantidad de feature vectors y D es la cantidad de features en cada uno. Si D = N, entonces el costo será de O(N^2).\n",
    "\n",
    "**2. Explique por qué se dice que instance learning es un algoritmo por fuerza bruta o perezoso.**\n",
    "\n",
    "Se dice que es un algoritmo perezoso o por fuerza bruta ya que no hay un entrenamiento con lógica, sino que simplemente se compara con el resto de la base de datos a través de la busca de una similitud o de distancia, y se enfoca en encontrar el caso más cercano.\n",
    "\n",
    "**3. Indique cuántas comparaciones se deben realizar en la etapa de testeo (asumiendo el peor de los casos).**\n",
    "\n",
    "En la etapa de testeo, en el peor de los casos se debe comparar cada nueva instancia del conjunto de prueba con todas y cada una de las del conjunto de training, por lo que para una se deben hacer N comparaciones, donde N es la cantidad de instancias en el conjunto de training. Para una etapa de testeo con M instancias en el conjunto de prueba, se deben realizar entonces M*N comparaciones.\n",
    "\n",
    "**4. Investigue alguna modificación que se ha realizado al algoritmo original del KNN.**\n",
    "\n",
    "inc-k-MSN es una de las modificaciones del algoritmo original del KNN, esta nueva modificación no almacena el conjunto de datos de entrenamiento en la memoria provincial, solamente guarda el objeto a clasificar, así como los k vecinos más similares calculados hasta el paso.\n"
   ]
  },
  {
   "cell_type": "code",
   "execution_count": 3,
   "metadata": {},
   "outputs": [],
   "source": [
    "import numpy as np\n"
   ]
  },
  {
   "cell_type": "code",
   "execution_count": 6,
   "metadata": {},
   "outputs": [],
   "source": [
    "def euclidian_distance(a, b):\n",
    "    return np.sqrt(np.sum((a-b)**2, axis=1))\n",
    "\n",
    "# res = 0\n",
    "# for j in range(D):\n",
    "#     res += (a[j] - b[j])**2\n",
    "# sqrt(res)"
   ]
  },
  {
   "cell_type": "code",
   "execution_count": 8,
   "metadata": {},
   "outputs": [],
   "source": [
    "def score(X_test, y_test):\n",
    "    y_pred = predict(X_test)\n",
    "        \n",
    "    return float(sum(y_pred == y_test))/ float(len(y_test))"
   ]
  },
  {
   "cell_type": "code",
   "execution_count": 9,
   "metadata": {},
   "outputs": [],
   "source": [
    "class KNearestNeighbors():\n",
    "    def __init__(self, X_train, y_train, n_neighbors=5, weights='distance'):\n",
    "\n",
    "        self.X_train = X_train\n",
    "        self.y_train = y_train\n",
    "\n",
    "        self.n_neighbors = n_neighbors\n",
    "        self.weights = weights\n",
    "\n",
    "        self.n_classes = 3\n",
    "\n",
    "    def euclidian_distance(self, a, b):\n",
    "        return np.sqrt(np.sum((a - b)**2, axis=1))\n",
    "\n",
    "    def kneighbors(self, X_test, return_distance=False):\n",
    "\n",
    "        dist = []\n",
    "        neigh_ind = []\n",
    "\n",
    "#         print(X_test, self.X_train. X_test, self.X_train)\n",
    "        point_dist = []\n",
    "        for x_test in X_test:\n",
    "            point_dist += [ self.euclidian_distance(x_test, self.X_train) ]\n",
    "\n",
    "        for row in point_dist:\n",
    "            enum_neigh = enumerate(row)\n",
    "            sorted_neigh = sorted(enum_neigh,\n",
    "                                  key=lambda x: x[1])[:self.n_neighbors]\n",
    "\n",
    "            ind_list = [tup[0] for tup in sorted_neigh]\n",
    "            dist_list = [tup[1] for tup in sorted_neigh]\n",
    "\n",
    "            dist.append(dist_list)\n",
    "            neigh_ind.append(ind_list)\n",
    "\n",
    "        if return_distance:\n",
    "            return np.array(dist), np.array(neigh_ind)\n",
    "\n",
    "        return np.array(neigh_ind)\n",
    "\n",
    "    def predict(self, X_test):\n",
    "\n",
    "        if self.weights == 'uniform':\n",
    "            neighbors = self.kneighbors(X_test)\n",
    "            y_pred = np.array([\n",
    "                np.argmax(np.bincount(self.y_train[neighbor]))\n",
    "                for neighbor in neighbors\n",
    "            ])\n",
    "            #print(\"Y_pred: \", y_pred)\n",
    "            return y_pred\n",
    "\n",
    "        if self.weights == 'distance':\n",
    "\n",
    "            dist, neigh_ind = self.kneighbors(X_test, return_distance=True)\n",
    "            inv_dist =1/dist\n",
    "            mean_in_dist = inv_dist/ np.sum(inv_dist, axis=1)[:, np.newaxis]\n",
    "            proba=[]\n",
    "            \n",
    "            for i, row in enumerate(mean_in_dist):\n",
    "                row_pred = self.y_train[neigh_ind[i]]\n",
    "                for k in range(self.n_classes):\n",
    "                    indices = np.where(row_pred ==k)\n",
    "                    prob_ind = np.sum(row[indices])\n",
    "                    proba.append(np.array(prob_ind))\n",
    "            predict_proba =np.array(proba).reshape(X_test.shape[0],self.n_classes)\n",
    "            y_pred = np.array([np.argmax(item) for item in predict_proba])\n",
    "\n",
    "            return y_pred\n",
    "\n",
    "    def score(self, X_test, y_test):\n",
    "        y_pred = self.predict(X_test)\n",
    "        return float(sum(y_pred == y_test)) / float(len(y_test)), y_pred, y_test\n"
   ]
  },
  {
   "cell_type": "markdown",
   "metadata": {},
   "source": [
    "# Iris dataset (Observations/Treatments)"
   ]
  },
  {
   "cell_type": "code",
   "execution_count": 10,
   "metadata": {},
   "outputs": [],
   "source": [
    "import sklearn.datasets as datasets\n",
    "from sklearn.model_selection import train_test_split\n",
    "from sklearn.neighbors import KNeighborsClassifier\n",
    "import pandas as pd\n",
    "import time\n",
    "from matplotlib import pyplot as plt\n",
    "dataset = datasets.load_iris(as_frame=True)\n",
    "\n",
    "X = dataset.data\n",
    "y = dataset.target\n"
   ]
  },
  {
   "cell_type": "code",
   "execution_count": 11,
   "metadata": {},
   "outputs": [
    {
     "data": {
      "text/html": [
       "<div>\n",
       "<style scoped>\n",
       "    .dataframe tbody tr th:only-of-type {\n",
       "        vertical-align: middle;\n",
       "    }\n",
       "\n",
       "    .dataframe tbody tr th {\n",
       "        vertical-align: top;\n",
       "    }\n",
       "\n",
       "    .dataframe thead th {\n",
       "        text-align: right;\n",
       "    }\n",
       "</style>\n",
       "<table border=\"1\" class=\"dataframe\">\n",
       "  <thead>\n",
       "    <tr style=\"text-align: right;\">\n",
       "      <th></th>\n",
       "      <th>sepal length (cm)</th>\n",
       "      <th>sepal width (cm)</th>\n",
       "      <th>petal length (cm)</th>\n",
       "      <th>petal width (cm)</th>\n",
       "    </tr>\n",
       "  </thead>\n",
       "  <tbody>\n",
       "    <tr>\n",
       "      <th>0</th>\n",
       "      <td>5.1</td>\n",
       "      <td>3.5</td>\n",
       "      <td>1.4</td>\n",
       "      <td>0.2</td>\n",
       "    </tr>\n",
       "    <tr>\n",
       "      <th>1</th>\n",
       "      <td>4.9</td>\n",
       "      <td>3.0</td>\n",
       "      <td>1.4</td>\n",
       "      <td>0.2</td>\n",
       "    </tr>\n",
       "    <tr>\n",
       "      <th>2</th>\n",
       "      <td>4.7</td>\n",
       "      <td>3.2</td>\n",
       "      <td>1.3</td>\n",
       "      <td>0.2</td>\n",
       "    </tr>\n",
       "    <tr>\n",
       "      <th>3</th>\n",
       "      <td>4.6</td>\n",
       "      <td>3.1</td>\n",
       "      <td>1.5</td>\n",
       "      <td>0.2</td>\n",
       "    </tr>\n",
       "    <tr>\n",
       "      <th>4</th>\n",
       "      <td>5.0</td>\n",
       "      <td>3.6</td>\n",
       "      <td>1.4</td>\n",
       "      <td>0.2</td>\n",
       "    </tr>\n",
       "    <tr>\n",
       "      <th>5</th>\n",
       "      <td>5.4</td>\n",
       "      <td>3.9</td>\n",
       "      <td>1.7</td>\n",
       "      <td>0.4</td>\n",
       "    </tr>\n",
       "    <tr>\n",
       "      <th>6</th>\n",
       "      <td>4.6</td>\n",
       "      <td>3.4</td>\n",
       "      <td>1.4</td>\n",
       "      <td>0.3</td>\n",
       "    </tr>\n",
       "    <tr>\n",
       "      <th>7</th>\n",
       "      <td>5.0</td>\n",
       "      <td>3.4</td>\n",
       "      <td>1.5</td>\n",
       "      <td>0.2</td>\n",
       "    </tr>\n",
       "    <tr>\n",
       "      <th>8</th>\n",
       "      <td>4.4</td>\n",
       "      <td>2.9</td>\n",
       "      <td>1.4</td>\n",
       "      <td>0.2</td>\n",
       "    </tr>\n",
       "    <tr>\n",
       "      <th>9</th>\n",
       "      <td>4.9</td>\n",
       "      <td>3.1</td>\n",
       "      <td>1.5</td>\n",
       "      <td>0.1</td>\n",
       "    </tr>\n",
       "    <tr>\n",
       "      <th>10</th>\n",
       "      <td>5.4</td>\n",
       "      <td>3.7</td>\n",
       "      <td>1.5</td>\n",
       "      <td>0.2</td>\n",
       "    </tr>\n",
       "    <tr>\n",
       "      <th>11</th>\n",
       "      <td>4.8</td>\n",
       "      <td>3.4</td>\n",
       "      <td>1.6</td>\n",
       "      <td>0.2</td>\n",
       "    </tr>\n",
       "    <tr>\n",
       "      <th>12</th>\n",
       "      <td>4.8</td>\n",
       "      <td>3.0</td>\n",
       "      <td>1.4</td>\n",
       "      <td>0.1</td>\n",
       "    </tr>\n",
       "    <tr>\n",
       "      <th>13</th>\n",
       "      <td>4.3</td>\n",
       "      <td>3.0</td>\n",
       "      <td>1.1</td>\n",
       "      <td>0.1</td>\n",
       "    </tr>\n",
       "    <tr>\n",
       "      <th>14</th>\n",
       "      <td>5.8</td>\n",
       "      <td>4.0</td>\n",
       "      <td>1.2</td>\n",
       "      <td>0.2</td>\n",
       "    </tr>\n",
       "    <tr>\n",
       "      <th>15</th>\n",
       "      <td>5.7</td>\n",
       "      <td>4.4</td>\n",
       "      <td>1.5</td>\n",
       "      <td>0.4</td>\n",
       "    </tr>\n",
       "    <tr>\n",
       "      <th>16</th>\n",
       "      <td>5.4</td>\n",
       "      <td>3.9</td>\n",
       "      <td>1.3</td>\n",
       "      <td>0.4</td>\n",
       "    </tr>\n",
       "    <tr>\n",
       "      <th>17</th>\n",
       "      <td>5.1</td>\n",
       "      <td>3.5</td>\n",
       "      <td>1.4</td>\n",
       "      <td>0.3</td>\n",
       "    </tr>\n",
       "    <tr>\n",
       "      <th>18</th>\n",
       "      <td>5.7</td>\n",
       "      <td>3.8</td>\n",
       "      <td>1.7</td>\n",
       "      <td>0.3</td>\n",
       "    </tr>\n",
       "    <tr>\n",
       "      <th>19</th>\n",
       "      <td>5.1</td>\n",
       "      <td>3.8</td>\n",
       "      <td>1.5</td>\n",
       "      <td>0.3</td>\n",
       "    </tr>\n",
       "  </tbody>\n",
       "</table>\n",
       "</div>"
      ],
      "text/plain": [
       "    sepal length (cm)  sepal width (cm)  petal length (cm)  petal width (cm)\n",
       "0                 5.1               3.5                1.4               0.2\n",
       "1                 4.9               3.0                1.4               0.2\n",
       "2                 4.7               3.2                1.3               0.2\n",
       "3                 4.6               3.1                1.5               0.2\n",
       "4                 5.0               3.6                1.4               0.2\n",
       "5                 5.4               3.9                1.7               0.4\n",
       "6                 4.6               3.4                1.4               0.3\n",
       "7                 5.0               3.4                1.5               0.2\n",
       "8                 4.4               2.9                1.4               0.2\n",
       "9                 4.9               3.1                1.5               0.1\n",
       "10                5.4               3.7                1.5               0.2\n",
       "11                4.8               3.4                1.6               0.2\n",
       "12                4.8               3.0                1.4               0.1\n",
       "13                4.3               3.0                1.1               0.1\n",
       "14                5.8               4.0                1.2               0.2\n",
       "15                5.7               4.4                1.5               0.4\n",
       "16                5.4               3.9                1.3               0.4\n",
       "17                5.1               3.5                1.4               0.3\n",
       "18                5.7               3.8                1.7               0.3\n",
       "19                5.1               3.8                1.5               0.3"
      ]
     },
     "execution_count": 11,
     "metadata": {},
     "output_type": "execute_result"
    }
   ],
   "source": [
    "X.head(20)"
   ]
  },
  {
   "cell_type": "markdown",
   "metadata": {},
   "source": [
    "### 4.1.2"
   ]
  },
  {
   "cell_type": "code",
   "execution_count": 12,
   "metadata": {},
   "outputs": [
    {
     "name": "stdout",
     "output_type": "stream",
     "text": [
      "[0 0 2 0 0 0 0 2 2 2 0 2 2 2 1 0 2 2 0 1] [0 0 2 0 0 0 0 2 2 2 0 2 2 2 2 0 2 2 0 1]\n"
     ]
    },
    {
     "data": {
      "text/html": [
       "<div>\n",
       "<style scoped>\n",
       "    .dataframe tbody tr th:only-of-type {\n",
       "        vertical-align: middle;\n",
       "    }\n",
       "\n",
       "    .dataframe tbody tr th {\n",
       "        vertical-align: top;\n",
       "    }\n",
       "\n",
       "    .dataframe thead th {\n",
       "        text-align: right;\n",
       "    }\n",
       "</style>\n",
       "<table border=\"1\" class=\"dataframe\">\n",
       "  <thead>\n",
       "    <tr style=\"text-align: right;\">\n",
       "      <th></th>\n",
       "      <th>Our Implementation</th>\n",
       "      <th>Sklearn's Implementation</th>\n",
       "    </tr>\n",
       "  </thead>\n",
       "  <tbody>\n",
       "    <tr>\n",
       "      <th>2</th>\n",
       "      <td>0.955556</td>\n",
       "      <td>0.955556</td>\n",
       "    </tr>\n",
       "    <tr>\n",
       "      <th>3</th>\n",
       "      <td>0.955556</td>\n",
       "      <td>0.955556</td>\n",
       "    </tr>\n",
       "    <tr>\n",
       "      <th>4</th>\n",
       "      <td>0.955556</td>\n",
       "      <td>0.955556</td>\n",
       "    </tr>\n",
       "    <tr>\n",
       "      <th>5</th>\n",
       "      <td>0.955556</td>\n",
       "      <td>0.955556</td>\n",
       "    </tr>\n",
       "    <tr>\n",
       "      <th>6</th>\n",
       "      <td>0.955556</td>\n",
       "      <td>0.955556</td>\n",
       "    </tr>\n",
       "    <tr>\n",
       "      <th>7</th>\n",
       "      <td>0.955556</td>\n",
       "      <td>0.955556</td>\n",
       "    </tr>\n",
       "    <tr>\n",
       "      <th>9</th>\n",
       "      <td>0.955556</td>\n",
       "      <td>0.955556</td>\n",
       "    </tr>\n",
       "    <tr>\n",
       "      <th>11</th>\n",
       "      <td>0.955556</td>\n",
       "      <td>0.955556</td>\n",
       "    </tr>\n",
       "  </tbody>\n",
       "</table>\n",
       "</div>"
      ],
      "text/plain": [
       "    Our Implementation  Sklearn's Implementation\n",
       "2             0.955556                  0.955556\n",
       "3             0.955556                  0.955556\n",
       "4             0.955556                  0.955556\n",
       "5             0.955556                  0.955556\n",
       "6             0.955556                  0.955556\n",
       "7             0.955556                  0.955556\n",
       "9             0.955556                  0.955556\n",
       "11            0.955556                  0.955556"
      ]
     },
     "execution_count": 12,
     "metadata": {},
     "output_type": "execute_result"
    }
   ],
   "source": [
    "if isinstance(X, pd.DataFrame):\n",
    "    X = X.to_numpy()\n",
    "    y = y.to_numpy()\n",
    "\n",
    "X_train, X_test, y_train, y_test = train_test_split(\\\n",
    "                X, y, test_size=0.3, random_state=45)\n",
    "\n",
    "\n",
    "k_values = [2,3,4,5,6,7,9,11]\n",
    "our_accuracy_list = []\n",
    "sklearn_accuracy_list = []\n",
    "our_time_list = []\n",
    "sklearn_time_list = []\n",
    "\n",
    "for k in k_values:\n",
    "    start_time = time.time()\n",
    "    our_classifier = KNearestNeighbors(X_train, y_train, n_neighbors=k)\n",
    "    end_time = time.time()\n",
    "    time_taken_our_classifier = end_time - start_time\n",
    "    our_time_list.append(time_taken_our_classifier)\n",
    "    \n",
    "    start_time = time.time()\n",
    "    sklearn_classifier = KNeighborsClassifier(n_neighbors=k).fit(X_train, y_train)\n",
    "    end_time = time.time()\n",
    "    time_taken_sklearn_classifier = end_time - start_time\n",
    "    sklearn_time_list.append(time_taken_sklearn_classifier)\n",
    "\n",
    "    our_accuracy, y_pred, y_test = our_classifier.score(X_test, y_test)\n",
    "    sklearn_accuracy = sklearn_classifier.score(X_test, y_test)\n",
    "\n",
    "    our_accuracy_list.append(our_accuracy)\n",
    "    sklearn_accuracy_list.append(sklearn_accuracy)\n",
    "\n",
    "print(y_pred[:20], y_test[:20])\n",
    "\n",
    "\n",
    "accuracy_data = {\n",
    "  \"Our Implementation\": our_accuracy_list,\n",
    "  \"Sklearn\\'s Implementation\": sklearn_accuracy_list\n",
    "}\n",
    "pd.DataFrame(accuracy_data, index = k_values)"
   ]
  },
  {
   "cell_type": "code",
   "execution_count": 13,
   "metadata": {},
   "outputs": [
    {
     "data": {
      "text/html": [
       "<div>\n",
       "<style scoped>\n",
       "    .dataframe tbody tr th:only-of-type {\n",
       "        vertical-align: middle;\n",
       "    }\n",
       "\n",
       "    .dataframe tbody tr th {\n",
       "        vertical-align: top;\n",
       "    }\n",
       "\n",
       "    .dataframe thead th {\n",
       "        text-align: right;\n",
       "    }\n",
       "</style>\n",
       "<table border=\"1\" class=\"dataframe\">\n",
       "  <thead>\n",
       "    <tr style=\"text-align: right;\">\n",
       "      <th></th>\n",
       "      <th>Our Implementation</th>\n",
       "      <th>Sklearn's Implementation</th>\n",
       "    </tr>\n",
       "  </thead>\n",
       "  <tbody>\n",
       "    <tr>\n",
       "      <th>2</th>\n",
       "      <td>0.000007</td>\n",
       "      <td>0.001396</td>\n",
       "    </tr>\n",
       "    <tr>\n",
       "      <th>3</th>\n",
       "      <td>0.000004</td>\n",
       "      <td>0.000611</td>\n",
       "    </tr>\n",
       "    <tr>\n",
       "      <th>4</th>\n",
       "      <td>0.000004</td>\n",
       "      <td>0.000591</td>\n",
       "    </tr>\n",
       "    <tr>\n",
       "      <th>5</th>\n",
       "      <td>0.000005</td>\n",
       "      <td>0.000617</td>\n",
       "    </tr>\n",
       "    <tr>\n",
       "      <th>6</th>\n",
       "      <td>0.000004</td>\n",
       "      <td>0.000594</td>\n",
       "    </tr>\n",
       "    <tr>\n",
       "      <th>7</th>\n",
       "      <td>0.000004</td>\n",
       "      <td>0.000584</td>\n",
       "    </tr>\n",
       "    <tr>\n",
       "      <th>9</th>\n",
       "      <td>0.000004</td>\n",
       "      <td>0.000572</td>\n",
       "    </tr>\n",
       "    <tr>\n",
       "      <th>11</th>\n",
       "      <td>0.000004</td>\n",
       "      <td>0.000591</td>\n",
       "    </tr>\n",
       "  </tbody>\n",
       "</table>\n",
       "</div>"
      ],
      "text/plain": [
       "    Our Implementation  Sklearn's Implementation\n",
       "2             0.000007                  0.001396\n",
       "3             0.000004                  0.000611\n",
       "4             0.000004                  0.000591\n",
       "5             0.000005                  0.000617\n",
       "6             0.000004                  0.000594\n",
       "7             0.000004                  0.000584\n",
       "9             0.000004                  0.000572\n",
       "11            0.000004                  0.000591"
      ]
     },
     "execution_count": 13,
     "metadata": {},
     "output_type": "execute_result"
    }
   ],
   "source": [
    "time_data = {\n",
    "  \"Our Implementation\": our_time_list,\n",
    "  \"Sklearn\\'s Implementation\": sklearn_time_list\n",
    "}\n",
    "pd.DataFrame(time_data, index = k_values)"
   ]
  },
  {
   "cell_type": "markdown",
   "metadata": {},
   "source": [
    "### 4.1.3"
   ]
  },
  {
   "cell_type": "code",
   "execution_count": 14,
   "metadata": {},
   "outputs": [
    {
     "data": {
      "image/png": "[encoded data removed]",
      "text/plain": [
       "<Figure size 432x288 with 1 Axes>"
      ]
     },
     "metadata": {
      "needs_background": "light"
     },
     "output_type": "display_data"
    }
   ],
   "source": [
    "plt.plot(k_values, our_accuracy_list)\n",
    "\n",
    "plt.title(\"K vs Precisión: Nuestra Implementación\")\n",
    "plt.xlabel(\"Valores de K\")\n",
    "plt.ylabel(\"Precisión\")\n",
    "\n",
    "plt.show()"
   ]
  },
  {
   "cell_type": "code",
   "execution_count": 15,
   "metadata": {},
   "outputs": [
    {
     "data": {
      "image/png": "[encoded data removed]",
      "text/plain": [
       "<Figure size 432x288 with 1 Axes>"
      ]
     },
     "metadata": {
      "needs_background": "light"
     },
     "output_type": "display_data"
    }
   ],
   "source": [
    "plt.plot(k_values, sklearn_accuracy_list)\n",
    "\n",
    "plt.title(\"K vs Precisión: Implementación de Sklearn\")\n",
    "plt.xlabel(\"Valores de K\")\n",
    "plt.ylabel(\"Precisión\")\n",
    "\n",
    "plt.show()"
   ]
  },
  {
   "cell_type": "markdown",
   "metadata": {},
   "source": [
    "#### Discusión"
   ]
  },
  {
   "cell_type": "markdown",
   "metadata": {},
   "source": [
    "# 4.2. Digits dataset"
   ]
  },
  {
   "cell_type": "code",
   "execution_count": 25,
   "metadata": {},
   "outputs": [
    {
     "data": {
      "image/png": "[encoded data removed]",
      "text/plain": [
       "<Figure size 576x432 with 12 Axes>"
      ]
     },
     "metadata": {
      "needs_background": "light"
     },
     "output_type": "display_data"
    },
    {
     "name": "stdout",
     "output_type": "stream",
     "text": [
      "[ 0.  0.  0. 12. 13.  5.  0.  0.  0.  0.  0. 11. 16.  9.  0.  0.  0.  0.\n",
      "  3. 15. 16.  6.  0.  0.  0.  7. 15. 16. 16.  2.  0.  0.  0.  0.  1. 16.\n",
      " 16.  3.  0.  0.  0.  0.  1. 16. 16.  6.  0.  0.  0.  0.  1. 16. 16.  6.\n",
      "  0.  0.  0.  0.  0. 11. 16. 10.  0.  0.]\n"
     ]
    }
   ],
   "source": [
    "from sklearn.datasets import load_digits\n",
    "import matplotlib.pyplot as plt\n",
    "digits = load_digits (n_class =10)\n",
    "fig, axes = plt.subplots(nrows=3, ncols=4, figsize=(8, 6))\n",
    "plt.gray()\n",
    "\n",
    "for i, ax in enumerate(axes.flat):\n",
    "    ax.imshow(digits.images[i])\n",
    "    ax.axis('off')\n",
    "\n",
    "plt.tight_layout()\n",
    "plt.show()\n",
    "print(digits.data[1])\n",
    "X = digits.data\n",
    "y = digits.target"
   ]
  },
  {
   "cell_type": "code",
   "execution_count": 17,
   "metadata": {},
   "outputs": [
    {
     "name": "stdout",
     "output_type": "stream",
     "text": [
      "El set tiene:  1797 datos\n",
      "El cada feature vector tiene:  64 features\n"
     ]
    }
   ],
   "source": [
    "print('El set tiene: ', X.shape[0], 'datos')\n",
    "print('El cada feature vector tiene: ', X.shape[1], 'features')"
   ]
  },
  {
   "cell_type": "code",
   "execution_count": 18,
   "metadata": {},
   "outputs": [
    {
     "name": "stdout",
     "output_type": "stream",
     "text": [
      "[0 0 0 0 0 0 1 0 0 0 0 0 0 0 0 0 0 2 2 0] [0 8 4 4 0 5 1 3 9 9 4 5 0 0 6 4 6 2 2 8]\n"
     ]
    },
    {
     "data": {
      "text/html": [
       "<div>\n",
       "<style scoped>\n",
       "    .dataframe tbody tr th:only-of-type {\n",
       "        vertical-align: middle;\n",
       "    }\n",
       "\n",
       "    .dataframe tbody tr th {\n",
       "        vertical-align: top;\n",
       "    }\n",
       "\n",
       "    .dataframe thead th {\n",
       "        text-align: right;\n",
       "    }\n",
       "</style>\n",
       "<table border=\"1\" class=\"dataframe\">\n",
       "  <thead>\n",
       "    <tr style=\"text-align: right;\">\n",
       "      <th></th>\n",
       "      <th>Our Implementation</th>\n",
       "      <th>Sklearn's Implementation</th>\n",
       "    </tr>\n",
       "  </thead>\n",
       "  <tbody>\n",
       "    <tr>\n",
       "      <th>2</th>\n",
       "      <td>0.277778</td>\n",
       "      <td>0.982222</td>\n",
       "    </tr>\n",
       "    <tr>\n",
       "      <th>3</th>\n",
       "      <td>0.277778</td>\n",
       "      <td>0.982222</td>\n",
       "    </tr>\n",
       "    <tr>\n",
       "      <th>5</th>\n",
       "      <td>0.277778</td>\n",
       "      <td>0.977778</td>\n",
       "    </tr>\n",
       "    <tr>\n",
       "      <th>7</th>\n",
       "      <td>0.277778</td>\n",
       "      <td>0.968889</td>\n",
       "    </tr>\n",
       "    <tr>\n",
       "      <th>8</th>\n",
       "      <td>0.277778</td>\n",
       "      <td>0.968889</td>\n",
       "    </tr>\n",
       "    <tr>\n",
       "      <th>10</th>\n",
       "      <td>0.275556</td>\n",
       "      <td>0.964444</td>\n",
       "    </tr>\n",
       "    <tr>\n",
       "      <th>11</th>\n",
       "      <td>0.275556</td>\n",
       "      <td>0.966667</td>\n",
       "    </tr>\n",
       "  </tbody>\n",
       "</table>\n",
       "</div>"
      ],
      "text/plain": [
       "    Our Implementation  Sklearn's Implementation\n",
       "2             0.277778                  0.982222\n",
       "3             0.277778                  0.982222\n",
       "5             0.277778                  0.977778\n",
       "7             0.277778                  0.968889\n",
       "8             0.277778                  0.968889\n",
       "10            0.275556                  0.964444\n",
       "11            0.275556                  0.966667"
      ]
     },
     "execution_count": 18,
     "metadata": {},
     "output_type": "execute_result"
    }
   ],
   "source": [
    "if isinstance(X, pd.DataFrame):\n",
    "    X = X.to_numpy()\n",
    "    y = y.to_numpy()\n",
    "\n",
    "n_samples = len(digits.images)\n",
    "data = digits.images.reshape((n_samples, -1))\n",
    "\n",
    "from sklearn.model_selection import train_test_split\n",
    "X_train, X_test, y_train, y_test = train_test_split(data, y, test_size=0.25, random_state=45)\n",
    "\n",
    "k_values = [2,3,5,7,8,10,11]\n",
    "our_accuracy_list = []\n",
    "sklearn_accuracy_list = []\n",
    "\n",
    "for k in k_values:\n",
    "    our_classifier = KNearestNeighbors(X_train, y_train, n_neighbors=k)\n",
    "    sklearn_classifier = KNeighborsClassifier(n_neighbors=k).fit(X_train, y_train)\n",
    "\n",
    "    our_accuracy, y_pred, y_test = our_classifier.score(X_test, y_test)\n",
    "    sklearn_accuracy = sklearn_classifier.score(X_test, y_test)\n",
    "\n",
    "    our_accuracy_list.append(our_accuracy)\n",
    "    sklearn_accuracy_list.append(sklearn_accuracy)\n",
    "\n",
    "print(y_pred[:20], y_test[:20])\n",
    "\n",
    "\n",
    "accuracy_data = {\n",
    "  \"Our Implementation\": our_accuracy_list,\n",
    "  \"Sklearn\\'s Implementation\": sklearn_accuracy_list\n",
    "}\n",
    "pd.DataFrame(accuracy_data, index = k_values)"
   ]
  },
  {
   "cell_type": "code",
   "execution_count": 19,
   "metadata": {},
   "outputs": [
    {
     "data": {
      "image/png": "[encoded data removed]",
      "text/plain": [
       "<Figure size 432x288 with 1 Axes>"
      ]
     },
     "metadata": {
      "needs_background": "light"
     },
     "output_type": "display_data"
    }
   ],
   "source": [
    "plt.plot(k_values, our_accuracy_list)\n",
    "\n",
    "plt.title(\"K vs Precisión: Nuestra Implementación\")\n",
    "plt.xlabel(\"Valores de K\")\n",
    "plt.ylabel(\"Precisión\")\n",
    "\n",
    "plt.show()"
   ]
  },
  {
   "cell_type": "code",
   "execution_count": 20,
   "metadata": {},
   "outputs": [
    {
     "data": {
      "image/png": "[encoded data removed]",
      "text/plain": [
       "<Figure size 432x288 with 1 Axes>"
      ]
     },
     "metadata": {
      "needs_background": "light"
     },
     "output_type": "display_data"
    }
   ],
   "source": [
    "plt.plot(k_values, sklearn_accuracy_list)\n",
    "\n",
    "plt.title(\"K vs Precisión: Implementación de Sklearn\")\n",
    "plt.xlabel(\"Valores de K\")\n",
    "plt.ylabel(\"Precisión\")\n",
    "\n",
    "plt.show()"
   ]
  },
  {
   "cell_type": "code",
   "execution_count": 49,
   "metadata": {},
   "outputs": [
    {
     "data": {
      "image/png": "[encoded data removed]",
      "text/plain": [
       "<Figure size 640x480 with 1 Axes>"
      ]
     },
     "metadata": {},
     "output_type": "display_data"
    },
    {
     "name": "stdout",
     "output_type": "stream",
     "text": [
      "source data in 8x8:\n",
      " [[ 0  0  0 15  0  0  0  0]\n",
      " [ 0  0 15  0  0  0 16  6]\n",
      " [ 0  0 15  0  0  0 15  0]\n",
      " [ 0 15 16 16 13 15  1  0]\n",
      " [ 1  0  0  0  0  8  0  0]\n",
      " [ 0  0  0  0 16  0  0  0]\n",
      " [ 0  0  0  0 16  0  0  0]\n",
      " [ 0  0  0 14  0  0  0  0]]\n",
      "[0]\n"
     ]
    }
   ],
   "source": [
    "def rgb2gray(rgb):\n",
    "    return np.dot(rgb[...,:3], [0.299, 0.587, 0.114])\n",
    "\n",
    "img = plt.imread('./numeros/4b.png')\n",
    "gray = rgb2gray(img)\n",
    "a=(16-gray*16).astype(int) # really weird here, but try to convert to 0..16\n",
    "plt.imshow(a, cmap = plt.get_cmap('gray_r'))\n",
    "plt.show()\n",
    "print(\"source data in 8x8:\\n\",a)\n",
    "\n",
    "our_classifier = KNearestNeighbors(X_train, y_train, n_neighbors=k)\n",
    "sklearn_classifier = KNeighborsClassifier(n_neighbors=k).fit(X_train, y_train)\n",
    "\n",
    "predicted = our_classifier.predict(a.flatten().reshape(1, -1))\n",
    "print(predicted)"
   ]
  },
  {
   "cell_type": "code",
   "execution_count": 50,
   "metadata": {},
   "outputs": [
    {
     "data": {
      "image/png": "[encoded data removed]",
      "text/plain": [
       "<Figure size 640x480 with 1 Axes>"
      ]
     },
     "metadata": {},
     "output_type": "display_data"
    },
    {
     "name": "stdout",
     "output_type": "stream",
     "text": [
      "source data in 8x8:\n",
      " [[ 0  0  0  0  0  0  0  0]\n",
      " [ 0  0  0 15 15 16  8  0]\n",
      " [ 0  0 14  0  0  0 15  0]\n",
      " [ 0 16  0  0  0  0  0  0]\n",
      " [ 0  2  0  0  0  0 16  0]\n",
      " [ 0 15  0  0 15 16  0  0]\n",
      " [ 0 15 15  4  0  0  0  0]\n",
      " [ 0  0  0  0  0  0  0  0]]\n",
      "[0]\n"
     ]
    }
   ],
   "source": [
    "def rgb2gray(rgb):\n",
    "    return np.dot(rgb[...,:3], [0.299, 0.587, 0.114])\n",
    "\n",
    "img = plt.imread('./numeros/0b.png')\n",
    "gray = rgb2gray(img)\n",
    "a=(16-gray*16).astype(int) # really weird here, but try to convert to 0..16\n",
    "plt.imshow(a, cmap = plt.get_cmap('gray_r'))\n",
    "plt.show()\n",
    "print(\"source data in 8x8:\\n\",a)\n",
    "\n",
    "our_classifier = KNearestNeighbors(X_train, y_train, n_neighbors=k)\n",
    "sklearn_classifier = KNeighborsClassifier(n_neighbors=k).fit(X_train, y_train)\n",
    "\n",
    "predicted = our_classifier.predict(a.flatten().reshape(1, -1))\n",
    "print(predicted)"
   ]
  },
  {
   "cell_type": "code",
   "execution_count": 51,
   "metadata": {},
   "outputs": [
    {
     "data": {
      "image/png": "[encoded data removed]",
      "text/plain": [
       "<Figure size 640x480 with 1 Axes>"
      ]
     },
     "metadata": {},
     "output_type": "display_data"
    },
    {
     "name": "stdout",
     "output_type": "stream",
     "text": [
      "source data in 8x8:\n",
      " [[ 0  0  0 16 16 15  0  0]\n",
      " [ 0  0  0  0  0  0 15  0]\n",
      " [ 0  0  0  0  0 16  0  0]\n",
      " [ 0  0  0 16 16  0  0  0]\n",
      " [ 0  0  0  0  0 16  0  0]\n",
      " [ 0  0  0  0  0  0 16  0]\n",
      " [ 0  0  0 15 15 15 16  0]\n",
      " [ 0  0  0  0  0  0  0  0]]\n",
      "[0]\n"
     ]
    }
   ],
   "source": [
    "def rgb2gray(rgb):\n",
    "    return np.dot(rgb[...,:3], [0.299, 0.587, 0.114])\n",
    "\n",
    "img = plt.imread('./numeros/3b.png')\n",
    "gray = rgb2gray(img)\n",
    "a=(16-gray*16).astype(int) # really weird here, but try to convert to 0..16\n",
    "plt.imshow(a, cmap = plt.get_cmap('gray_r'))\n",
    "plt.show()\n",
    "print(\"source data in 8x8:\\n\",a)\n",
    "\n",
    "our_classifier = KNearestNeighbors(X_train, y_train, n_neighbors=k)\n",
    "sklearn_classifier = KNeighborsClassifier(n_neighbors=k).fit(X_train, y_train)\n",
    "\n",
    "predicted = our_classifier.predict(a.flatten().reshape(1, -1))\n",
    "print(predicted)"
   ]
  },
  {
   "cell_type": "code",
   "execution_count": 52,
   "metadata": {},
   "outputs": [
    {
     "data": {
      "image/png": "[encoded data removed]",
      "text/plain": [
       "<Figure size 640x480 with 1 Axes>"
      ]
     },
     "metadata": {},
     "output_type": "display_data"
    },
    {
     "name": "stdout",
     "output_type": "stream",
     "text": [
      "source data in 8x8:\n",
      " [[ 0  0  0 16 16 15  1  0]\n",
      " [ 0  0 16  0  0  0 15  0]\n",
      " [ 0  0  0 16  0 16  0  0]\n",
      " [ 0  0  0  4 15  5  0  0]\n",
      " [ 0  0 16 15  0 16  0  0]\n",
      " [ 1 15  0  0  0  0 16  0]\n",
      " [15 15 15 15 15 15 16  0]\n",
      " [ 0  0  0  0  0  0  0  0]]\n",
      "[0]\n"
     ]
    }
   ],
   "source": [
    "def rgb2gray(rgb):\n",
    "    return np.dot(rgb[...,:3], [0.299, 0.587, 0.114])\n",
    "\n",
    "img = plt.imread('./numeros/8b.png')\n",
    "gray = rgb2gray(img)\n",
    "a=(16-gray*16).astype(int) # really weird here, but try to convert to 0..16\n",
    "plt.imshow(a, cmap = plt.get_cmap('gray_r'))\n",
    "plt.show()\n",
    "print(\"source data in 8x8:\\n\",a)\n",
    "\n",
    "our_classifier = KNearestNeighbors(X_train, y_train, n_neighbors=k)\n",
    "sklearn_classifier = KNeighborsClassifier(n_neighbors=k).fit(X_train, y_train)\n",
    "\n",
    "predicted = our_classifier.predict(a.flatten().reshape(1, -1))\n",
    "print(predicted)"
   ]
  },
  {
   "cell_type": "code",
   "execution_count": 53,
   "metadata": {},
   "outputs": [
    {
     "data": {
      "image/png": "[encoded data removed]",
      "text/plain": [
       "<Figure size 640x480 with 1 Axes>"
      ]
     },
     "metadata": {},
     "output_type": "display_data"
    },
    {
     "name": "stdout",
     "output_type": "stream",
     "text": [
      "source data in 8x8:\n",
      " [[ 0  0  0 15  0  0  0  0]\n",
      " [ 0  0 15  0  0  0 16  6]\n",
      " [ 0  0 15  0  0  0 15  0]\n",
      " [ 0 15 16 16 13 15  1  0]\n",
      " [ 1  0  0  0  0  8  0  0]\n",
      " [ 0  0  0  0 16  0  0  0]\n",
      " [ 0  0  0  0 16  0  0  0]\n",
      " [ 0  0  0 14  0  0  0  0]]\n",
      "[0]\n"
     ]
    }
   ],
   "source": [
    "def rgb2gray(rgb):\n",
    "    return np.dot(rgb[...,:3], [0.299, 0.587, 0.114])\n",
    "\n",
    "img = plt.imread('./numeros/4b.png')\n",
    "gray = rgb2gray(img)\n",
    "a=(16-gray*16).astype(int) # really weird here, but try to convert to 0..16\n",
    "plt.imshow(a, cmap = plt.get_cmap('gray_r'))\n",
    "plt.show()\n",
    "print(\"source data in 8x8:\\n\",a)\n",
    "\n",
    "our_classifier = KNearestNeighbors(X_train, y_train, n_neighbors=k)\n",
    "sklearn_classifier = KNeighborsClassifier(n_neighbors=k).fit(X_train, y_train)\n",
    "\n",
    "predicted = our_classifier.predict(a.flatten().reshape(1, -1))\n",
    "print(predicted)"
   ]
  },
  {
   "cell_type": "code",
   "execution_count": null,
   "metadata": {},
   "outputs": [],
   "source": []
  }
 ],
 "metadata": {
  "kernelspec": {
   "display_name": "Python 3",
   "language": "python",
   "name": "python3"
  },
  "language_info": {
   "codemirror_mode": {
    "name": "ipython",
    "version": 3
   },
   "file_extension": ".py",
   "mimetype": "text/x-python",
   "name": "python",
   "nbconvert_exporter": "python",
   "pygments_lexer": "ipython3",
   "version": "3.8.10"
  },
  "vscode": {
   "interpreter": {
    "hash": "e7370f93d1d0cde622a1f8e1c04877d8463912d04d973331ad4851f04de6915a"
   }
  }
 },
 "nbformat": 4,
 "nbformat_minor": 4
}
