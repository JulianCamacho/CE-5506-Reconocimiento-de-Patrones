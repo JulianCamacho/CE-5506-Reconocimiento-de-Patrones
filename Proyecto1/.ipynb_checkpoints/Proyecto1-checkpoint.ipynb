{
 "cells": [
  {
   "cell_type": "markdown",
   "id": "ad9111d3",
   "metadata": {},
   "source": [
    "# Proyecto 1 Reconocimiento de Patrones\n",
    "\n",
    "José Julián Camacho Hernández\n",
    "\n",
    "Leonardo Guillén Fernández"
   ]
  },
  {
   "cell_type": "markdown",
   "id": "ecbe973d",
   "metadata": {},
   "source": [
    "## Regresión Logística"
   ]
  },
  {
   "cell_type": "code",
   "execution_count": 47,
   "id": "b814cba5",
   "metadata": {},
   "outputs": [
    {
     "name": "stdout",
     "output_type": "stream",
     "text": [
      "0       0\n",
      "1       0\n",
      "2       0\n",
      "3       1\n",
      "4       0\n",
      "       ..\n",
      "1594    0\n",
      "1595    1\n",
      "1596    1\n",
      "1597    0\n",
      "1598    1\n",
      "Name: quality, Length: 1599, dtype: int64\n"
     ]
    }
   ],
   "source": [
    "import pandas as pd\n",
    "import numpy as np\n",
    "from numpy.random import seed\n",
    "seed(42)\n",
    "\n",
    "# Cargar los datos de red wine quality\n",
    "data = pd.read_csv(\"winequality-red.csv\", usecols = ['quality'])\n",
    "data['quality'] = np.where(data['quality'] > 5, 1, 0)  # Convertir la calidad en un problema de clasificación binaria\n",
    "print(data['quality'])\n",
    "# Dividir los datos en conjunto de entrenamiento y prueba\n",
    "train_data = data.sample(frac=0.8, random_state=42)\n",
    "test_data = data.drop(train_data.index)"
   ]
  },
  {
   "cell_type": "code",
   "execution_count": 48,
   "id": "3591674b",
   "metadata": {},
   "outputs": [],
   "source": [
    "class LogisticRegressionN:\n",
    "    def __init__(self, learning_rate=0.01, max_iter=1000):\n",
    "        self.learning_rate = learning_rate\n",
    "        self.max_iter = max_iter\n",
    "\n",
    "    def fit(self, X, y):\n",
    "        # Inicializar los pesos\n",
    "        self.weights = np.zeros(X.shape[1])\n",
    "        self.bias = 0\n",
    "\n",
    "        # Gradiente descendiente estocástico\n",
    "        for i in range(self.max_iter):\n",
    "            # Tomar una muestra aleatoria\n",
    "            sample_index = np.random.choice(X.shape[0], 1)\n",
    "            X_sample = X[sample_index]\n",
    "            y_sample = y[sample_index]\n",
    "\n",
    "            # Calcular la predicción y el error\n",
    "            z = np.dot(X_sample, self.weights) + self.bias\n",
    "            y_pred = self._sigmoid(z)\n",
    "            error = y_sample - y_pred\n",
    "\n",
    "            # Actualizar los pesos\n",
    "            self.weights += self.learning_rate * np.dot(X_sample.T, error)\n",
    "            self.bias += self.learning_rate * np.sum(error)\n",
    "\n",
    "    def predict(self, X):\n",
    "        # Calcular la probabilidad de pertenecer a la clase positiva\n",
    "        z = np.dot(X, self.weights) + self.bias\n",
    "        y_pred = self._sigmoid(z)\n",
    "\n",
    "        # Convertir la probabilidad en una etiqueta de clase binaria\n",
    "        return np.round(y_pred)\n",
    "\n",
    "    def _sigmoid(self, z):\n",
    "        # Función sigmoide\n",
    "        return 1 / (1 + np.exp(-z))"
   ]
  },
  {
   "cell_type": "code",
   "execution_count": 49,
   "id": "d3459a87",
   "metadata": {},
   "outputs": [],
   "source": [
    "# Crear los vectores de características y etiquetas de entrenamiento y prueba\n",
    "X_train = train_data.drop(['quality'], axis=1).values\n",
    "y_train = train_data['quality'].values\n",
    "X_test = test_data.drop(['quality'], axis=1).values\n",
    "y_test = test_data['quality'].values\n",
    "\n",
    "# Entrenar el modelo de regresión logística\n",
    "model = LogisticRegressionN()\n",
    "model.fit(X_train, y_train)\n",
    "\n",
    "# Realizar predicciones sobre los datos de prueba\n",
    "y_pred = model.predict(X_test)\n"
   ]
  },
  {
   "cell_type": "code",
   "execution_count": 50,
   "id": "a6e8ca1e",
   "metadata": {},
   "outputs": [
    {
     "name": "stdout",
     "output_type": "stream",
     "text": [
      "Exactitud: 0.5625\n",
      "Precisión: 0.5625\n",
      "Recall: 1.0\n",
      "AUC: 0.5\n"
     ]
    }
   ],
   "source": [
    "from sklearn.metrics import accuracy_score, precision_score, recall_score, roc_auc_score, roc_curve\n",
    "\n",
    "# Calcular la exactitud\n",
    "accuracy = accuracy_score(y_test, y_pred)\n",
    "print(f\"Exactitud: {accuracy}\")\n",
    "\n",
    "# Calcular la precisión\n",
    "precision = precision_score(y_test, y_pred)\n",
    "print(f\"Precisión: {precision}\")\n",
    "\n",
    "# Calcular el recall\n",
    "recall = recall_score(y_test, y_pred)\n",
    "print(f\"Recall: {recall}\")\n",
    "\n",
    "# Calcular el AUC\n",
    "y_pred_proba = np.dot(X_test, model.weights) + model.bias\n",
    "auc = roc_auc_score(y_test, y_pred_proba)\n",
    "print(f\"AUC: {auc}\")\n",
    "\n",
    "# Calcular la curva ROC\n",
    "fpr, tpr, _ = roc_curve(y_test, y_pred_proba)\n"
   ]
  },
  {
   "cell_type": "markdown",
   "id": "3cf62598",
   "metadata": {},
   "source": [
    "### Set de datos Red Wine Quality"
   ]
  },
  {
   "cell_type": "code",
   "execution_count": null,
   "id": "83a53502",
   "metadata": {},
   "outputs": [],
   "source": []
  },
  {
   "cell_type": "markdown",
   "id": "95b222a1",
   "metadata": {},
   "source": [
    "### Set de datos Notas de Arquitectura de Computadores 1"
   ]
  },
  {
   "cell_type": "code",
   "execution_count": null,
   "id": "09dc6719",
   "metadata": {},
   "outputs": [],
   "source": []
  },
  {
   "cell_type": "markdown",
   "id": "40735c30",
   "metadata": {},
   "source": [
    "### Set de datos Propio"
   ]
  },
  {
   "cell_type": "code",
   "execution_count": null,
   "id": "cba95b30",
   "metadata": {},
   "outputs": [],
   "source": []
  },
  {
   "cell_type": "markdown",
   "id": "72ff68df",
   "metadata": {},
   "source": [
    "## Árboles de decisión"
   ]
  },
  {
   "cell_type": "code",
   "execution_count": null,
   "id": "740872ad",
   "metadata": {},
   "outputs": [],
   "source": []
  },
  {
   "cell_type": "markdown",
   "id": "3eca9148",
   "metadata": {},
   "source": [
    "### Set de datos Red Wine Quality"
   ]
  },
  {
   "cell_type": "code",
   "execution_count": null,
   "id": "f3e25672",
   "metadata": {},
   "outputs": [],
   "source": []
  },
  {
   "cell_type": "markdown",
   "id": "dad873da",
   "metadata": {},
   "source": [
    "### Set de datos Notas de Arquitectura de Computadores 1"
   ]
  },
  {
   "cell_type": "code",
   "execution_count": null,
   "id": "b0fd6ee0",
   "metadata": {},
   "outputs": [],
   "source": []
  },
  {
   "cell_type": "markdown",
   "id": "092afe24",
   "metadata": {},
   "source": [
    "### Set de datos Propio"
   ]
  },
  {
   "cell_type": "code",
   "execution_count": null,
   "id": "65902031",
   "metadata": {},
   "outputs": [],
   "source": []
  },
  {
   "cell_type": "markdown",
   "id": "7b04012c",
   "metadata": {},
   "source": [
    "## KNN"
   ]
  },
  {
   "cell_type": "code",
   "execution_count": null,
   "id": "45bf000f",
   "metadata": {},
   "outputs": [],
   "source": []
  },
  {
   "cell_type": "markdown",
   "id": "87429d42",
   "metadata": {},
   "source": [
    "### Set de datos Red Wine Quality"
   ]
  },
  {
   "cell_type": "code",
   "execution_count": null,
   "id": "938f60e0",
   "metadata": {},
   "outputs": [],
   "source": []
  },
  {
   "cell_type": "markdown",
   "id": "a0ae8b32",
   "metadata": {},
   "source": [
    "### Set de datos Notas de Arquitectura de Computadores 1"
   ]
  },
  {
   "cell_type": "code",
   "execution_count": null,
   "id": "e95233d0",
   "metadata": {},
   "outputs": [],
   "source": []
  },
  {
   "cell_type": "markdown",
   "id": "5869507f",
   "metadata": {},
   "source": [
    "### Set de datos Propio"
   ]
  },
  {
   "cell_type": "code",
   "execution_count": null,
   "id": "6305a3f0",
   "metadata": {},
   "outputs": [],
   "source": []
  },
  {
   "cell_type": "markdown",
   "id": "5a7fc3f9",
   "metadata": {},
   "source": [
    "## Comparación con sklearn"
   ]
  },
  {
   "cell_type": "code",
   "execution_count": 22,
   "id": "f2323f07",
   "metadata": {},
   "outputs": [],
   "source": [
    "from sklearn.datasets import load_wine\n",
    "import pandas as pd\n",
    "import matplotlib.pyplot as plt\n",
    "\n",
    "# Cargar el conjunto de datos de vino\n",
    "data = load_wine()\n",
    "\n",
    "# Crear un dataframe a partir de los datos\n",
    "df = pd.DataFrame(data.data, columns=data.feature_names)\n",
    "df['target'] = data.target"
   ]
  },
  {
   "cell_type": "code",
   "execution_count": 23,
   "id": "258cc42c",
   "metadata": {},
   "outputs": [],
   "source": [
    "from sklearn.model_selection import train_test_split\n",
    "\n",
    "# Separar los datos en conjunto de entrenamiento y prueba\n",
    "X_train, X_test, y_train, y_test = train_test_split(df.drop('target', axis=1), df['target'], test_size=0.2, random_state=42)\n"
   ]
  },
  {
   "cell_type": "code",
   "execution_count": 24,
   "id": "7fb10774",
   "metadata": {},
   "outputs": [
    {
     "name": "stderr",
     "output_type": "stream",
     "text": [
      "/home/guillen/.local/lib/python3.8/site-packages/sklearn/linear_model/_logistic.py:458: ConvergenceWarning: lbfgs failed to converge (status=1):\n",
      "STOP: TOTAL NO. of ITERATIONS REACHED LIMIT.\n",
      "\n",
      "Increase the number of iterations (max_iter) or scale the data as shown in:\n",
      "    https://scikit-learn.org/stable/modules/preprocessing.html\n",
      "Please also refer to the documentation for alternative solver options:\n",
      "    https://scikit-learn.org/stable/modules/linear_model.html#logistic-regression\n",
      "  n_iter_i = _check_optimize_result(\n"
     ]
    },
    {
     "data": {
      "text/html": [
       "<style>#sk-container-id-11 {color: black;background-color: white;}#sk-container-id-11 pre{padding: 0;}#sk-container-id-11 div.sk-toggleable {background-color: white;}#sk-container-id-11 label.sk-toggleable__label {cursor: pointer;display: block;width: 100%;margin-bottom: 0;padding: 0.3em;box-sizing: border-box;text-align: center;}#sk-container-id-11 label.sk-toggleable__label-arrow:before {content: \"▸\";float: left;margin-right: 0.25em;color: #696969;}#sk-container-id-11 label.sk-toggleable__label-arrow:hover:before {color: black;}#sk-container-id-11 div.sk-estimator:hover label.sk-toggleable__label-arrow:before {color: black;}#sk-container-id-11 div.sk-toggleable__content {max-height: 0;max-width: 0;overflow: hidden;text-align: left;background-color: #f0f8ff;}#sk-container-id-11 div.sk-toggleable__content pre {margin: 0.2em;color: black;border-radius: 0.25em;background-color: #f0f8ff;}#sk-container-id-11 input.sk-toggleable__control:checked~div.sk-toggleable__content {max-height: 200px;max-width: 100%;overflow: auto;}#sk-container-id-11 input.sk-toggleable__control:checked~label.sk-toggleable__label-arrow:before {content: \"▾\";}#sk-container-id-11 div.sk-estimator input.sk-toggleable__control:checked~label.sk-toggleable__label {background-color: #d4ebff;}#sk-container-id-11 div.sk-label input.sk-toggleable__control:checked~label.sk-toggleable__label {background-color: #d4ebff;}#sk-container-id-11 input.sk-hidden--visually {border: 0;clip: rect(1px 1px 1px 1px);clip: rect(1px, 1px, 1px, 1px);height: 1px;margin: -1px;overflow: hidden;padding: 0;position: absolute;width: 1px;}#sk-container-id-11 div.sk-estimator {font-family: monospace;background-color: #f0f8ff;border: 1px dotted black;border-radius: 0.25em;box-sizing: border-box;margin-bottom: 0.5em;}#sk-container-id-11 div.sk-estimator:hover {background-color: #d4ebff;}#sk-container-id-11 div.sk-parallel-item::after {content: \"\";width: 100%;border-bottom: 1px solid gray;flex-grow: 1;}#sk-container-id-11 div.sk-label:hover label.sk-toggleable__label {background-color: #d4ebff;}#sk-container-id-11 div.sk-serial::before {content: \"\";position: absolute;border-left: 1px solid gray;box-sizing: border-box;top: 0;bottom: 0;left: 50%;z-index: 0;}#sk-container-id-11 div.sk-serial {display: flex;flex-direction: column;align-items: center;background-color: white;padding-right: 0.2em;padding-left: 0.2em;position: relative;}#sk-container-id-11 div.sk-item {position: relative;z-index: 1;}#sk-container-id-11 div.sk-parallel {display: flex;align-items: stretch;justify-content: center;background-color: white;position: relative;}#sk-container-id-11 div.sk-item::before, #sk-container-id-11 div.sk-parallel-item::before {content: \"\";position: absolute;border-left: 1px solid gray;box-sizing: border-box;top: 0;bottom: 0;left: 50%;z-index: -1;}#sk-container-id-11 div.sk-parallel-item {display: flex;flex-direction: column;z-index: 1;position: relative;background-color: white;}#sk-container-id-11 div.sk-parallel-item:first-child::after {align-self: flex-end;width: 50%;}#sk-container-id-11 div.sk-parallel-item:last-child::after {align-self: flex-start;width: 50%;}#sk-container-id-11 div.sk-parallel-item:only-child::after {width: 0;}#sk-container-id-11 div.sk-dashed-wrapped {border: 1px dashed gray;margin: 0 0.4em 0.5em 0.4em;box-sizing: border-box;padding-bottom: 0.4em;background-color: white;}#sk-container-id-11 div.sk-label label {font-family: monospace;font-weight: bold;display: inline-block;line-height: 1.2em;}#sk-container-id-11 div.sk-label-container {text-align: center;}#sk-container-id-11 div.sk-container {/* jupyter's `normalize.less` sets `[hidden] { display: none; }` but bootstrap.min.css set `[hidden] { display: none !important; }` so we also need the `!important` here to be able to override the default hidden behavior on the sphinx rendered scikit-learn.org. See: https://github.com/scikit-learn/scikit-learn/issues/21755 */display: inline-block !important;position: relative;}#sk-container-id-11 div.sk-text-repr-fallback {display: none;}</style><div id=\"sk-container-id-11\" class=\"sk-top-container\"><div class=\"sk-text-repr-fallback\"><pre>LogisticRegression()</pre><b>In a Jupyter environment, please rerun this cell to show the HTML representation or trust the notebook. <br />On GitHub, the HTML representation is unable to render, please try loading this page with nbviewer.org.</b></div><div class=\"sk-container\" hidden><div class=\"sk-item\"><div class=\"sk-estimator sk-toggleable\"><input class=\"sk-toggleable__control sk-hidden--visually\" id=\"sk-estimator-id-11\" type=\"checkbox\" checked><label for=\"sk-estimator-id-11\" class=\"sk-toggleable__label sk-toggleable__label-arrow\">LogisticRegression</label><div class=\"sk-toggleable__content\"><pre>LogisticRegression()</pre></div></div></div></div></div>"
      ],
      "text/plain": [
       "LogisticRegression()"
      ]
     },
     "execution_count": 24,
     "metadata": {},
     "output_type": "execute_result"
    }
   ],
   "source": [
    "from sklearn.linear_model import LogisticRegression\n",
    "\n",
    "# Crear un objeto de regresión logística\n",
    "model = LogisticRegression(max_iter=100)\n",
    "\n",
    "# Entrenar el modelo con los datos de entrenamiento\n",
    "model.fit(X_train, y_train)\n"
   ]
  },
  {
   "cell_type": "code",
   "execution_count": 25,
   "id": "3c328c54",
   "metadata": {},
   "outputs": [
    {
     "name": "stdout",
     "output_type": "stream",
     "text": [
      "0.9722222222222222\n",
      "0.974074074074074\n",
      "0.9722222222222222\n",
      "0.9989177489177489\n"
     ]
    },
    {
     "data": {
      "text/plain": [
       "<matplotlib.collections.PathCollection at 0x7f17521bb970>"
      ]
     },
     "execution_count": 25,
     "metadata": {},
     "output_type": "execute_result"
    },
    {
     "data": {
      "image/png": "[encoded data removed]",
      "text/plain": [
       "<Figure size 640x480 with 1 Axes>"
      ]
     },
     "metadata": {},
     "output_type": "display_data"
    }
   ],
   "source": [
    "from sklearn.metrics import accuracy_score, precision_score, recall_score, roc_auc_score, roc_curve\n",
    "\n",
    "# Realizar predicciones sobre los datos de prueba\n",
    "y_pred = model.predict(X_test)\n",
    "\n",
    "# Calcular la precisión, recall y AUC\n",
    "accuracy = accuracy_score(y_test, y_pred)\n",
    "precision = precision_score(y_test, y_pred, average='weighted')\n",
    "recall = recall_score(y_test, y_pred, average='weighted')\n",
    "auc = roc_auc_score(y_test, model.predict_proba(X_test), multi_class='ovr')\n",
    "\n",
    "print(accuracy)\n",
    "print(precision)\n",
    "print(recall)\n",
    "print(auc)\n",
    "\n",
    "\n",
    "# Calcular la curva ROC\n",
    "fpr, tpr, thresholds = roc_curve(y_test, model.predict_proba(X_test)[:,1], pos_label=2)\n",
    "plt.scatter(fpr, tpr, color='red')"
   ]
  },
  {
   "cell_type": "markdown",
   "id": "ceaeb094",
   "metadata": {},
   "source": [
    "## Puntos Extra"
   ]
  },
  {
   "cell_type": "code",
   "execution_count": null,
   "id": "d7bc589c",
   "metadata": {},
   "outputs": [],
   "source": []
  }
 ],
 "metadata": {
  "kernelspec": {
   "display_name": "Python 3 (ipykernel)",
   "language": "python",
   "name": "python3"
  },
  "language_info": {
   "codemirror_mode": {
    "name": "ipython",
    "version": 3
   },
   "file_extension": ".py",
   "mimetype": "text/x-python",
   "name": "python",
   "nbconvert_exporter": "python",
   "pygments_lexer": "ipython3",
   "version": "3.8.10"
  },
  "vscode": {
   "interpreter": {
    "hash": "e7370f93d1d0cde622a1f8e1c04877d8463912d04d973331ad4851f04de6915a"
   }
  }
 },
 "nbformat": 4,
 "nbformat_minor": 5
}
