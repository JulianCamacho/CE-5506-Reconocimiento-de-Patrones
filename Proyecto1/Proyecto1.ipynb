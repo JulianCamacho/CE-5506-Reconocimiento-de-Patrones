{
 "cells": [
  {
   "cell_type": "markdown",
   "id": "ad9111d3",
   "metadata": {},
   "source": [
    "# Proyecto 1 Reconocimiento de Patrones\n",
    "\n",
    "José Julián Camacho Hernández\n",
    "\n",
    "Leonardo Guillén Fernández"
   ]
  },
  {
   "cell_type": "markdown",
   "id": "ecbe973d",
   "metadata": {},
   "source": [
    "## Regresión Logística"
   ]
  },
  {
   "cell_type": "code",
   "execution_count": 336,
   "id": "b814cba5",
   "metadata": {},
   "outputs": [],
   "source": [
    "import pandas as pd\n",
    "import numpy as np\n",
    "import matplotlib.pyplot as plt\n",
    "from sklearn.model_selection import train_test_split, GridSearchCV\n",
    "from sklearn.preprocessing import StandardScaler, MinMaxScaler\n",
    "from sklearn.metrics import accuracy_score, precision_score, recall_score, roc_auc_score, roc_curve\n"
   ]
  },
  {
   "cell_type": "code",
   "execution_count": 372,
   "id": "a699c51b",
   "metadata": {},
   "outputs": [],
   "source": [
    "accuracy_data = []\n",
    "precision_data = []\n",
    "recall_data = []\n",
    "auc_data = []\n",
    "\n",
    "accuracy_sklearn = []\n",
    "precision_sklearn = []\n",
    "recall_sklearn = []\n",
    "auc_sklearn = []"
   ]
  },
  {
   "cell_type": "code",
   "execution_count": 338,
   "id": "3591674b",
   "metadata": {},
   "outputs": [],
   "source": [
    "class LogisticRegression:\n",
    "    def __init__(self, lr=0.01, num_iter=100000, fit_intercept=True):\n",
    "        self.lr = lr\n",
    "        self.num_iter = num_iter\n",
    "        self.fit_intercept = fit_intercept\n",
    "       \n",
    "\n",
    "    def __add_intercept(self, X):\n",
    "        intercept = np.ones((X.shape[0], 1))\n",
    "        return np.concatenate((intercept, X), axis=1)\n",
    "\n",
    "    def __sigmoid(self, z):\n",
    "        return 1 / (1 + np.exp(-z))\n",
    "\n",
    "    def __loss(self, h, y):\n",
    "        return (-y * np.log(h) - (1 - y) * np.log(1 - h)).mean()\n",
    "\n",
    "    def fit(self, X, y):\n",
    "        if self.fit_intercept:\n",
    "            X = self.__add_intercept(X)\n",
    "\n",
    "        # weights initialization\n",
    "        self.w = np.zeros(X.shape[1])\n",
    "\n",
    "        for i in range(self.num_iter):\n",
    "            z = np.dot(X, self.w)\n",
    "            h = self.__sigmoid(z)\n",
    "            gradient = np.dot(X.T, (h-y)) / y.size\n",
    "            #print(gradient.shape, self.w.shape, z.shape,h.shape)\n",
    "            #gradient = (h - y) / y.size\n",
    "            self.w -= self.lr * gradient\n",
    "\n",
    "    def predict_prob(self, X):\n",
    "        if self.fit_intercept:\n",
    "            X = self.__add_intercept(X)\n",
    "\n",
    "        return self.__sigmoid(np.dot(X, self.w))\n",
    "\n",
    "    def predict(self, X, threshold):\n",
    "        return self.predict_prob(X) >= threshold\n",
    "    def score(self, y_pred,y_test):\n",
    "        return float(sum(y_pred == y_test)) / float(len(y_test))\n"
   ]
  },
  {
   "cell_type": "markdown",
   "id": "3cf62598",
   "metadata": {},
   "source": [
    "### Set de datos Red Wine Quality"
   ]
  },
  {
   "cell_type": "code",
   "execution_count": 373,
   "id": "83a53502",
   "metadata": {},
   "outputs": [
    {
     "name": "stdout",
     "output_type": "stream",
     "text": [
      "   fixed acidity  volatile acidity  citric acid  residual sugar  chlorides  \\\n",
      "0      -0.528360          0.961877    -1.391472       -0.453218  -0.243707   \n",
      "1      -0.298547          1.967442    -1.391472        0.043416   0.223875   \n",
      "2      -0.298547          1.297065    -1.186070       -0.169427   0.096353   \n",
      "3       1.654856         -1.384443     1.484154       -0.453218  -0.264960   \n",
      "4      -0.528360          0.961877    -1.391472       -0.453218  -0.243707   \n",
      "\n",
      "   free sulfur dioxide  total sulfur dioxide   density        pH  sulphates  \\\n",
      "0            -0.466193             -0.379133  0.558274  1.288643  -0.579207   \n",
      "1             0.872638              0.624363  0.028261 -0.719933   0.128950   \n",
      "2            -0.083669              0.229047  0.134264 -0.331177  -0.048089   \n",
      "3             0.107592              0.411500  0.664277 -0.979104  -0.461180   \n",
      "4            -0.466193             -0.379133  0.558274  1.288643  -0.579207   \n",
      "\n",
      "    alcohol  quality  \n",
      "0 -0.960246        0  \n",
      "1 -0.584777        0  \n",
      "2 -0.584777        0  \n",
      "3 -0.584777        1  \n",
      "4 -0.960246        0  \n"
     ]
    }
   ],
   "source": [
    "# Cargar los datos de Red Wine Quality\n",
    "data_wines = pd.read_csv(\"winequality-red.csv\")\n",
    "\n",
    "#======  Feature Engineering  ======#\n",
    "\n",
    "# Convertir la calidad en un problema de clasificación binaria\n",
    "data_wines['quality'] = np.where(data_wines['quality'] > 5, 1, 0)  \n",
    "\n",
    "# Estandarización de los datos\n",
    "X = data_wines.drop('quality', axis=1)\n",
    "numeric_cols = X.select_dtypes(include=['float64', 'int64']).columns.tolist()\n",
    "scaler = StandardScaler()\n",
    "scaler.fit(X[numeric_cols])\n",
    "scaled_data = scaler.transform(X[numeric_cols])\n",
    "data_wines[numeric_cols] = scaled_data\n",
    "#data_wines = data_wines.drop('volatile acidity', axis=1)\n",
    "print(data_wines.head())\n",
    "\n",
    "# Dividir los datos en conjunto de entrenamiento y prueba\n",
    "X_train_wines, X_test_wines, y_train_wines, y_test_wines = train_test_split(data_wines.drop('quality', axis=1), \n",
    "    data_wines['quality'], test_size=0.2, stratify=data_wines['quality'])\n",
    "\n",
    "X_train_wines = X_train_wines.values\n",
    "X_test_wines  = X_test_wines.values\n",
    "y_train_wines = y_train_wines.values\n",
    "y_test_wines  = y_test_wines.values"
   ]
  },
  {
   "cell_type": "code",
   "execution_count": 377,
   "id": "94b053d7",
   "metadata": {},
   "outputs": [],
   "source": [
    "def computeMetrics(y_test, y_pred):\n",
    "    # Calcular la exactitud\n",
    "    acc = accuracy_score(y_test, y_pred)\n",
    "    accuracy_data.append(acc)\n",
    "    print(\"Exactitud: \",acc)\n",
    "\n",
    "    # Calcular la precisión\n",
    "    prec = precision_score(y_test, y_pred)\n",
    "    precision_data.append(prec)\n",
    "    print(\"Precisión: \",prec)\n",
    "\n",
    "    # Calcular el recall\n",
    "    rec = recall_score(y_test, y_pred)\n",
    "    recall_data.append(rec)\n",
    "    print(\"Recall: \", rec)\n",
    "\n",
    "    # Calcular el AUC\n",
    "    auc = roc_auc_score(y_test, y_pred)\n",
    "    auc_data.append(auc)\n",
    "\n",
    "    print(\"AUC: \", auc)\n",
    "\n",
    "    # Calcular la curva ROC\n",
    "    plt.plot(fpr, tpr, label='AUC = %0.2f' % auc)\n",
    "    plt.plot([0, 1], [0, 1],'r--')\n",
    "    plt.xlim([0, 1])\n",
    "    plt.ylim([0, 1])\n",
    "    plt.xlabel('False Positive Rate')\n",
    "    plt.ylabel('True Positive Rate')\n",
    "    plt.title('Receiver Operating Characteristic (ROC) Curve')\n",
    "    plt.legend(loc=\"lower right\")\n",
    "    plt.show()"
   ]
  },
  {
   "cell_type": "code",
   "execution_count": 380,
   "id": "02738344",
   "metadata": {},
   "outputs": [
    {
     "name": "stdout",
     "output_type": "stream",
     "text": [
      "Exactitud:  0.7125\n",
      "Resultados obtenidos:  [ True  True  True False  True  True False False  True False  True  True\n",
      " False  True False False  True  True  True False]\n",
      "Resultados esperados:  [1 1 1 0 1 1 0 0 1 0 1 1 0 1 1 0 0 1 0 0] \n",
      "\n",
      "Exactitud:  0.7125\n",
      "Precisión:  0.8110236220472441\n",
      "Recall:  0.6023391812865497\n",
      "AUC:  0.720632677891597\n"
     ]
    },
    {
     "data": {
      "image/png": "[encoded data removed]",
      "text/plain": [
       "<Figure size 640x480 with 1 Axes>"
      ]
     },
     "metadata": {},
     "output_type": "display_data"
    }
   ],
   "source": [
    "# Entrenar el modelo de regresión logística\n",
    "logistic_reg_model = LogisticRegression(lr=0.03, num_iter=50000)\n",
    "logistic_reg_model.fit(X_train_wines, y_train_wines)\n",
    "\n",
    "# Realizar predicciones sobre los datos de prueba\n",
    "y_pred_wines = logistic_reg_model.predict(X_test_wines, 0.6)\n",
    "\n",
    "print(\"Exactitud: \",logistic_reg_model.score(y_pred_wines,y_test_wines))\n",
    "\n",
    "print(\"Resultados obtenidos: \", y_pred_wines[:20])\n",
    "print(\"Resultados esperados: \", y_test_wines[:20], \"\\n\")\n",
    "\n",
    "computeMetrics(y_test_wines, y_pred_wines)"
   ]
  },
  {
   "cell_type": "markdown",
   "id": "95b222a1",
   "metadata": {},
   "source": [
    "### Set de datos Notas de Arquitectura de Computadores 1"
   ]
  },
  {
   "cell_type": "code",
   "execution_count": 358,
   "id": "09dc6719",
   "metadata": {},
   "outputs": [],
   "source": [
    "# Cargar los datos de Arquitectura 1\n",
    "data_arquiI_2021_s1 = pd.read_csv(\"2021-s1.csv\", delimiter=';')\n",
    "data_arquiI_2021_s2 = pd.read_csv(\"2021-s2.csv\", delimiter=';')\n",
    "data_arquiI_2022_s1 = pd.read_csv(\"2022-s1.csv\", delimiter=';')\n",
    "data_arquiI_2022_s2 = pd.read_csv(\"2022-s2.csv\", delimiter=';')\n",
    "\n",
    "#=======  Feature Engineering  =======#\n",
    "\n",
    "# Feature Selection\n",
    "# Conservar solo features que se toman en cuenta de cada archivo\n",
    "data_arquiI_2021_s1 = data_arquiI_2021_s1.loc[:, ['Examen 1 15.0%', 'Tarea 1 3.75%',\n",
    "       'Proyecto Individual Funcional 11.25%','Proyecto Grupal 1 Funcional 13.12%', 'Total: ']]\n",
    "data_arquiI_2021_s2 = data_arquiI_2021_s2.loc[:, ['Examen 1 15.0%', 'Tarea 1', \n",
    "       'Proyecto Individual Funcional 11.25%','Proyecto Grupal 1 Funcional 13.12%', 'Total: ']]\n",
    "data_arquiI_2022_s1 = data_arquiI_2022_s1.loc[:, ['Examen parcial 1 15%', 'Tarea 1 evaluación 3.75%',\n",
    "       'Proyecto Individual Funcional 11.25%','Proyecto Grupal 1 Funcional 13.12%', 'Total: ']]\n",
    "data_arquiI_2022_s2 = data_arquiI_2022_s2.loc[:, ['Examen parcial 1 15%', 'Tarea 1 3.75%',\n",
    "       'Proyecto Individual Funcional 11.25%','Proyecto Grupal 1 Func Eval 13.12%', 'Total: ']]\n",
    "\n",
    "# Renombrar columnas para combinarlas\n",
    "data_arquiI_2021_s1 = data_arquiI_2021_s1.rename(columns={'Examen parcial 1 15%': 'Examen 1 15.0%'})\n",
    "data_arquiI_2021_s2 = data_arquiI_2021_s2.rename(columns={'Tarea 1': 'Tarea 1 3.75%'})\n",
    "data_arquiI_2022_s1 = data_arquiI_2022_s1.rename(columns={'Examen parcial 1 15%': 'Examen 1 15.0%', \n",
    "                            'Tarea 1 evaluación 3.75%': 'Tarea 1 3.75%'})\n",
    "data_arquiI_2022_s2 = data_arquiI_2022_s2.rename(columns={'Examen parcial 1 15%': 'Examen 1 15.0%', \n",
    "                            'Proyecto Grupal 1 Func Eval 13.12%': 'Proyecto Grupal 1 Funcional 13.12%'})\n",
    "\n",
    "# Combinar todos los datos en un solo set\n",
    "data_arquiI_combined = pd.concat([data_arquiI_2021_s1, data_arquiI_2021_s2,\n",
    "                                  data_arquiI_2022_s1, data_arquiI_2022_s2], \n",
    "                                  axis=0, ignore_index=True)\n",
    "\n",
    "# Reemplazar espacios en blanco con NaN\n",
    "data_arquiI_combined = data_arquiI_combined.replace(' ', np.nan)\n",
    "# Eliminar filas que contengan al menos un NaN\n",
    "data_arquiI_combined = data_arquiI_combined.dropna()\n",
    "# Castear tipos de string a float\n",
    "data_arquiI_combined = data_arquiI_combined.astype('float64')\n",
    "\n",
    "\n",
    "# Convertir la calidad en un problema de clasificación binaria\n",
    "data_arquiI_combined['Total: '] = np.where(data_arquiI_combined['Total: '] >= 67.5, 1, 0)\n",
    "\n",
    "# Ajustar pesos\n",
    "data_arquiI_combined['Examen 1 15.0%'] = data_arquiI_combined['Examen 1 15.0%']*0.15\n",
    "data_arquiI_combined['Tarea 1 3.75%'] = data_arquiI_combined['Tarea 1 3.75%']*0.0375\n",
    "data_arquiI_combined['Proyecto Individual Funcional 11.25%'] = data_arquiI_combined['Proyecto Individual Funcional 11.25%']*0.1125\n",
    "data_arquiI_combined['Proyecto Grupal 1 Funcional 13.12%'] = data_arquiI_combined['Proyecto Grupal 1 Funcional 13.12%']*0.1312\n",
    "\n",
    "data_arquiI_combined = data_arquiI_combined.rename(columns={'Total: ': 'Aprobado'})\n",
    "\n",
    "data_arquiI_combined.head()\n",
    "\n",
    "# Dividir los datos en conjunto de entrenamiento y prueba\n",
    "X_train_arqui, X_test_arqui, y_train_arqui, y_test_arqui = train_test_split(data_arquiI_combined.drop('Aprobado', axis=1), \n",
    "    data_arquiI_combined['Aprobado'], test_size=0.2, stratify=data_arquiI_combined['Aprobado'])\n",
    "\n",
    "X_train_arqui = X_train_arqui.values\n",
    "X_test_arqui  = X_test_arqui.values\n",
    "y_train_arqui = y_train_arqui.values\n",
    "y_test_arqui  = y_test_arqui.values"
   ]
  },
  {
   "cell_type": "code",
   "execution_count": 379,
   "id": "459f6462",
   "metadata": {},
   "outputs": [
    {
     "name": "stdout",
     "output_type": "stream",
     "text": [
      "Exactitud:  0.8888888888888888\n",
      "Resultados obtenidos:  [ True  True  True  True  True  True  True  True  True  True False False\n",
      "  True  True  True  True False  True]\n",
      "Resultados esperados:  [1 1 1 1 1 1 0 1 1 1 1 0 1 1 1 1 0 1] \n",
      "\n",
      "Exactitud:  0.8888888888888888\n",
      "Precisión:  0.9333333333333333\n",
      "Recall:  0.9333333333333333\n",
      "AUC:  0.8\n"
     ]
    },
    {
     "data": {
      "image/png": "[encoded data removed]",
      "text/plain": [
       "<Figure size 640x480 with 1 Axes>"
      ]
     },
     "metadata": {},
     "output_type": "display_data"
    }
   ],
   "source": [
    "# Entrenar el modelo de regresión logística\n",
    "logistic_reg_model = LogisticRegression(lr=0.03, num_iter=50000)\n",
    "logistic_reg_model.fit(X_train_arqui, y_train_arqui)\n",
    "\n",
    "# Realizar predicciones sobre los datos de prueba\n",
    "y_pred_arqui = logistic_reg_model.predict(X_test_arqui, 0.6)\n",
    "\n",
    "print(\"Exactitud: \",logistic_reg_model.score(y_pred_arqui,y_test_arqui))\n",
    "\n",
    "print(\"Resultados obtenidos: \", y_pred_arqui[:20])\n",
    "print(\"Resultados esperados: \", y_test_arqui[:20], \"\\n\")\n",
    "\n",
    "computeMetrics(y_test_arqui, y_pred_arqui)"
   ]
  },
  {
   "cell_type": "markdown",
   "id": "40735c30",
   "metadata": {},
   "source": [
    "### Set de datos Propio"
   ]
  },
  {
   "cell_type": "code",
   "execution_count": null,
   "id": "cba95b30",
   "metadata": {},
   "outputs": [],
   "source": []
  },
  {
   "cell_type": "markdown",
   "id": "72ff68df",
   "metadata": {},
   "source": [
    "## Árboles de decisión"
   ]
  },
  {
   "cell_type": "code",
   "execution_count": 7,
   "id": "740872ad",
   "metadata": {},
   "outputs": [],
   "source": [
    "# Función para dividir los datos en dos grupos en función de un valor de corte\n",
    "def split_data(data, split_column, split_value):\n",
    "    data_below = data[data[split_column] <= split_value]\n",
    "    data_above = data[data[split_column] > split_value]\n",
    "    return data_below, data_above\n",
    "\n",
    "# Función para calcular la entropía de un conjunto de datos\n",
    "def entropy(data, target_column):\n",
    "    _, counts = np.unique(data[target_column], return_counts=True)\n",
    "    probabilities = counts / counts.sum()\n",
    "    entropy = sum(probabilities * -np.log2(probabilities))\n",
    "    return entropy\n",
    "\n",
    "# Función para calcular la ganancia de información al dividir un conjunto de datos en dos grupos\n",
    "def information_gain(data, split_column, target_column):\n",
    "    original_entropy = entropy(data, target_column)\n",
    "    data_below, data_above = split_data(data, split_column, data[split_column].median())\n",
    "    n = len(data)\n",
    "    n_below = len(data_below)\n",
    "    n_above = len(data_above)\n",
    "    below_weight = n_below / n\n",
    "    above_weight = n_above / n\n",
    "    weighted_entropy = below_weight * entropy(data_below, target_column) + above_weight * entropy(data_above, target_column)\n",
    "    information_gain = original_entropy - weighted_entropy\n",
    "    return information_gain\n",
    "\n",
    "# Función para encontrar el mejor atributo de división para un conjunto de datos\n",
    "def find_best_split(data, target_column):\n",
    "    information_gains = []\n",
    "    for column in data.columns:\n",
    "        if column == target_column:\n",
    "            continue\n",
    "        information_gain1 = information_gain(data, column, target_column)\n",
    "        information_gains.append((column, information_gain1))\n",
    "    best_split_column, best_information_gain = max(information_gains, key=lambda x: x[1])\n",
    "    return best_split_column\n",
    "\n",
    "# Función para crear un nodo de decisión en el árbol\n",
    "def create_decision_node(data, target_column):\n",
    "    # Si todos los valores en el conjunto de datos tienen la misma etiqueta, crear un nodo hoja\n",
    "    if len(np.unique(data[target_column])) == 1:\n",
    "        return data[target_column].iloc[0]\n",
    "    \n",
    "    # Si no hay más atributos para dividir, crear un nodo hoja con la etiqueta más común\n",
    "    if len(data.columns) == 1:\n",
    "        return np.bincount(data[target_column]).argmax()\n",
    "    \n",
    "    # Encontrar el mejor atributo de división para el conjunto de datos\n",
    "    best_split_column = find_best_split(data, target_column)\n",
    "    \n",
    "    # Crear un nodo de decisión con el mejor atributo de división\n",
    "    decision_node = {'split_column': best_split_column}\n",
    "    median = data[best_split_column].median()\n",
    "    decision_node['median'] = median\n",
    "    \n",
    "    # Dividir los datos en dos grupos\n",
    "    data_below, data_above = split_data(data, best_split_column, median)\n",
    "    \n",
    "    # Recursivamente crear los hijos del nodo de decisión\n",
    "    decision_node['below'] = create_decision_node(data_below, target_column)\n",
    "    decision_node['above'] = create_decision_node(data_above, target_column)\n",
    "    \n",
    "    return decision_node\n",
    "\n",
    "# Función para predecir la etiqueta de un ejemplo utilizando el árbol de decisión\n",
    "def predict(example, decision_tree):\n",
    "    if type(decision_tree) != dict:\n",
    "        return decision_tree\n",
    "    split_column = decision_tree['split_column']\n",
    "    median = decision_tree['median']\n",
    "    if example[split_column] <= median:\n",
    "        return predict(example, decision_tree['below'])\n",
    "    else:\n",
    "        return predict(example, decision_tree['above'])\n"
   ]
  },
  {
   "cell_type": "markdown",
   "id": "3eca9148",
   "metadata": {},
   "source": [
    "### Set de datos Red Wine Quality"
   ]
  },
  {
   "cell_type": "code",
   "execution_count": 8,
   "id": "f3e25672",
   "metadata": {},
   "outputs": [],
   "source": [
    "# Leer los datos\n",
    "data = pd.read_csv('https://archive.ics.uci.edu/ml/machine-learning-databases/wine-quality/winequality-red.csv', sep=';')\n",
    "\n",
    "# Dividir los datos en conjunto de entrenamiento y prueba\n",
    "np.random.seed(0)\n",
    "train_data = data.sample(frac=0.8)\n",
    "test_data = data.drop(train_data.index)\n",
    "\n",
    "# Separar los predictores y las etiquetas\n",
    "X_train = train_data.drop('quality', axis=1)\n",
    "y_train = train_data['quality']\n",
    "X_test = test_data.drop('quality', axis=1)\n",
    "y_test = test_data['quality']\n"
   ]
  },
  {
   "cell_type": "code",
   "execution_count": 9,
   "id": "15b2e892",
   "metadata": {},
   "outputs": [],
   "source": [
    "# Crear el árbol de decisión a partir del conjunto de entrenamiento\n",
    "decision_tree = create_decision_node(train_data, 'quality')\n",
    "\n",
    "# Evaluar el árbol de decisión en el conjunto de prueba\n",
    "y_pred = X_test.apply(lambda x: predict(x, decision_tree), axis=1)"
   ]
  },
  {
   "cell_type": "code",
   "execution_count": 10,
   "id": "5c7bcc46",
   "metadata": {},
   "outputs": [
    {
     "name": "stdout",
     "output_type": "stream",
     "text": [
      "0.628125\n",
      "0.6129674238163412\n",
      "0.628125\n"
     ]
    }
   ],
   "source": [
    "# Calcular la precisión, recall y AUC\n",
    "accuracy_data.append( accuracy_score(y_test, y_pred))\n",
    "precision_data.append(precision_score(y_test, y_pred, average='weighted'))\n",
    "recall_data.append(recall_score(y_test, y_pred, average='weighted'))\n",
    "#auc_data.append(roc_auc_score(y_test, y_pred, multi_class='ovr'))\n",
    "\n",
    "print(accuracy_data[1])\n",
    "print(precision_data[1])\n",
    "print(recall_data[1])\n",
    "#print(auc_data[1])\n"
   ]
  },
  {
   "cell_type": "markdown",
   "id": "dad873da",
   "metadata": {},
   "source": [
    "### Set de datos Notas de Arquitectura de Computadores 1"
   ]
  },
  {
   "cell_type": "code",
   "execution_count": null,
   "id": "b0fd6ee0",
   "metadata": {},
   "outputs": [],
   "source": []
  },
  {
   "cell_type": "markdown",
   "id": "092afe24",
   "metadata": {},
   "source": [
    "### Set de datos Propio"
   ]
  },
  {
   "cell_type": "code",
   "execution_count": null,
   "id": "65902031",
   "metadata": {},
   "outputs": [],
   "source": []
  },
  {
   "cell_type": "markdown",
   "id": "7b04012c",
   "metadata": {},
   "source": [
    "## KNN"
   ]
  },
  {
   "cell_type": "code",
   "execution_count": 382,
   "id": "45bf000f",
   "metadata": {},
   "outputs": [],
   "source": [
    "class KNearestNeighbors():\n",
    "    def __init__(self, X_train, y_train, n_neighbors=5, weights='uniform'):\n",
    "\n",
    "        self.X_train = X_train\n",
    "        self.y_train = y_train\n",
    "\n",
    "        self.n_neighbors = n_neighbors\n",
    "        self.weights = weights\n",
    "\n",
    "        self.n_classes = 2\n",
    "\n",
    "    def euclidian_distance(self, a, b):\n",
    "        return np.sqrt(np.sum((a - b)**2, axis=1))\n",
    "\n",
    "    def kneighbors(self, X_test, return_distance=False):\n",
    "\n",
    "        dist = []\n",
    "        neigh_ind = []\n",
    "\n",
    "        #print(X_test, self.X_train. X_test, self.X_train)\n",
    "        point_dist = []\n",
    "        for x_test in X_test:\n",
    "            point_dist += [ self.euclidian_distance(x_test, self.X_train) ]\n",
    "\n",
    "        for row in point_dist:\n",
    "            enum_neigh = enumerate(row)\n",
    "            sorted_neigh = sorted(enum_neigh,\n",
    "                                  key=lambda x: x[1])[:self.n_neighbors]\n",
    "            #print(\"Sorted_neighs: \", sorted_neigh)\n",
    "            ind_list = [tup[0] for tup in sorted_neigh]\n",
    "            dist_list = [tup[1] for tup in sorted_neigh]\n",
    "\n",
    "            dist.append(dist_list)\n",
    "            neigh_ind.append(ind_list)\n",
    "\n",
    "        if return_distance:\n",
    "            return np.array(dist), np.array(neigh_ind)\n",
    "\n",
    "        return np.array(neigh_ind)\n",
    "\n",
    "    def predict(self, X_test):\n",
    "\n",
    "        if self.weights == 'uniform':\n",
    "            neighbors = self.kneighbors(X_test)\n",
    "            y_pred = np.array([\n",
    "                np.argmax(np.bincount(self.y_train[neighbor]))\n",
    "                for neighbor in neighbors\n",
    "            ])\n",
    "            #print(\"Y_pred: \", y_pred)\n",
    "            return y_pred\n",
    "\n",
    "        if self.weights == 'distance':\n",
    "\n",
    "            dist, neigh_ind = self.kneighbors(X_test, return_distance=True) #Obtener distancias y vecinos\n",
    "            neighbors = []\n",
    "            neighbors = [self.y_train[i] for i in neigh_ind] #Obtener los tipos segun los indices de vecinos\n",
    "            \n",
    "            y_pred = []\n",
    "            for i in range(len(neighbors)):\n",
    "                distances = {}                              #Diccionario para guardar distancias por tipo\n",
    "                for j in range(len(neighbors[i])):\n",
    "                    neighbor_type = neighbors[i][j]         #Obtener tipo de vecino\n",
    "                    distance = dist[i][j]                   #Obtener distancia a dicho vecino\n",
    "                    if neighbor_type in distances:          #Guardar en el diccionario\n",
    "                        distances[neighbor_type].append(distance)\n",
    "                    else:\n",
    "                        distances[neighbor_type] = [distance]\n",
    "                \n",
    "                average_distances = {}                      #Diccionario para guardar promedio de distancias\n",
    "                for neighbor_type in distances:\n",
    "                    average_distance = np.mean(distances[neighbor_type])\n",
    "                    average_distances[neighbor_type] = average_distance\n",
    "\n",
    "                #Obtener minima distancia promedio \n",
    "                min_distance_type = min(average_distances, key=average_distances.get)\n",
    "                #print(\"El tipo {} tiene la mínima distacia promedio y es: {}\".format(min_distance_type, average_distances[min_distance_type]))\n",
    "                y_pred.append(min_distance_type)\n",
    "\n",
    "            return y_pred\n",
    "\n",
    "    def score(self, X_test, y_test):\n",
    "        y_pred = self.predict(X_test)\n",
    "        return float(sum(y_pred == y_test)) / float(len(y_test)), y_pred, y_test\n"
   ]
  },
  {
   "cell_type": "markdown",
   "id": "87429d42",
   "metadata": {},
   "source": [
    "### Set de datos Red Wine Quality"
   ]
  },
  {
   "cell_type": "code",
   "execution_count": 385,
   "id": "24f2c3e1",
   "metadata": {},
   "outputs": [
    {
     "name": "stdout",
     "output_type": "stream",
     "text": [
      "Exactitud:  0.534375\n",
      "Resultados obtenidos:  [1, 1, 1, 0, 1, 1, 0, 0, 1, 0, 1, 1, 0, 0, 0, 0, 0, 1, 1, 1]\n",
      "Resultados esperados:  [1 1 1 0 1 1 0 0 1 0 1 1 0 1 1 0 0 1 0 0] \n",
      "\n",
      "Exactitud:  0.71875\n",
      "Precisión:  0.7793103448275862\n",
      "Recall:  0.6608187134502924\n",
      "AUC:  0.7230268063895757\n"
     ]
    },
    {
     "data": {
      "image/png": "[encoded data removed]",
      "text/plain": [
       "<Figure size 640x480 with 1 Axes>"
      ]
     },
     "metadata": {},
     "output_type": "display_data"
    }
   ],
   "source": [
    "#Instanciar clasificador\n",
    "distance_classifier = KNearestNeighbors(X_train_wines, y_train_wines, n_neighbors=5, weights='distance')\n",
    "distance_accuracy, y_pred_wines, y_test_wines = distance_classifier.score(X_test_wines, y_test_wines)\n",
    "score = distance_classifier.score(y_pred_wines,y_test_wines)\n",
    "print(\"Exactitud: \", score[0])\n",
    "\n",
    "print(\"Resultados obtenidos: \", y_pred_wines[:20])\n",
    "print(\"Resultados esperados: \", y_test_wines[:20], \"\\n\")\n",
    "\n",
    "computeMetrics(y_test_wines, y_pred_wines)\n"
   ]
  },
  {
   "cell_type": "markdown",
   "id": "a0ae8b32",
   "metadata": {},
   "source": [
    "### Set de datos Notas de Arquitectura de Computadores 1"
   ]
  },
  {
   "cell_type": "code",
   "execution_count": null,
   "id": "e95233d0",
   "metadata": {},
   "outputs": [],
   "source": []
  },
  {
   "cell_type": "markdown",
   "id": "5869507f",
   "metadata": {},
   "source": [
    "### Set de datos Propio"
   ]
  },
  {
   "cell_type": "code",
   "execution_count": null,
   "id": "6305a3f0",
   "metadata": {},
   "outputs": [],
   "source": []
  },
  {
   "cell_type": "markdown",
   "id": "5a7fc3f9",
   "metadata": {},
   "source": [
    "## Comparación con sklearn"
   ]
  },
  {
   "cell_type": "markdown",
   "id": "d32d76a6",
   "metadata": {},
   "source": [
    "### Regresión Logística Red Wine Quality Sklearn"
   ]
  },
  {
   "cell_type": "code",
   "execution_count": 286,
   "id": "7fb10774",
   "metadata": {},
   "outputs": [
    {
     "name": "stderr",
     "output_type": "stream",
     "text": [
      "/home/jose/.local/lib/python3.10/site-packages/sklearn/linear_model/_logistic.py:458: ConvergenceWarning: lbfgs failed to converge (status=1):\n",
      "STOP: TOTAL NO. of ITERATIONS REACHED LIMIT.\n",
      "\n",
      "Increase the number of iterations (max_iter) or scale the data as shown in:\n",
      "    https://scikit-learn.org/stable/modules/preprocessing.html\n",
      "Please also refer to the documentation for alternative solver options:\n",
      "    https://scikit-learn.org/stable/modules/linear_model.html#logistic-regression\n",
      "  n_iter_i = _check_optimize_result(\n",
      "/home/jose/.local/lib/python3.10/site-packages/sklearn/linear_model/_logistic.py:458: ConvergenceWarning: lbfgs failed to converge (status=1):\n",
      "STOP: TOTAL NO. of ITERATIONS REACHED LIMIT.\n",
      "\n",
      "Increase the number of iterations (max_iter) or scale the data as shown in:\n",
      "    https://scikit-learn.org/stable/modules/preprocessing.html\n",
      "Please also refer to the documentation for alternative solver options:\n",
      "    https://scikit-learn.org/stable/modules/linear_model.html#logistic-regression\n",
      "  n_iter_i = _check_optimize_result(\n",
      "/home/jose/.local/lib/python3.10/site-packages/sklearn/linear_model/_logistic.py:458: ConvergenceWarning: lbfgs failed to converge (status=1):\n",
      "STOP: TOTAL NO. of ITERATIONS REACHED LIMIT.\n",
      "\n",
      "Increase the number of iterations (max_iter) or scale the data as shown in:\n",
      "    https://scikit-learn.org/stable/modules/preprocessing.html\n",
      "Please also refer to the documentation for alternative solver options:\n",
      "    https://scikit-learn.org/stable/modules/linear_model.html#logistic-regression\n",
      "  n_iter_i = _check_optimize_result(\n",
      "/home/jose/.local/lib/python3.10/site-packages/sklearn/linear_model/_logistic.py:458: ConvergenceWarning: lbfgs failed to converge (status=1):\n",
      "STOP: TOTAL NO. of ITERATIONS REACHED LIMIT.\n",
      "\n",
      "Increase the number of iterations (max_iter) or scale the data as shown in:\n",
      "    https://scikit-learn.org/stable/modules/preprocessing.html\n",
      "Please also refer to the documentation for alternative solver options:\n",
      "    https://scikit-learn.org/stable/modules/linear_model.html#logistic-regression\n",
      "  n_iter_i = _check_optimize_result(\n",
      "/home/jose/.local/lib/python3.10/site-packages/sklearn/linear_model/_logistic.py:458: ConvergenceWarning: lbfgs failed to converge (status=1):\n",
      "STOP: TOTAL NO. of ITERATIONS REACHED LIMIT.\n",
      "\n",
      "Increase the number of iterations (max_iter) or scale the data as shown in:\n",
      "    https://scikit-learn.org/stable/modules/preprocessing.html\n",
      "Please also refer to the documentation for alternative solver options:\n",
      "    https://scikit-learn.org/stable/modules/linear_model.html#logistic-regression\n",
      "  n_iter_i = _check_optimize_result(\n",
      "/home/jose/.local/lib/python3.10/site-packages/sklearn/linear_model/_logistic.py:458: ConvergenceWarning: lbfgs failed to converge (status=1):\n",
      "STOP: TOTAL NO. of ITERATIONS REACHED LIMIT.\n",
      "\n",
      "Increase the number of iterations (max_iter) or scale the data as shown in:\n",
      "    https://scikit-learn.org/stable/modules/preprocessing.html\n",
      "Please also refer to the documentation for alternative solver options:\n",
      "    https://scikit-learn.org/stable/modules/linear_model.html#logistic-regression\n",
      "  n_iter_i = _check_optimize_result(\n",
      "/home/jose/.local/lib/python3.10/site-packages/sklearn/linear_model/_logistic.py:458: ConvergenceWarning: lbfgs failed to converge (status=1):\n",
      "STOP: TOTAL NO. of ITERATIONS REACHED LIMIT.\n",
      "\n",
      "Increase the number of iterations (max_iter) or scale the data as shown in:\n",
      "    https://scikit-learn.org/stable/modules/preprocessing.html\n",
      "Please also refer to the documentation for alternative solver options:\n",
      "    https://scikit-learn.org/stable/modules/linear_model.html#logistic-regression\n",
      "  n_iter_i = _check_optimize_result(\n",
      "/home/jose/.local/lib/python3.10/site-packages/sklearn/linear_model/_logistic.py:458: ConvergenceWarning: lbfgs failed to converge (status=1):\n",
      "STOP: TOTAL NO. of ITERATIONS REACHED LIMIT.\n",
      "\n",
      "Increase the number of iterations (max_iter) or scale the data as shown in:\n",
      "    https://scikit-learn.org/stable/modules/preprocessing.html\n",
      "Please also refer to the documentation for alternative solver options:\n",
      "    https://scikit-learn.org/stable/modules/linear_model.html#logistic-regression\n",
      "  n_iter_i = _check_optimize_result(\n",
      "/home/jose/.local/lib/python3.10/site-packages/sklearn/linear_model/_logistic.py:458: ConvergenceWarning: lbfgs failed to converge (status=1):\n",
      "STOP: TOTAL NO. of ITERATIONS REACHED LIMIT.\n",
      "\n",
      "Increase the number of iterations (max_iter) or scale the data as shown in:\n",
      "    https://scikit-learn.org/stable/modules/preprocessing.html\n",
      "Please also refer to the documentation for alternative solver options:\n",
      "    https://scikit-learn.org/stable/modules/linear_model.html#logistic-regression\n",
      "  n_iter_i = _check_optimize_result(\n",
      "/home/jose/.local/lib/python3.10/site-packages/sklearn/linear_model/_logistic.py:458: ConvergenceWarning: lbfgs failed to converge (status=1):\n",
      "STOP: TOTAL NO. of ITERATIONS REACHED LIMIT.\n",
      "\n",
      "Increase the number of iterations (max_iter) or scale the data as shown in:\n",
      "    https://scikit-learn.org/stable/modules/preprocessing.html\n",
      "Please also refer to the documentation for alternative solver options:\n",
      "    https://scikit-learn.org/stable/modules/linear_model.html#logistic-regression\n",
      "  n_iter_i = _check_optimize_result(\n",
      "/home/jose/.local/lib/python3.10/site-packages/sklearn/linear_model/_logistic.py:458: ConvergenceWarning: lbfgs failed to converge (status=1):\n",
      "STOP: TOTAL NO. of ITERATIONS REACHED LIMIT.\n",
      "\n",
      "Increase the number of iterations (max_iter) or scale the data as shown in:\n",
      "    https://scikit-learn.org/stable/modules/preprocessing.html\n",
      "Please also refer to the documentation for alternative solver options:\n",
      "    https://scikit-learn.org/stable/modules/linear_model.html#logistic-regression\n",
      "  n_iter_i = _check_optimize_result(\n",
      "/home/jose/.local/lib/python3.10/site-packages/sklearn/linear_model/_logistic.py:458: ConvergenceWarning: lbfgs failed to converge (status=1):\n",
      "STOP: TOTAL NO. of ITERATIONS REACHED LIMIT.\n",
      "\n",
      "Increase the number of iterations (max_iter) or scale the data as shown in:\n",
      "    https://scikit-learn.org/stable/modules/preprocessing.html\n",
      "Please also refer to the documentation for alternative solver options:\n",
      "    https://scikit-learn.org/stable/modules/linear_model.html#logistic-regression\n",
      "  n_iter_i = _check_optimize_result(\n",
      "/home/jose/.local/lib/python3.10/site-packages/sklearn/linear_model/_logistic.py:458: ConvergenceWarning: lbfgs failed to converge (status=1):\n",
      "STOP: TOTAL NO. of ITERATIONS REACHED LIMIT.\n",
      "\n",
      "Increase the number of iterations (max_iter) or scale the data as shown in:\n",
      "    https://scikit-learn.org/stable/modules/preprocessing.html\n",
      "Please also refer to the documentation for alternative solver options:\n",
      "    https://scikit-learn.org/stable/modules/linear_model.html#logistic-regression\n",
      "  n_iter_i = _check_optimize_result(\n"
     ]
    },
    {
     "name": "stdout",
     "output_type": "stream",
     "text": [
      "Los mejores parámetros son:  {'max_iter': 500}\n",
      "Con el cual se obtine un score de:  0.7466697303921569\n",
      "Precisión del algoritmo KNN: 0.72\n"
     ]
    }
   ],
   "source": [
    "from sklearn.linear_model import LogisticRegression\n",
    "\n",
    "# Instanciar clasificador de SKlearn\n",
    "log_reg = LogisticRegression()\n",
    "\n",
    "# Definir parámetros\n",
    "param_grid = {\n",
    "    'max_iter': [5, 50, 500, 750]\n",
    "}\n",
    "\n",
    "# Crear un GridSearchCV con cross-validation de 5\n",
    "grid_search = GridSearchCV(log_reg, param_grid, cv=5)\n",
    "grid_search.fit(X_train_wines, y_train_wines)\n",
    "\n",
    "print(\"Los mejores parámetros son: \", grid_search.best_params_)\n",
    "print(\"Con el cual se obtine un score de: \", grid_search.best_score_)\n",
    "\n",
    "# Obtener el mejor clasificador\n",
    "best_log_reg = grid_search.best_estimator_\n",
    "y_pred = best_log_reg.predict(X_test_wines)\n",
    "accuracy = best_log_reg.score(X_test_wines, y_test_wines)\n",
    "\n",
    "print(f'Precisión del algoritmo KNN: {accuracy:.2f}')\n"
   ]
  },
  {
   "cell_type": "code",
   "execution_count": 292,
   "id": "3c328c54",
   "metadata": {},
   "outputs": [
    {
     "name": "stdout",
     "output_type": "stream",
     "text": [
      "0.734375\n",
      "0.7340848214285713\n",
      "0.734375\n"
     ]
    },
    {
     "name": "stderr",
     "output_type": "stream",
     "text": [
      "/home/jose/.local/lib/python3.10/site-packages/sklearn/metrics/_ranking.py:1029: UndefinedMetricWarning: No positive samples in y_true, true positive value should be meaningless\n",
      "  warnings.warn(\n"
     ]
    },
    {
     "data": {
      "text/plain": [
       "<matplotlib.collections.PathCollection at 0x7f469ead47f0>"
      ]
     },
     "execution_count": 292,
     "metadata": {},
     "output_type": "execute_result"
    },
    {
     "data": {
      "image/png": "[encoded data removed]",
      "text/plain": [
       "<Figure size 640x480 with 1 Axes>"
      ]
     },
     "metadata": {},
     "output_type": "display_data"
    }
   ],
   "source": [
    "from sklearn.metrics import accuracy_score, precision_score, recall_score, roc_auc_score, roc_curve\n",
    "\n",
    "# Realizar predicciones sobre los datos de prueba\n",
    "y_pred = best_log_reg.predict(X_test_wines)\n",
    "\n",
    "# Calcular la precisión, recall y AUC\n",
    "accuracy_sklearn.append( accuracy_score(y_test_wines, y_pred))\n",
    "precision_sklearn.append(precision_score(y_test_wines, y_pred, average='weighted'))\n",
    "recall_sklearn.append(recall_score(y_test_wines, y_pred, average='weighted'))\n",
    "#auc_sklearn.append(roc_auc_score(y_test_wines, best_log_reg.predict_proba(X_test_wines), multi_class='ovr'))\n",
    "\n",
    "print(accuracy_sklearn[0])\n",
    "print(precision_sklearn[0])\n",
    "print(recall_sklearn[0])\n",
    "#print(auc_sklearn[0])\n",
    "\n",
    "\n",
    "# Calcular la curva ROC\n",
    "fpr, tpr, thresholds = roc_curve(y_test_wines, best_log_reg.predict_proba(X_test_wines)[:,1], pos_label=2)\n",
    "plt.scatter(fpr, tpr, color='red')"
   ]
  },
  {
   "cell_type": "markdown",
   "id": "2df54edb",
   "metadata": {},
   "source": [
    "### Regresión Logística Notas de Arquitectura de Computadores 1 Sklearn"
   ]
  },
  {
   "cell_type": "code",
   "execution_count": null,
   "id": "5013de0e",
   "metadata": {},
   "outputs": [],
   "source": []
  },
  {
   "cell_type": "markdown",
   "id": "5ddd5697",
   "metadata": {},
   "source": [
    "### Regresión Logística Propio Sklearn"
   ]
  },
  {
   "cell_type": "code",
   "execution_count": null,
   "id": "0ef39ea8",
   "metadata": {},
   "outputs": [],
   "source": []
  },
  {
   "cell_type": "markdown",
   "id": "01fe9a99",
   "metadata": {},
   "source": [
    "### Árboles de decisión Red Wine Quality"
   ]
  },
  {
   "cell_type": "code",
   "execution_count": 314,
   "id": "29b4879f",
   "metadata": {},
   "outputs": [
    {
     "name": "stdout",
     "output_type": "stream",
     "text": [
      "Los mejores parámetros son:  {'max_depth': 10, 'min_samples_leaf': 4, 'min_samples_split': 4}\n",
      "Con el cual se obtine un score de:  0.738875612745098\n",
      "Precisión: 0.70\n",
      "Accuracy:  0.734375\n",
      "Precision:  0.7340848214285713\n",
      "Recall:  0.734375\n"
     ]
    },
    {
     "name": "stderr",
     "output_type": "stream",
     "text": [
      "/home/jose/.local/lib/python3.10/site-packages/sklearn/metrics/_ranking.py:1029: UndefinedMetricWarning: No positive samples in y_true, true positive value should be meaningless\n",
      "  warnings.warn(\n"
     ]
    },
    {
     "data": {
      "text/plain": [
       "<matplotlib.collections.PathCollection at 0x7f469ea2b820>"
      ]
     },
     "execution_count": 314,
     "metadata": {},
     "output_type": "execute_result"
    },
    {
     "data": {
      "image/png": "[encoded data removed]",
      "text/plain": [
       "<Figure size 640x480 with 1 Axes>"
      ]
     },
     "metadata": {},
     "output_type": "display_data"
    }
   ],
   "source": [
    "from sklearn.tree import DecisionTreeClassifier\n",
    "\n",
    "# Instanciar clasificador de SKlearn\n",
    "tree = DecisionTreeClassifier()\n",
    "\n",
    "# Definir parámetros\n",
    "param_grid = {\n",
    "    'max_depth': [2, 4, 6, 8, 10, 12, 14],\n",
    "    'min_samples_split': [2, 4, 6, 8, 10],\n",
    "    'min_samples_leaf': [1, 2, 3, 4, 5]\n",
    "}\n",
    "\n",
    "# Crear un GridSearchCV con cross-validation de 5\n",
    "grid_search = GridSearchCV(tree, param_grid, cv=5)\n",
    "grid_search.fit(X_train_wines, y_train_wines)\n",
    "\n",
    "print(\"Los mejores parámetros son: \", grid_search.best_params_)\n",
    "print(\"Con el cual se obtine un score de: \", grid_search.best_score_)\n",
    "\n",
    "# Obtener el mejor clasificador\n",
    "best_tree = grid_search.best_estimator_\n",
    "y_pred = best_tree.predict(X_test_wines)\n",
    "accuracy = best_tree.score(X_test_wines, y_test_wines)\n",
    "\n",
    "print(f'Precisión: {accuracy:.2f}')\n",
    "\n",
    "\n",
    "#-------------------------------------------------------------------------------------------------\n",
    "# Calcular las métricas de evaluación\n",
    "# Calcular la precisión, recall y AUC\n",
    "accuracy_sklearn.append( accuracy_score(y_test_wines, y_pred))\n",
    "precision_sklearn.append(precision_score(y_test_wines, y_pred, average='weighted'))\n",
    "recall_sklearn.append(recall_score(y_test_wines, y_pred, average='weighted'))\n",
    "#auc_sklearn.append(roc_auc_score(y_test, y_pred, multi_class='ovr'))\n",
    "\n",
    "print(\"Accuracy: \", accuracy_sklearn[2])\n",
    "print(\"Precision: \", precision_sklearn[2])\n",
    "print(\"Recall: \", recall_sklearn[2])\n",
    "#print(auc_sklearn[2])\n",
    "\n",
    "# Calcular la curva ROC\n",
    "fpr, tpr, thresholds = roc_curve(y_test_wines, y_pred, pos_label=2)\n",
    "plt.scatter(fpr, tpr, color='red')"
   ]
  },
  {
   "cell_type": "markdown",
   "id": "74871c85",
   "metadata": {},
   "source": [
    "### Árboles de decisión Notas de Arquitectura de Computadores 1 Sklearn"
   ]
  },
  {
   "cell_type": "code",
   "execution_count": null,
   "id": "b20b27a1",
   "metadata": {},
   "outputs": [],
   "source": []
  },
  {
   "cell_type": "markdown",
   "id": "a69c8815",
   "metadata": {},
   "source": [
    "### Árboles de decisión Propio Sklearn"
   ]
  },
  {
   "cell_type": "code",
   "execution_count": null,
   "id": "8692b70f",
   "metadata": {},
   "outputs": [],
   "source": []
  },
  {
   "cell_type": "markdown",
   "id": "c139ddb1",
   "metadata": {},
   "source": [
    "### KNN Red Wine Quality Sklearn"
   ]
  },
  {
   "cell_type": "code",
   "execution_count": 258,
   "id": "184563d1",
   "metadata": {},
   "outputs": [
    {
     "name": "stdout",
     "output_type": "stream",
     "text": [
      "Los mejores parámetros son:  {'n_neighbors': 21, 'weights': 'distance'}\n",
      "Con el cual se obtine un score de:  0.7310447303921569\n",
      "Precisión del algoritmo KNN: 0.73\n",
      "Accuracy:  0.734375\n",
      "Precision:  0.7340848214285713\n",
      "Recall:  0.734375\n"
     ]
    },
    {
     "name": "stderr",
     "output_type": "stream",
     "text": [
      "/home/jose/.local/lib/python3.10/site-packages/sklearn/metrics/_ranking.py:1029: UndefinedMetricWarning: No positive samples in y_true, true positive value should be meaningless\n",
      "  warnings.warn(\n"
     ]
    },
    {
     "data": {
      "text/plain": [
       "<matplotlib.collections.PathCollection at 0x7f469ee294b0>"
      ]
     },
     "execution_count": 258,
     "metadata": {},
     "output_type": "execute_result"
    },
    {
     "data": {
      "image/png": "[encoded data removed]",
      "text/plain": [
       "<Figure size 640x480 with 1 Axes>"
      ]
     },
     "metadata": {},
     "output_type": "display_data"
    }
   ],
   "source": [
    "from sklearn.neighbors import KNeighborsClassifier\n",
    "\n",
    "# Instanciar clasificador de SKlearn\n",
    "knn = KNeighborsClassifier()\n",
    "\n",
    "# Definir parámetros\n",
    "param_grid = {\n",
    "    'n_neighbors': [3, 5, 7, 9, 11, 13, 15, 17, 19, 21, 23, 25, 27, 29, 31, 33, 35],\n",
    "    'weights': ['uniform', 'distance']\n",
    "}\n",
    "\n",
    "# Crear un GridSearchCV con cross-validation de 5\n",
    "grid_search = GridSearchCV(knn, param_grid, cv=5)\n",
    "grid_search.fit(X_train_wines, y_train_wines)\n",
    "\n",
    "print(\"Los mejores parámetros son: \", grid_search.best_params_)\n",
    "print(\"Con el cual se obtine un score de: \", grid_search.best_score_)\n",
    "\n",
    "# Obtener el mejor clasificador\n",
    "best_knn = grid_search.best_estimator_\n",
    "y_pred = best_knn.predict(X_test_wines)\n",
    "accuracy = best_knn.score(X_test_wines, y_test_wines)\n",
    "\n",
    "print(f'Precisión del algoritmo KNN: {accuracy:.2f}')\n",
    "\n",
    "#-------------------------------------------------------------------------------------------------\n",
    "# Calcular las métricas de evaluación\n",
    "# Calcular la precisión, recall y AUC\n",
    "accuracy_sklearn.append( accuracy_score(y_test_wines, y_pred))\n",
    "precision_sklearn.append(precision_score(y_test_wines, y_pred, average='weighted'))\n",
    "recall_sklearn.append(recall_score(y_test_wines, y_pred, average='weighted'))\n",
    "#auc_sklearn.append(roc_auc_score(y_test, y_pred, multi_class='ovr'))\n",
    "\n",
    "print(\"Accuracy: \", accuracy_sklearn[2])\n",
    "print(\"Precision: \", precision_sklearn[2])\n",
    "print(\"Recall: \", recall_sklearn[2])\n",
    "#print(auc_sklearn[2])\n",
    "\n",
    "# Calcular la curva ROC\n",
    "fpr, tpr, thresholds = roc_curve(y_test_wines, y_pred, pos_label=2)\n",
    "plt.scatter(fpr, tpr, color='red')"
   ]
  },
  {
   "cell_type": "markdown",
   "id": "4c23eeeb",
   "metadata": {},
   "source": [
    "### KNN Notas de Arquitectura de Computadores 1 Sklearn"
   ]
  },
  {
   "cell_type": "code",
   "execution_count": null,
   "id": "3efcee1e",
   "metadata": {},
   "outputs": [],
   "source": []
  },
  {
   "cell_type": "markdown",
   "id": "a59e8610",
   "metadata": {},
   "source": [
    "### KNN Propio Sklearn"
   ]
  },
  {
   "cell_type": "code",
   "execution_count": null,
   "id": "3fceb41e",
   "metadata": {},
   "outputs": [],
   "source": []
  },
  {
   "cell_type": "markdown",
   "id": "ceaeb094",
   "metadata": {},
   "source": [
    "## Tabla Comparativa"
   ]
  },
  {
   "cell_type": "code",
   "execution_count": null,
   "id": "0509675c",
   "metadata": {},
   "outputs": [
    {
     "name": "stdout",
     "output_type": "stream",
     "text": [
      "Comparación de datos y algoritmos\n"
     ]
    },
    {
     "data": {
      "text/html": [
       "<div>\n",
       "<style scoped>\n",
       "    .dataframe tbody tr th:only-of-type {\n",
       "        vertical-align: middle;\n",
       "    }\n",
       "\n",
       "    .dataframe tbody tr th {\n",
       "        vertical-align: top;\n",
       "    }\n",
       "\n",
       "    .dataframe thead th {\n",
       "        text-align: right;\n",
       "    }\n",
       "</style>\n",
       "<table border=\"1\" class=\"dataframe\">\n",
       "  <thead>\n",
       "    <tr style=\"text-align: right;\">\n",
       "      <th></th>\n",
       "      <th>Accuracy</th>\n",
       "      <th>Precision</th>\n",
       "      <th>Recall</th>\n",
       "      <th>AUC</th>\n",
       "      <th>Accuracy_sklearn</th>\n",
       "      <th>Precision_sklearn</th>\n",
       "      <th>Recall_sklearn</th>\n",
       "      <th>AUC_sklearn</th>\n",
       "    </tr>\n",
       "  </thead>\n",
       "  <tbody>\n",
       "    <tr>\n",
       "      <th>Regresión Logística: Red wine Quality</th>\n",
       "      <td>0</td>\n",
       "      <td>0</td>\n",
       "      <td>0</td>\n",
       "      <td>0</td>\n",
       "      <td>0</td>\n",
       "      <td>0</td>\n",
       "      <td>0</td>\n",
       "      <td>0</td>\n",
       "    </tr>\n",
       "    <tr>\n",
       "      <th>Regresión Logística: Notas Arqui</th>\n",
       "      <td>0</td>\n",
       "      <td>0</td>\n",
       "      <td>0</td>\n",
       "      <td>0</td>\n",
       "      <td>0</td>\n",
       "      <td>0</td>\n",
       "      <td>0</td>\n",
       "      <td>0</td>\n",
       "    </tr>\n",
       "    <tr>\n",
       "      <th>Regresión Logística: Propio</th>\n",
       "      <td>0</td>\n",
       "      <td>0</td>\n",
       "      <td>0</td>\n",
       "      <td>0</td>\n",
       "      <td>0</td>\n",
       "      <td>0</td>\n",
       "      <td>0</td>\n",
       "      <td>0</td>\n",
       "    </tr>\n",
       "    <tr>\n",
       "      <th>Árboles de decisión: Red wine Quality</th>\n",
       "      <td>0</td>\n",
       "      <td>0</td>\n",
       "      <td>0</td>\n",
       "      <td>0</td>\n",
       "      <td>0</td>\n",
       "      <td>0</td>\n",
       "      <td>0</td>\n",
       "      <td>0</td>\n",
       "    </tr>\n",
       "    <tr>\n",
       "      <th>Árboles de decisión: Notas Arqui</th>\n",
       "      <td>0</td>\n",
       "      <td>0</td>\n",
       "      <td>0</td>\n",
       "      <td>0</td>\n",
       "      <td>0</td>\n",
       "      <td>0</td>\n",
       "      <td>0</td>\n",
       "      <td>0</td>\n",
       "    </tr>\n",
       "    <tr>\n",
       "      <th>Árboles de decisión: Propio</th>\n",
       "      <td>0</td>\n",
       "      <td>0</td>\n",
       "      <td>0</td>\n",
       "      <td>0</td>\n",
       "      <td>0</td>\n",
       "      <td>0</td>\n",
       "      <td>0</td>\n",
       "      <td>0</td>\n",
       "    </tr>\n",
       "    <tr>\n",
       "      <th>KNN: Red wine Quality</th>\n",
       "      <td>0</td>\n",
       "      <td>0</td>\n",
       "      <td>0</td>\n",
       "      <td>0</td>\n",
       "      <td>0</td>\n",
       "      <td>0</td>\n",
       "      <td>0</td>\n",
       "      <td>0</td>\n",
       "    </tr>\n",
       "    <tr>\n",
       "      <th>KNN: Notas Arqui</th>\n",
       "      <td>0</td>\n",
       "      <td>0</td>\n",
       "      <td>0</td>\n",
       "      <td>0</td>\n",
       "      <td>0</td>\n",
       "      <td>0</td>\n",
       "      <td>0</td>\n",
       "      <td>0</td>\n",
       "    </tr>\n",
       "    <tr>\n",
       "      <th>KNN: Propio</th>\n",
       "      <td>0</td>\n",
       "      <td>0</td>\n",
       "      <td>0</td>\n",
       "      <td>0</td>\n",
       "      <td>0</td>\n",
       "      <td>0</td>\n",
       "      <td>0</td>\n",
       "      <td>0</td>\n",
       "    </tr>\n",
       "  </tbody>\n",
       "</table>\n",
       "</div>"
      ],
      "text/plain": [
       "                                       Accuracy  Precision  Recall  AUC  \\\n",
       "Regresión Logística: Red wine Quality         0          0       0    0   \n",
       "Regresión Logística: Notas Arqui              0          0       0    0   \n",
       "Regresión Logística: Propio                   0          0       0    0   \n",
       "Árboles de decisión: Red wine Quality         0          0       0    0   \n",
       "Árboles de decisión: Notas Arqui              0          0       0    0   \n",
       "Árboles de decisión: Propio                   0          0       0    0   \n",
       "KNN: Red wine Quality                         0          0       0    0   \n",
       "KNN: Notas Arqui                              0          0       0    0   \n",
       "KNN: Propio                                   0          0       0    0   \n",
       "\n",
       "                                       Accuracy_sklearn  Precision_sklearn  \\\n",
       "Regresión Logística: Red wine Quality                 0                  0   \n",
       "Regresión Logística: Notas Arqui                      0                  0   \n",
       "Regresión Logística: Propio                           0                  0   \n",
       "Árboles de decisión: Red wine Quality                 0                  0   \n",
       "Árboles de decisión: Notas Arqui                      0                  0   \n",
       "Árboles de decisión: Propio                           0                  0   \n",
       "KNN: Red wine Quality                                 0                  0   \n",
       "KNN: Notas Arqui                                      0                  0   \n",
       "KNN: Propio                                           0                  0   \n",
       "\n",
       "                                       Recall_sklearn  AUC_sklearn  \n",
       "Regresión Logística: Red wine Quality               0            0  \n",
       "Regresión Logística: Notas Arqui                    0            0  \n",
       "Regresión Logística: Propio                         0            0  \n",
       "Árboles de decisión: Red wine Quality               0            0  \n",
       "Árboles de decisión: Notas Arqui                    0            0  \n",
       "Árboles de decisión: Propio                         0            0  \n",
       "KNN: Red wine Quality                               0            0  \n",
       "KNN: Notas Arqui                                    0            0  \n",
       "KNN: Propio                                         0            0  "
      ]
     },
     "execution_count": 92,
     "metadata": {},
     "output_type": "execute_result"
    }
   ],
   "source": [
    "k_values=[0,1,2]\n",
    "\n",
    "accuracy = [0,0,0,0,0,0,0,0,0]\n",
    "precision = [0,0,0,0,0,0,0,0,0]\n",
    "recall = [0,0,0,0,0,0,0,0,0]\n",
    "auc = [0,0,0,0,0,0,0,0,0]\n",
    "\n",
    "accuracy_sklearn = [0,0,0,0,0,0,0,0,0]\n",
    "precision_sklearn = [0,0,0,0,0,0,0,0,0]\n",
    "recall_sklearn = [0,0,0,0,0,0,0,0,0]\n",
    "auc_sklearn = [0,0,0,0,0,0,0,0,0]\n",
    "\n",
    "print(\"Comparación de datos y algoritmos\")\n",
    "accuracy_data = {\n",
    "  \"Accuracy\": accuracy,\n",
    "  \"Precision\": precision,\n",
    "  \"Recall\": recall,\n",
    "  \"AUC\": auc,\n",
    "  \"Accuracy_sklearn\": accuracy_sklearn,\n",
    "  \"Precision_sklearn\": precision_sklearn,\n",
    "  \"Recall_sklearn\": recall_sklearn,\n",
    "  \"AUC_sklearn\": auc_sklearn\n",
    "}\n",
    "pd.DataFrame( accuracy_data,index = [\"Regresión Logística: Red wine Quality\", \"Regresión Logística: Notas Arqui\", \"Regresión Logística: Propio\", \n",
    "                                             \"Árboles de decisión: Red wine Quality\", \"Árboles de decisión: Notas Arqui\", \"Árboles de decisión: Propio\", \n",
    "                                             \"KNN: Red wine Quality\", \"KNN: Notas Arqui\", \"KNN: Propio\"])"
   ]
  },
  {
   "cell_type": "markdown",
   "id": "406bbe03",
   "metadata": {},
   "source": [
    "## Puntos Extra"
   ]
  },
  {
   "cell_type": "code",
   "execution_count": null,
   "id": "d7bc589c",
   "metadata": {},
   "outputs": [],
   "source": []
  },
  {
   "cell_type": "code",
   "execution_count": null,
   "id": "fa50f5e7",
   "metadata": {},
   "outputs": [],
   "source": []
  },
  {
   "cell_type": "code",
   "execution_count": null,
   "id": "c850e33c",
   "metadata": {},
   "outputs": [],
   "source": []
  }
 ],
 "metadata": {
  "kernelspec": {
   "display_name": "Python 3 (ipykernel)",
   "language": "python",
   "name": "python3"
  },
  "language_info": {
   "codemirror_mode": {
    "name": "ipython",
    "version": 3
   },
   "file_extension": ".py",
   "mimetype": "text/x-python",
   "name": "python",
   "nbconvert_exporter": "python",
   "pygments_lexer": "ipython3",
   "version": "3.10.8"
  },
  "vscode": {
   "interpreter": {
    "hash": "e7370f93d1d0cde622a1f8e1c04877d8463912d04d973331ad4851f04de6915a"
   }
  }
 },
 "nbformat": 4,
 "nbformat_minor": 5
}
