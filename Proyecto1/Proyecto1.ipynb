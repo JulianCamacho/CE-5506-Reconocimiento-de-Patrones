{
 "cells": [
  {
   "cell_type": "markdown",
   "id": "ad9111d3",
   "metadata": {},
   "source": [
    "# Proyecto 1 Reconocimiento de Patrones\n",
    "\n",
    "José Julián Camacho Hernández\n",
    "\n",
    "Leonardo Guillén Fernández"
   ]
  },
  {
   "cell_type": "markdown",
   "id": "ecbe973d",
   "metadata": {},
   "source": [
    "## Regresión Logística"
   ]
  },
  {
   "cell_type": "code",
   "execution_count": 1,
   "id": "b814cba5",
   "metadata": {},
   "outputs": [],
   "source": [
    "import pandas as pd\n",
    "import numpy as np\n",
    "import matplotlib.pyplot as plt\n",
    "from sklearn.metrics import accuracy_score, precision_score, recall_score, roc_auc_score, roc_curve\n",
    "from numpy.random import seed\n",
    "seed(42)\n"
   ]
  },
  {
   "cell_type": "code",
   "execution_count": 2,
   "id": "a699c51b",
   "metadata": {},
   "outputs": [],
   "source": [
    "accuracy_data = []\n",
    "precision_data = []\n",
    "recall_data = []\n",
    "auc_data = []\n",
    "\n",
    "accuracy_data_sklearn = []\n",
    "precision_data_sklearn = []\n",
    "recall_data_sklearn = []\n",
    "auc_data_sklearn = []"
   ]
  },
  {
   "cell_type": "code",
   "execution_count": 3,
   "id": "3591674b",
   "metadata": {},
   "outputs": [],
   "source": [
    "class LogisticRegressionN:\n",
    "    def __init__(self, learning_rate=0.01, max_iter=60000):\n",
    "        self.learning_rate = learning_rate\n",
    "        self.max_iter = max_iter\n",
    "\n",
    "    def fit(self, X, y):\n",
    "        # Inicializar los pesos\n",
    "        self.weights = np.zeros(X.shape[1])\n",
    "        self.bias = 0\n",
    "\n",
    "        # Gradiente descendiente estocástico\n",
    "        for i in range(self.max_iter):\n",
    "            # Tomar una muestra aleatoria\n",
    "            sample_index = np.random.choice(X.shape[0], 1)\n",
    "            X_sample = X[sample_index]\n",
    "            y_sample = y[sample_index]\n",
    "\n",
    "            # Calcular la predicción y el error\n",
    "            z = np.dot(X_sample, self.weights) + self.bias\n",
    "            y_pred = self._sigmoid(z)\n",
    "            error = y_sample - y_pred\n",
    "\n",
    "            # Actualizar los pesos\n",
    "            self.weights += self.learning_rate * np.dot(X_sample.T, error)\n",
    "            self.bias += self.learning_rate * np.sum(error)\n",
    "\n",
    "    def predict(self, X):\n",
    "        # Calcular la probabilidad de pertenecer a la clase positiva\n",
    "        z = np.dot(X, self.weights) + self.bias\n",
    "        y_pred = self._sigmoid(z)\n",
    "\n",
    "        # Convertir la probabilidad en una etiqueta de clase binaria\n",
    "        return np.round(y_pred)\n",
    "\n",
    "    def _sigmoid(self, z):\n",
    "        # Función sigmoide\n",
    "        return 1 / (1 + np.exp(-z))"
   ]
  },
  {
   "cell_type": "markdown",
   "id": "3cf62598",
   "metadata": {},
   "source": [
    "### Set de datos Red Wine Quality"
   ]
  },
  {
   "cell_type": "code",
   "execution_count": 78,
   "id": "83a53502",
   "metadata": {},
   "outputs": [
    {
     "name": "stdout",
     "output_type": "stream",
     "text": [
      "0       0\n",
      "1       0\n",
      "2       0\n",
      "3       1\n",
      "4       0\n",
      "       ..\n",
      "1594    0\n",
      "1595    1\n",
      "1596    1\n",
      "1597    0\n",
      "1598    1\n",
      "Name: quality, Length: 1599, dtype: int64\n",
      "fixed acidity           float64\n",
      "volatile acidity        float64\n",
      "citric acid             float64\n",
      "residual sugar          float64\n",
      "chlorides               float64\n",
      "free sulfur dioxide     float64\n",
      "total sulfur dioxide    float64\n",
      "density                 float64\n",
      "pH                      float64\n",
      "sulphates               float64\n",
      "alcohol                 float64\n",
      "quality                   int64\n",
      "dtype: object\n"
     ]
    }
   ],
   "source": [
    "# Cargar los datos de red wine quality\n",
    "data = pd.read_csv(\"winequality-red.csv\")\n",
    "data['quality'] = np.where(data['quality'] > 5, 1, 0)  # Convertir la calidad en un problema de clasificación binaria\n",
    "print(data['quality'])\n",
    "# Dividir los datos en conjunto de entrenamiento y prueba\n",
    "train_data = data.sample(frac=0.8, random_state=42)\n",
    "test_data = data.drop(train_data.index)"
   ]
  },
  {
   "cell_type": "code",
   "execution_count": 5,
   "id": "02738344",
   "metadata": {},
   "outputs": [],
   "source": [
    "# Crear los vectores de características y etiquetas de entrenamiento y prueba\n",
    "X_train = train_data.drop(['quality'], axis=1).values\n",
    "y_train = train_data['quality'].values\n",
    "X_test = test_data.drop(['quality'], axis=1).values\n",
    "y_test = test_data['quality'].values\n",
    "\n",
    "# Entrenar el modelo de regresión logística\n",
    "model = LogisticRegressionN()\n",
    "model.fit(X_train, y_train)\n",
    "\n",
    "# Realizar predicciones sobre los datos de prueba\n",
    "y_pred = model.predict(X_test)"
   ]
  },
  {
   "cell_type": "code",
   "execution_count": 6,
   "id": "964c405f",
   "metadata": {},
   "outputs": [
    {
     "name": "stdout",
     "output_type": "stream",
     "text": [
      "Exactitud: 0.7125\n",
      "Precisión: 0.9074074074074074\n",
      "Recall: 0.5444444444444444\n",
      "AUC: 0.8517460317460317\n"
     ]
    },
    {
     "data": {
      "text/plain": [
       "[<matplotlib.lines.Line2D at 0x7f46a5971ae0>]"
      ]
     },
     "execution_count": 6,
     "metadata": {},
     "output_type": "execute_result"
    },
    {
     "data": {
      "image/png": "[encoded data removed]",
      "text/plain": [
       "<Figure size 640x480 with 1 Axes>"
      ]
     },
     "metadata": {},
     "output_type": "display_data"
    }
   ],
   "source": [
    "\n",
    "# Calcular la exactitud\n",
    "accuracy_data.append(accuracy_score(y_test, y_pred))\n",
    "print(f\"Exactitud: {accuracy_data[0]}\")\n",
    "\n",
    "# Calcular la precisión\n",
    "precision_data.append(precision_score(y_test, y_pred))\n",
    "print(f\"Precisión: {precision_data[0]}\")\n",
    "\n",
    "# Calcular el recall\n",
    "recall_data.append(recall_score(y_test, y_pred))\n",
    "print(f\"Recall: {recall_data[0]}\")\n",
    "\n",
    "# Calcular el AUC\n",
    "y_pred_proba = np.dot(X_test, model.weights) + model.bias\n",
    "auc_data.append(roc_auc_score(y_test, y_pred_proba))\n",
    "plt.scatter(y_test, y_pred_proba,color='red')\n",
    "\n",
    "print(f\"AUC: {auc_data[0]}\")\n",
    "\n",
    "# Calcular la curva ROC\n",
    "fpr, tpr, _ = roc_curve(y_test, y_pred_proba)\n",
    "plt.plot(fpr, tpr,color='blue')"
   ]
  },
  {
   "cell_type": "markdown",
   "id": "95b222a1",
   "metadata": {},
   "source": [
    "### Set de datos Notas de Arquitectura de Computadores 1"
   ]
  },
  {
   "cell_type": "code",
   "execution_count": 77,
   "id": "09dc6719",
   "metadata": {},
   "outputs": [
    {
     "data": {
      "text/plain": [
       "Examen 1 15.0%                           object\n",
       "Tarea 1 3.75%                            object\n",
       "Proyecto Individual Funcional 11.25%     object\n",
       "Proyecto Grupal 1 Funcional 13.12%       object\n",
       "Total:                                  float64\n",
       "dtype: object"
      ]
     },
     "execution_count": 77,
     "metadata": {},
     "output_type": "execute_result"
    }
   ],
   "source": [
    "# Cargar los datos de Arquitectura 1\n",
    "data_arquiI_2021_s1 = pd.read_csv(\"2021-s1.csv\", delimiter=';')\n",
    "data_arquiI_2021_s2 = pd.read_csv(\"2021-s2.csv\", delimiter=';')\n",
    "data_arquiI_2022_s1 = pd.read_csv(\"2022-s1.csv\", delimiter=';')\n",
    "data_arquiI_2022_s2 = pd.read_csv(\"2022-s2.csv\", delimiter=';')\n",
    "\n",
    "#=======  Feature Engineering  =======#\n",
    "\n",
    "# Conservar solo features que se toman en cuenta de cada archivo\n",
    "data_arquiI_2021_s1 = data_arquiI_2021_s1.loc[:, ['Examen 1 15.0%', 'Tarea 1 3.75%',\n",
    "       'Proyecto Individual Funcional 11.25%','Proyecto Grupal 1 Funcional 13.12%', 'Total: ']]\n",
    "data_arquiI_2021_s2 = data_arquiI_2021_s2.loc[:, ['Examen 1 15.0%', 'Tarea 1', \n",
    "       'Proyecto Individual Funcional 11.25%','Proyecto Grupal 1 Funcional 13.12%', 'Total: ']]\n",
    "data_arquiI_2022_s1 = data_arquiI_2022_s1.loc[:, ['Examen parcial 1 15%', 'Tarea 1 evaluación 3.75%',\n",
    "       'Proyecto Individual Funcional 11.25%','Proyecto Grupal 1 Funcional 13.12%', 'Total: ']]\n",
    "data_arquiI_2022_s2 = data_arquiI_2022_s2.loc[:, ['Examen parcial 1 15%', 'Tarea 1 3.75%',\n",
    "       'Proyecto Individual Funcional 11.25%','Proyecto Grupal 1 Func Eval 13.12%', 'Total: ']]\n",
    "\n",
    "#Renombrar columnas para combinarlas\n",
    "data_arquiI_2021_s1 = data_arquiI_2021_s1.rename(columns={'Examen parcial 1 15%': 'Examen 1 15.0%'})\n",
    "data_arquiI_2021_s2 = data_arquiI_2021_s2.rename(columns={'Tarea 1': 'Tarea 1 3.75%'})\n",
    "data_arquiI_2022_s1 = data_arquiI_2022_s1.rename(columns={'Examen parcial 1 15%': 'Examen 1 15.0%', \n",
    "                            'Tarea 1 evaluación 3.75%': 'Tarea 1 3.75%'})\n",
    "data_arquiI_2022_s2 = data_arquiI_2022_s2.rename(columns={'Examen parcial 1 15%': 'Examen 1 15.0%', \n",
    "                            'Proyecto Grupal 1 Func Eval 13.12%': 'Proyecto Grupal 1 Funcional 13.12%'})\n",
    "\n",
    "#Combinar todos los datos en un solo set\n",
    "data_arquiI_combined = pd.concat([data_arquiI_2021_s1, data_arquiI_2021_s2,\n",
    "                                  data_arquiI_2022_s1, data_arquiI_2022_s2], \n",
    "                                  axis=0, ignore_index=True)\n",
    "#data_arquiI_combined.columns\n",
    "#data_arquiI_combined['Examen 1 15.0%'] = data_arquiI_combined['Examen 1 15.0%'].astype('float64')\n",
    "data_arquiI_combined = data_arquiI_combined.infer_objects()\n",
    "data_arquiI_combined.dtypes\n",
    "# Convertir la calidad en un problema de clasificación binaria\n",
    "#data_arquiI_combined['Total: '] = np.where(data['Total: '] >= 67.5, 1, 0) \n",
    "\n",
    "#print(data['quality'])\n",
    "## Dividir los datos en conjunto de entrenamiento y prueba\n",
    "#train_data = data.sample(frac=0.8, random_state=42)\n",
    "#test_data = data.drop(train_data.index)"
   ]
  },
  {
   "cell_type": "markdown",
   "id": "40735c30",
   "metadata": {},
   "source": [
    "### Set de datos Propio"
   ]
  },
  {
   "cell_type": "code",
   "execution_count": null,
   "id": "cba95b30",
   "metadata": {},
   "outputs": [],
   "source": []
  },
  {
   "cell_type": "markdown",
   "id": "72ff68df",
   "metadata": {},
   "source": [
    "## Árboles de decisión"
   ]
  },
  {
   "cell_type": "code",
   "execution_count": 7,
   "id": "740872ad",
   "metadata": {},
   "outputs": [],
   "source": [
    "# Función para dividir los datos en dos grupos en función de un valor de corte\n",
    "def split_data(data, split_column, split_value):\n",
    "    data_below = data[data[split_column] <= split_value]\n",
    "    data_above = data[data[split_column] > split_value]\n",
    "    return data_below, data_above\n",
    "\n",
    "# Función para calcular la entropía de un conjunto de datos\n",
    "def entropy(data, target_column):\n",
    "    _, counts = np.unique(data[target_column], return_counts=True)\n",
    "    probabilities = counts / counts.sum()\n",
    "    entropy = sum(probabilities * -np.log2(probabilities))\n",
    "    return entropy\n",
    "\n",
    "# Función para calcular la ganancia de información al dividir un conjunto de datos en dos grupos\n",
    "def information_gain(data, split_column, target_column):\n",
    "    original_entropy = entropy(data, target_column)\n",
    "    data_below, data_above = split_data(data, split_column, data[split_column].median())\n",
    "    n = len(data)\n",
    "    n_below = len(data_below)\n",
    "    n_above = len(data_above)\n",
    "    below_weight = n_below / n\n",
    "    above_weight = n_above / n\n",
    "    weighted_entropy = below_weight * entropy(data_below, target_column) + above_weight * entropy(data_above, target_column)\n",
    "    information_gain = original_entropy - weighted_entropy\n",
    "    return information_gain\n",
    "\n",
    "# Función para encontrar el mejor atributo de división para un conjunto de datos\n",
    "def find_best_split(data, target_column):\n",
    "    information_gains = []\n",
    "    for column in data.columns:\n",
    "        if column == target_column:\n",
    "            continue\n",
    "        information_gain1 = information_gain(data, column, target_column)\n",
    "        information_gains.append((column, information_gain1))\n",
    "    best_split_column, best_information_gain = max(information_gains, key=lambda x: x[1])\n",
    "    return best_split_column\n",
    "\n",
    "# Función para crear un nodo de decisión en el árbol\n",
    "def create_decision_node(data, target_column):\n",
    "    # Si todos los valores en el conjunto de datos tienen la misma etiqueta, crear un nodo hoja\n",
    "    if len(np.unique(data[target_column])) == 1:\n",
    "        return data[target_column].iloc[0]\n",
    "    \n",
    "    # Si no hay más atributos para dividir, crear un nodo hoja con la etiqueta más común\n",
    "    if len(data.columns) == 1:\n",
    "        return np.bincount(data[target_column]).argmax()\n",
    "    \n",
    "    # Encontrar el mejor atributo de división para el conjunto de datos\n",
    "    best_split_column = find_best_split(data, target_column)\n",
    "    \n",
    "    # Crear un nodo de decisión con el mejor atributo de división\n",
    "    decision_node = {'split_column': best_split_column}\n",
    "    median = data[best_split_column].median()\n",
    "    decision_node['median'] = median\n",
    "    \n",
    "    # Dividir los datos en dos grupos\n",
    "    data_below, data_above = split_data(data, best_split_column, median)\n",
    "    \n",
    "    # Recursivamente crear los hijos del nodo de decisión\n",
    "    decision_node['below'] = create_decision_node(data_below, target_column)\n",
    "    decision_node['above'] = create_decision_node(data_above, target_column)\n",
    "    \n",
    "    return decision_node\n",
    "\n",
    "# Función para predecir la etiqueta de un ejemplo utilizando el árbol de decisión\n",
    "def predict(example, decision_tree):\n",
    "    if type(decision_tree) != dict:\n",
    "        return decision_tree\n",
    "    split_column = decision_tree['split_column']\n",
    "    median = decision_tree['median']\n",
    "    if example[split_column] <= median:\n",
    "        return predict(example, decision_tree['below'])\n",
    "    else:\n",
    "        return predict(example, decision_tree['above'])\n"
   ]
  },
  {
   "cell_type": "markdown",
   "id": "3eca9148",
   "metadata": {},
   "source": [
    "### Set de datos Red Wine Quality"
   ]
  },
  {
   "cell_type": "code",
   "execution_count": 8,
   "id": "f3e25672",
   "metadata": {},
   "outputs": [],
   "source": [
    "# Leer los datos\n",
    "data = pd.read_csv('https://archive.ics.uci.edu/ml/machine-learning-databases/wine-quality/winequality-red.csv', sep=';')\n",
    "\n",
    "# Dividir los datos en conjunto de entrenamiento y prueba\n",
    "np.random.seed(0)\n",
    "train_data = data.sample(frac=0.8)\n",
    "test_data = data.drop(train_data.index)\n",
    "\n",
    "# Separar los predictores y las etiquetas\n",
    "X_train = train_data.drop('quality', axis=1)\n",
    "y_train = train_data['quality']\n",
    "X_test = test_data.drop('quality', axis=1)\n",
    "y_test = test_data['quality']\n"
   ]
  },
  {
   "cell_type": "code",
   "execution_count": 9,
   "id": "15b2e892",
   "metadata": {},
   "outputs": [],
   "source": [
    "# Crear el árbol de decisión a partir del conjunto de entrenamiento\n",
    "decision_tree = create_decision_node(train_data, 'quality')\n",
    "\n",
    "# Evaluar el árbol de decisión en el conjunto de prueba\n",
    "y_pred = X_test.apply(lambda x: predict(x, decision_tree), axis=1)"
   ]
  },
  {
   "cell_type": "code",
   "execution_count": 10,
   "id": "5c7bcc46",
   "metadata": {},
   "outputs": [
    {
     "name": "stdout",
     "output_type": "stream",
     "text": [
      "0.628125\n",
      "0.6129674238163412\n",
      "0.628125\n"
     ]
    }
   ],
   "source": [
    "# Calcular la precisión, recall y AUC\n",
    "accuracy_data.append( accuracy_score(y_test, y_pred))\n",
    "precision_data.append(precision_score(y_test, y_pred, average='weighted'))\n",
    "recall_data.append(recall_score(y_test, y_pred, average='weighted'))\n",
    "#auc_data.append(roc_auc_score(y_test, y_pred, multi_class='ovr'))\n",
    "\n",
    "print(accuracy_data[1])\n",
    "print(precision_data[1])\n",
    "print(recall_data[1])\n",
    "#print(auc_data[1])\n"
   ]
  },
  {
   "cell_type": "markdown",
   "id": "dad873da",
   "metadata": {},
   "source": [
    "### Set de datos Notas de Arquitectura de Computadores 1"
   ]
  },
  {
   "cell_type": "code",
   "execution_count": null,
   "id": "b0fd6ee0",
   "metadata": {},
   "outputs": [],
   "source": []
  },
  {
   "cell_type": "markdown",
   "id": "092afe24",
   "metadata": {},
   "source": [
    "### Set de datos Propio"
   ]
  },
  {
   "cell_type": "code",
   "execution_count": null,
   "id": "65902031",
   "metadata": {},
   "outputs": [],
   "source": []
  },
  {
   "cell_type": "markdown",
   "id": "7b04012c",
   "metadata": {},
   "source": [
    "## KNN"
   ]
  },
  {
   "cell_type": "code",
   "execution_count": 11,
   "id": "b2072414",
   "metadata": {},
   "outputs": [],
   "source": [
    "import sklearn.datasets as datasets\n",
    "from sklearn.model_selection import train_test_split\n",
    "from sklearn.neighbors import KNeighborsClassifier\n",
    "import pandas as pd\n",
    "import time\n",
    "from matplotlib import pyplot as plt"
   ]
  },
  {
   "cell_type": "code",
   "execution_count": 12,
   "id": "45bf000f",
   "metadata": {},
   "outputs": [],
   "source": [
    "class KNearestNeighbors():\n",
    "    def __init__(self, X_train, y_train, n_neighbors=5, weights='distance'):\n",
    "\n",
    "        self.X_train = X_train\n",
    "        self.y_train = y_train\n",
    "\n",
    "        self.n_neighbors = n_neighbors\n",
    "        self.weights = weights\n",
    "\n",
    "        self.n_classes = 2\n",
    "\n",
    "    def euclidian_distance(self, a, b):\n",
    "        return np.sqrt(np.sum((a - b)**2, axis=1))\n",
    "\n",
    "    def kneighbors(self, X_test, return_distance=False):\n",
    "\n",
    "        dist = []\n",
    "        neigh_ind = []\n",
    "\n",
    "        #print(X_test, self.X_train. X_test, self.X_train)\n",
    "        point_dist = []\n",
    "        for x_test in X_test:\n",
    "            point_dist += [ self.euclidian_distance(x_test, self.X_train) ]\n",
    "\n",
    "        for row in point_dist:\n",
    "            enum_neigh = enumerate(row)\n",
    "            sorted_neigh = sorted(enum_neigh,\n",
    "                                  key=lambda x: x[1])[:self.n_neighbors]\n",
    "            #print(\"Sorted_neighs: \", sorted_neigh)\n",
    "            ind_list = [tup[0] for tup in sorted_neigh]\n",
    "            dist_list = [tup[1] for tup in sorted_neigh]\n",
    "\n",
    "            dist.append(dist_list)\n",
    "            neigh_ind.append(ind_list)\n",
    "\n",
    "        if return_distance:\n",
    "            return np.array(dist), np.array(neigh_ind)\n",
    "\n",
    "        return np.array(neigh_ind)\n",
    "\n",
    "    def predict(self, X_test):\n",
    "\n",
    "        if self.weights == 'uniform':\n",
    "            neighbors = self.kneighbors(X_test)\n",
    "            y_pred = np.array([\n",
    "                np.argmax(np.bincount(self.y_train[neighbor]))\n",
    "                for neighbor in neighbors\n",
    "            ])\n",
    "            #print(\"Y_pred: \", y_pred)\n",
    "            return y_pred\n",
    "\n",
    "        if self.weights == 'distance':\n",
    "\n",
    "            dist, neigh_ind = self.kneighbors(X_test, return_distance=True) #Obtener distancias y vecinos\n",
    "            neighbors = []\n",
    "            neighbors = [self.y_train[i] for i in neigh_ind] #Obtener los tipos segun los indices de vecinos\n",
    "            \n",
    "            y_pred = []\n",
    "            for i in range(len(neighbors)):\n",
    "                distances = {}                              #Diccionario para guardar distancias por tipo\n",
    "                for j in range(len(neighbors[i])):\n",
    "                    neighbor_type = neighbors[i][j]         #Obtener tipo de vecino\n",
    "                    distance = dist[i][j]                   #Obtener distancia a dicho vecino\n",
    "                    if neighbor_type in distances:          #Guardar en el diccionario\n",
    "                        distances[neighbor_type].append(distance)\n",
    "                    else:\n",
    "                        distances[neighbor_type] = [distance]\n",
    "                \n",
    "                average_distances = {}                      #Diccionario para guardar promedio de distancias\n",
    "                for neighbor_type in distances:\n",
    "                    average_distance = np.mean(distances[neighbor_type])\n",
    "                    average_distances[neighbor_type] = average_distance\n",
    "\n",
    "                #Obtener minima distancia promedio \n",
    "                min_distance_type = min(average_distances, key=average_distances.get)\n",
    "                #print(\"El tipo {} tiene la mínima distacia promedio y es: {}\".format(min_distance_type, average_distances[min_distance_type]))\n",
    "                y_pred.append(min_distance_type)\n",
    "\n",
    "            return y_pred\n",
    "\n",
    "    def score(self, X_test, y_test):\n",
    "        y_pred = self.predict(X_test)\n",
    "        return float(sum(y_pred == y_test)) / float(len(y_test)), y_pred, y_test\n"
   ]
  },
  {
   "cell_type": "markdown",
   "id": "87429d42",
   "metadata": {},
   "source": [
    "### Set de datos Red Wine Quality"
   ]
  },
  {
   "cell_type": "code",
   "execution_count": 13,
   "id": "938f60e0",
   "metadata": {},
   "outputs": [
    {
     "name": "stdout",
     "output_type": "stream",
     "text": [
      "0       0\n",
      "1       0\n",
      "2       0\n",
      "3       1\n",
      "4       0\n",
      "       ..\n",
      "1594    0\n",
      "1595    1\n",
      "1596    1\n",
      "1597    0\n",
      "1598    1\n",
      "Name: quality, Length: 1599, dtype: int64\n"
     ]
    }
   ],
   "source": [
    "\n",
    "data = pd.read_csv(\"winequality-red.csv\")\n",
    "data['quality'] = np.where(data['quality'] > 5, 1, 0)  \n",
    "print(data['quality'])\n",
    "# Dividir los datos en conjunto de entrenamiento y prueba\n",
    "train_data = data.sample(frac=0.8, random_state=45)\n",
    "test_data = data.drop(train_data.index)\n",
    "\n",
    "\n",
    "X_train = train_data.drop(['quality'], axis=1).values\n",
    "y_train = train_data['quality'].values\n",
    "X_test = test_data.drop(['quality'], axis=1).values\n",
    "y_test = test_data['quality'].values\n",
    "\n"
   ]
  },
  {
   "cell_type": "code",
   "execution_count": 14,
   "id": "0a67fae8",
   "metadata": {},
   "outputs": [
    {
     "ename": "NameError",
     "evalue": "name 'X' is not defined",
     "output_type": "error",
     "traceback": [
      "\u001b[0;31m---------------------------------------------------------------------------\u001b[0m",
      "\u001b[0;31mNameError\u001b[0m                                 Traceback (most recent call last)",
      "Cell \u001b[0;32mIn[14], line 1\u001b[0m\n\u001b[0;32m----> 1\u001b[0m \u001b[39mif\u001b[39;00m \u001b[39misinstance\u001b[39m(X, pd\u001b[39m.\u001b[39mDataFrame):\n\u001b[1;32m      2\u001b[0m     X \u001b[39m=\u001b[39m X\u001b[39m.\u001b[39mto_numpy()\n\u001b[1;32m      3\u001b[0m     y \u001b[39m=\u001b[39m y\u001b[39m.\u001b[39mto_numpy()\n",
      "\u001b[0;31mNameError\u001b[0m: name 'X' is not defined"
     ]
    }
   ],
   "source": [
    "if isinstance(X, pd.DataFrame):\n",
    "    X = X.to_numpy()\n",
    "    y = y.to_numpy()\n",
    "\n",
    "\n",
    "#Instanciar clasificadores\n",
    "distance_classifier = KNearestNeighbors(X_train, y_train, n_neighbors=5)\n",
    "    \n",
    "\n",
    "distance_accuracy, y_pred, y_test = distance_classifier.score(X_test, y_test)\n",
    "\n",
    "print(distance_accuracy)\n"
   ]
  },
  {
   "cell_type": "code",
   "execution_count": null,
   "id": "24f2c3e1",
   "metadata": {},
   "outputs": [
    {
     "name": "stdout",
     "output_type": "stream",
     "text": [
      "0.628125\n",
      "0.6129674238163412\n",
      "0.628125\n"
     ]
    }
   ],
   "source": [
    "# Calcular la precisión, recall y AUC\n",
    "accuracy_data.append( distance_accuracy)\n",
    "precision_data.append(precision_score(y_test, y_pred, average='weighted'))\n",
    "recall_data.append(recall_score(y_test, y_pred, average='weighted'))\n",
    "#auc_data.append(roc_auc_score(y_test, y_pred, multi_class='ovr'))\n",
    "\n",
    "print(accuracy_data[1])\n",
    "print(precision_data[1])\n",
    "print(recall_data[1])\n",
    "#print(auc_data[1])"
   ]
  },
  {
   "cell_type": "markdown",
   "id": "a0ae8b32",
   "metadata": {},
   "source": [
    "### Set de datos Notas de Arquitectura de Computadores 1"
   ]
  },
  {
   "cell_type": "code",
   "execution_count": null,
   "id": "e95233d0",
   "metadata": {},
   "outputs": [],
   "source": []
  },
  {
   "cell_type": "markdown",
   "id": "5869507f",
   "metadata": {},
   "source": [
    "### Set de datos Propio"
   ]
  },
  {
   "cell_type": "code",
   "execution_count": null,
   "id": "6305a3f0",
   "metadata": {},
   "outputs": [],
   "source": []
  },
  {
   "cell_type": "markdown",
   "id": "5a7fc3f9",
   "metadata": {},
   "source": [
    "## Comparación con sklearn"
   ]
  },
  {
   "cell_type": "markdown",
   "id": "d32d76a6",
   "metadata": {},
   "source": [
    "### Regresión Logística Red Wine Quality Sklearn"
   ]
  },
  {
   "cell_type": "code",
   "execution_count": null,
   "id": "f2323f07",
   "metadata": {},
   "outputs": [],
   "source": [
    "from sklearn.datasets import load_wine\n",
    "import pandas as pd\n",
    "import matplotlib.pyplot as plt\n",
    "\n",
    "# Cargar el conjunto de datos de vino\n",
    "data = load_wine()\n",
    "\n",
    "# Crear un dataframe a partir de los datos\n",
    "df = pd.DataFrame(data.data, columns=data.feature_names)\n",
    "df['target'] = data.target"
   ]
  },
  {
   "cell_type": "code",
   "execution_count": null,
   "id": "258cc42c",
   "metadata": {},
   "outputs": [],
   "source": [
    "from sklearn.model_selection import train_test_split\n",
    "\n",
    "# Separar los datos en conjunto de entrenamiento y prueba\n",
    "X_train, X_test, y_train, y_test = train_test_split(df.drop('target', axis=1), df['target'], test_size=0.2, random_state=42)\n"
   ]
  },
  {
   "cell_type": "code",
   "execution_count": null,
   "id": "7fb10774",
   "metadata": {},
   "outputs": [
    {
     "name": "stderr",
     "output_type": "stream",
     "text": [
      "/home/guillen/.local/lib/python3.8/site-packages/sklearn/linear_model/_logistic.py:458: ConvergenceWarning: lbfgs failed to converge (status=1):\n",
      "STOP: TOTAL NO. of ITERATIONS REACHED LIMIT.\n",
      "\n",
      "Increase the number of iterations (max_iter) or scale the data as shown in:\n",
      "    https://scikit-learn.org/stable/modules/preprocessing.html\n",
      "Please also refer to the documentation for alternative solver options:\n",
      "    https://scikit-learn.org/stable/modules/linear_model.html#logistic-regression\n",
      "  n_iter_i = _check_optimize_result(\n"
     ]
    },
    {
     "data": {
      "text/html": [
       "<style>#sk-container-id-2 {color: black;background-color: white;}#sk-container-id-2 pre{padding: 0;}#sk-container-id-2 div.sk-toggleable {background-color: white;}#sk-container-id-2 label.sk-toggleable__label {cursor: pointer;display: block;width: 100%;margin-bottom: 0;padding: 0.3em;box-sizing: border-box;text-align: center;}#sk-container-id-2 label.sk-toggleable__label-arrow:before {content: \"▸\";float: left;margin-right: 0.25em;color: #696969;}#sk-container-id-2 label.sk-toggleable__label-arrow:hover:before {color: black;}#sk-container-id-2 div.sk-estimator:hover label.sk-toggleable__label-arrow:before {color: black;}#sk-container-id-2 div.sk-toggleable__content {max-height: 0;max-width: 0;overflow: hidden;text-align: left;background-color: #f0f8ff;}#sk-container-id-2 div.sk-toggleable__content pre {margin: 0.2em;color: black;border-radius: 0.25em;background-color: #f0f8ff;}#sk-container-id-2 input.sk-toggleable__control:checked~div.sk-toggleable__content {max-height: 200px;max-width: 100%;overflow: auto;}#sk-container-id-2 input.sk-toggleable__control:checked~label.sk-toggleable__label-arrow:before {content: \"▾\";}#sk-container-id-2 div.sk-estimator input.sk-toggleable__control:checked~label.sk-toggleable__label {background-color: #d4ebff;}#sk-container-id-2 div.sk-label input.sk-toggleable__control:checked~label.sk-toggleable__label {background-color: #d4ebff;}#sk-container-id-2 input.sk-hidden--visually {border: 0;clip: rect(1px 1px 1px 1px);clip: rect(1px, 1px, 1px, 1px);height: 1px;margin: -1px;overflow: hidden;padding: 0;position: absolute;width: 1px;}#sk-container-id-2 div.sk-estimator {font-family: monospace;background-color: #f0f8ff;border: 1px dotted black;border-radius: 0.25em;box-sizing: border-box;margin-bottom: 0.5em;}#sk-container-id-2 div.sk-estimator:hover {background-color: #d4ebff;}#sk-container-id-2 div.sk-parallel-item::after {content: \"\";width: 100%;border-bottom: 1px solid gray;flex-grow: 1;}#sk-container-id-2 div.sk-label:hover label.sk-toggleable__label {background-color: #d4ebff;}#sk-container-id-2 div.sk-serial::before {content: \"\";position: absolute;border-left: 1px solid gray;box-sizing: border-box;top: 0;bottom: 0;left: 50%;z-index: 0;}#sk-container-id-2 div.sk-serial {display: flex;flex-direction: column;align-items: center;background-color: white;padding-right: 0.2em;padding-left: 0.2em;position: relative;}#sk-container-id-2 div.sk-item {position: relative;z-index: 1;}#sk-container-id-2 div.sk-parallel {display: flex;align-items: stretch;justify-content: center;background-color: white;position: relative;}#sk-container-id-2 div.sk-item::before, #sk-container-id-2 div.sk-parallel-item::before {content: \"\";position: absolute;border-left: 1px solid gray;box-sizing: border-box;top: 0;bottom: 0;left: 50%;z-index: -1;}#sk-container-id-2 div.sk-parallel-item {display: flex;flex-direction: column;z-index: 1;position: relative;background-color: white;}#sk-container-id-2 div.sk-parallel-item:first-child::after {align-self: flex-end;width: 50%;}#sk-container-id-2 div.sk-parallel-item:last-child::after {align-self: flex-start;width: 50%;}#sk-container-id-2 div.sk-parallel-item:only-child::after {width: 0;}#sk-container-id-2 div.sk-dashed-wrapped {border: 1px dashed gray;margin: 0 0.4em 0.5em 0.4em;box-sizing: border-box;padding-bottom: 0.4em;background-color: white;}#sk-container-id-2 div.sk-label label {font-family: monospace;font-weight: bold;display: inline-block;line-height: 1.2em;}#sk-container-id-2 div.sk-label-container {text-align: center;}#sk-container-id-2 div.sk-container {/* jupyter's `normalize.less` sets `[hidden] { display: none; }` but bootstrap.min.css set `[hidden] { display: none !important; }` so we also need the `!important` here to be able to override the default hidden behavior on the sphinx rendered scikit-learn.org. See: https://github.com/scikit-learn/scikit-learn/issues/21755 */display: inline-block !important;position: relative;}#sk-container-id-2 div.sk-text-repr-fallback {display: none;}</style><div id=\"sk-container-id-2\" class=\"sk-top-container\"><div class=\"sk-text-repr-fallback\"><pre>LogisticRegression()</pre><b>In a Jupyter environment, please rerun this cell to show the HTML representation or trust the notebook. <br />On GitHub, the HTML representation is unable to render, please try loading this page with nbviewer.org.</b></div><div class=\"sk-container\" hidden><div class=\"sk-item\"><div class=\"sk-estimator sk-toggleable\"><input class=\"sk-toggleable__control sk-hidden--visually\" id=\"sk-estimator-id-2\" type=\"checkbox\" checked><label for=\"sk-estimator-id-2\" class=\"sk-toggleable__label sk-toggleable__label-arrow\">LogisticRegression</label><div class=\"sk-toggleable__content\"><pre>LogisticRegression()</pre></div></div></div></div></div>"
      ],
      "text/plain": [
       "LogisticRegression()"
      ]
     },
     "execution_count": 88,
     "metadata": {},
     "output_type": "execute_result"
    }
   ],
   "source": [
    "from sklearn.linear_model import LogisticRegression\n",
    "\n",
    "# Crear un objeto de regresión logística\n",
    "model = LogisticRegression(max_iter=100)\n",
    "\n",
    "# Entrenar el modelo con los datos de entrenamiento\n",
    "model.fit(X_train, y_train)\n"
   ]
  },
  {
   "cell_type": "code",
   "execution_count": null,
   "id": "3c328c54",
   "metadata": {},
   "outputs": [
    {
     "name": "stdout",
     "output_type": "stream",
     "text": [
      "0\n",
      "0\n",
      "0\n",
      "0\n"
     ]
    },
    {
     "data": {
      "text/plain": [
       "<matplotlib.collections.PathCollection at 0x7ff691fd85e0>"
      ]
     },
     "execution_count": 89,
     "metadata": {},
     "output_type": "execute_result"
    },
    {
     "data": {
      "image/png": "[encoded data removed]",
      "text/plain": [
       "<Figure size 640x480 with 1 Axes>"
      ]
     },
     "metadata": {},
     "output_type": "display_data"
    }
   ],
   "source": [
    "from sklearn.metrics import accuracy_score, precision_score, recall_score, roc_auc_score, roc_curve\n",
    "\n",
    "# Realizar predicciones sobre los datos de prueba\n",
    "y_pred = model.predict(X_test)\n",
    "\n",
    "# Calcular la precisión, recall y AUC\n",
    "accuracy_sklearn.append( accuracy_score(y_test, y_pred))\n",
    "precision_sklearn.append(precision_score(y_test, y_pred, average='weighted'))\n",
    "recall_sklearn.append(recall_score(y_test, y_pred, average='weighted'))\n",
    "auc_sklearn.append(roc_auc_score(y_test, model.predict_proba(X_test), multi_class='ovr'))\n",
    "\n",
    "print(accuracy_sklearn[0])\n",
    "print(precision_sklearn[0])\n",
    "print(recall_sklearn[0])\n",
    "print(auc_sklearn[0])\n",
    "\n",
    "\n",
    "# Calcular la curva ROC\n",
    "fpr, tpr, thresholds = roc_curve(y_test, model.predict_proba(X_test)[:,1], pos_label=2)\n",
    "plt.scatter(fpr, tpr, color='red')"
   ]
  },
  {
   "cell_type": "markdown",
   "id": "2df54edb",
   "metadata": {},
   "source": [
    "### Regresión Logística Notas de Arquitectura de Computadores 1 Sklearn"
   ]
  },
  {
   "cell_type": "code",
   "execution_count": null,
   "id": "5013de0e",
   "metadata": {},
   "outputs": [],
   "source": []
  },
  {
   "cell_type": "markdown",
   "id": "5ddd5697",
   "metadata": {},
   "source": [
    "### Regresión Logística Propio Sklearn"
   ]
  },
  {
   "cell_type": "code",
   "execution_count": null,
   "id": "0ef39ea8",
   "metadata": {},
   "outputs": [],
   "source": []
  },
  {
   "cell_type": "markdown",
   "id": "01fe9a99",
   "metadata": {},
   "source": [
    "### Árboles de decisión Red Wine Quality"
   ]
  },
  {
   "cell_type": "code",
   "execution_count": null,
   "id": "29b4879f",
   "metadata": {},
   "outputs": [
    {
     "name": "stdout",
     "output_type": "stream",
     "text": [
      "Precisión del modelo de árbol de decisiones: 0.64\n",
      "0\n",
      "0\n",
      "0\n"
     ]
    },
    {
     "name": "stderr",
     "output_type": "stream",
     "text": [
      "/home/guillen/.local/lib/python3.8/site-packages/sklearn/metrics/_ranking.py:1029: UndefinedMetricWarning: No positive samples in y_true, true positive value should be meaningless\n",
      "  warnings.warn(\n"
     ]
    },
    {
     "data": {
      "text/plain": [
       "<matplotlib.collections.PathCollection at 0x7ff6b053a250>"
      ]
     },
     "execution_count": 90,
     "metadata": {},
     "output_type": "execute_result"
    },
    {
     "data": {
      "image/png": "[encoded data removed]",
      "text/plain": [
       "<Figure size 640x480 with 1 Axes>"
      ]
     },
     "metadata": {},
     "output_type": "display_data"
    }
   ],
   "source": [
    "import pandas as pd\n",
    "from sklearn.tree import DecisionTreeClassifier\n",
    "from sklearn.model_selection import train_test_split\n",
    "\n",
    "# Cargar los datos\n",
    "data = pd.read_csv('https://archive.ics.uci.edu/ml/machine-learning-databases/wine-quality/winequality-red.csv', sep=';')\n",
    "# Definir el porcentaje de datos para el conjunto de entrenamiento\n",
    "train_size = 0.8\n",
    "\n",
    "# Dividir los datos en conjuntos de entrenamiento y prueba\n",
    "X = data.drop('quality', axis=1)\n",
    "y = data['quality']\n",
    "X_train, X_test, y_train, y_test = train_test_split(X, y, train_size=train_size, random_state=1)\n",
    "# Crear un objeto de árbol de decisiones\n",
    "tree = DecisionTreeClassifier(random_state=1)\n",
    "\n",
    "# Ajustar el modelo al conjunto de entrenamiento\n",
    "tree.fit(X_train, y_train)\n",
    "# Realizar predicciones en el conjunto de prueba\n",
    "y_pred = tree.predict(X_test)\n",
    "\n",
    "# Calcular la precisión del modelo\n",
    "accuracy = tree.score(X_test, y_test)\n",
    "print(f'Precisión del modelo de árbol de decisiones: {accuracy:.2f}')\n",
    "\n",
    "\n",
    "# Calcular la precisión, recall y AUC\n",
    "accuracy_sklearn.append( accuracy_score(y_test, y_pred))\n",
    "precision_sklearn.append(precision_score(y_test, y_pred, average='weighted'))\n",
    "recall_sklearn.append(recall_score(y_test, y_pred, average='weighted'))\n",
    "#auc_sklearn.append(roc_auc_score(y_test, model.predict_proba(X_test), multi_class='ovr'))\n",
    "\n",
    "print(accuracy_sklearn[1])\n",
    "print(precision_sklearn[1])\n",
    "print(recall_sklearn[1])\n",
    "#print(auc_sklearn[1])\n",
    "\n",
    "\n",
    "# Calcular la curva ROC\n",
    "fpr, tpr, thresholds = roc_curve(y_test, y_pred, pos_label=2)\n",
    "plt.scatter(fpr, tpr, color='red')"
   ]
  },
  {
   "cell_type": "markdown",
   "id": "74871c85",
   "metadata": {},
   "source": [
    "### Árboles de decisión Notas de Arquitectura de Computadores 1 Sklearn"
   ]
  },
  {
   "cell_type": "code",
   "execution_count": null,
   "id": "b20b27a1",
   "metadata": {},
   "outputs": [],
   "source": []
  },
  {
   "cell_type": "markdown",
   "id": "a69c8815",
   "metadata": {},
   "source": [
    "### Árboles de decisión Propio Sklearn"
   ]
  },
  {
   "cell_type": "code",
   "execution_count": null,
   "id": "8692b70f",
   "metadata": {},
   "outputs": [],
   "source": []
  },
  {
   "cell_type": "markdown",
   "id": "c139ddb1",
   "metadata": {},
   "source": [
    "### KNN Red Wine Quality Sklearn"
   ]
  },
  {
   "cell_type": "code",
   "execution_count": null,
   "id": "184563d1",
   "metadata": {},
   "outputs": [
    {
     "name": "stdout",
     "output_type": "stream",
     "text": [
      "0       0\n",
      "1       0\n",
      "2       0\n",
      "3       1\n",
      "4       0\n",
      "       ..\n",
      "1594    0\n",
      "1595    1\n",
      "1596    1\n",
      "1597    0\n",
      "1598    1\n",
      "Name: quality, Length: 1599, dtype: int64\n",
      "Precisión del algoritmo KNN: 0.64\n",
      "0\n",
      "0\n",
      "0\n"
     ]
    },
    {
     "name": "stderr",
     "output_type": "stream",
     "text": [
      "/home/guillen/.local/lib/python3.8/site-packages/sklearn/metrics/_ranking.py:1029: UndefinedMetricWarning: No positive samples in y_true, true positive value should be meaningless\n",
      "  warnings.warn(\n"
     ]
    },
    {
     "data": {
      "text/plain": [
       "<matplotlib.collections.PathCollection at 0x7ff6b048c760>"
      ]
     },
     "execution_count": 91,
     "metadata": {},
     "output_type": "execute_result"
    },
    {
     "data": {
      "image/png": "[encoded data removed]",
      "text/plain": [
       "<Figure size 640x480 with 1 Axes>"
      ]
     },
     "metadata": {},
     "output_type": "display_data"
    }
   ],
   "source": [
    "import pandas as pd\n",
    "from sklearn.neighbors import KNeighborsClassifier\n",
    "from sklearn.model_selection import train_test_split\n",
    "\n",
    "# Cargar los datos\n",
    "data = pd.read_csv('https://archive.ics.uci.edu/ml/machine-learning-databases/wine-quality/winequality-red.csv', sep=';')\n",
    "\n",
    "data['quality'] = np.where(data['quality'] > 5, 1, 0)  # Convertir la calidad en un problema de clasificación binaria\n",
    "print(data['quality'])\n",
    "\n",
    "\n",
    "# Definir el porcentaje de datos para el conjunto de entrenamiento\n",
    "train_size = 0.8\n",
    "\n",
    "# Dividir los datos en conjuntos de entrenamiento y prueba\n",
    "X = data.drop('quality', axis=1)\n",
    "y = data['quality']\n",
    "X_train, X_test, y_train, y_test = train_test_split(X, y, train_size=train_size, random_state=1)\n",
    "# Crear un objeto de clasificador KNN\n",
    "knn = KNeighborsClassifier(n_neighbors=5)\n",
    "\n",
    "# Ajustar el clasificador KNN al conjunto de entrenamiento\n",
    "knn.fit(X_train, y_train)\n",
    "# Realizar predicciones en el conjunto de prueba\n",
    "y_pred = knn.predict(X_test)\n",
    "\n",
    "\n",
    "# Calcular la precisión del algoritmo KNN\n",
    "accuracy = knn.score(X_test, y_test)\n",
    "print(f'Precisión del algoritmo KNN: {accuracy:.2f}')\n",
    "\n",
    "#-------------------------------------------------------------------------------------------------\n",
    "# Calcular las métricas de evaluación\n",
    "# Calcular la precisión, recall y AUC\n",
    "accuracy_sklearn.append( accuracy_score(y_test, y_pred))\n",
    "precision_sklearn.append(precision_score(y_test, y_pred, average='weighted'))\n",
    "recall_sklearn.append(recall_score(y_test, y_pred, average='weighted'))\n",
    "#auc_sklearn.append(roc_auc_score(y_test, y_pred, multi_class='ovr'))\n",
    "\n",
    "print(accuracy_sklearn[2])\n",
    "print(precision_sklearn[2])\n",
    "print(recall_sklearn[2])\n",
    "#print(auc_sklearn[2])\n",
    "\n",
    "# Calcular la curva ROC\n",
    "fpr, tpr, thresholds = roc_curve(y_test, y_pred, pos_label=2)\n",
    "plt.scatter(fpr, tpr, color='red')"
   ]
  },
  {
   "cell_type": "markdown",
   "id": "4c23eeeb",
   "metadata": {},
   "source": [
    "### KNN Notas de Arquitectura de Computadores 1 Sklearn"
   ]
  },
  {
   "cell_type": "code",
   "execution_count": null,
   "id": "3efcee1e",
   "metadata": {},
   "outputs": [],
   "source": []
  },
  {
   "cell_type": "markdown",
   "id": "a59e8610",
   "metadata": {},
   "source": [
    "### KNN Propio Sklearn"
   ]
  },
  {
   "cell_type": "code",
   "execution_count": null,
   "id": "3fceb41e",
   "metadata": {},
   "outputs": [],
   "source": []
  },
  {
   "cell_type": "markdown",
   "id": "ceaeb094",
   "metadata": {},
   "source": [
    "## Tabla Comparativa"
   ]
  },
  {
   "cell_type": "code",
   "execution_count": null,
   "id": "0509675c",
   "metadata": {},
   "outputs": [
    {
     "name": "stdout",
     "output_type": "stream",
     "text": [
      "Comparación de datos y algoritmos\n"
     ]
    },
    {
     "data": {
      "text/html": [
       "<div>\n",
       "<style scoped>\n",
       "    .dataframe tbody tr th:only-of-type {\n",
       "        vertical-align: middle;\n",
       "    }\n",
       "\n",
       "    .dataframe tbody tr th {\n",
       "        vertical-align: top;\n",
       "    }\n",
       "\n",
       "    .dataframe thead th {\n",
       "        text-align: right;\n",
       "    }\n",
       "</style>\n",
       "<table border=\"1\" class=\"dataframe\">\n",
       "  <thead>\n",
       "    <tr style=\"text-align: right;\">\n",
       "      <th></th>\n",
       "      <th>Accuracy</th>\n",
       "      <th>Precision</th>\n",
       "      <th>Recall</th>\n",
       "      <th>AUC</th>\n",
       "      <th>Accuracy_sklearn</th>\n",
       "      <th>Precision_sklearn</th>\n",
       "      <th>Recall_sklearn</th>\n",
       "      <th>AUC_sklearn</th>\n",
       "    </tr>\n",
       "  </thead>\n",
       "  <tbody>\n",
       "    <tr>\n",
       "      <th>Regresión Logística: Red wine Quality</th>\n",
       "      <td>0</td>\n",
       "      <td>0</td>\n",
       "      <td>0</td>\n",
       "      <td>0</td>\n",
       "      <td>0</td>\n",
       "      <td>0</td>\n",
       "      <td>0</td>\n",
       "      <td>0</td>\n",
       "    </tr>\n",
       "    <tr>\n",
       "      <th>Regresión Logística: Notas Arqui</th>\n",
       "      <td>0</td>\n",
       "      <td>0</td>\n",
       "      <td>0</td>\n",
       "      <td>0</td>\n",
       "      <td>0</td>\n",
       "      <td>0</td>\n",
       "      <td>0</td>\n",
       "      <td>0</td>\n",
       "    </tr>\n",
       "    <tr>\n",
       "      <th>Regresión Logística: Propio</th>\n",
       "      <td>0</td>\n",
       "      <td>0</td>\n",
       "      <td>0</td>\n",
       "      <td>0</td>\n",
       "      <td>0</td>\n",
       "      <td>0</td>\n",
       "      <td>0</td>\n",
       "      <td>0</td>\n",
       "    </tr>\n",
       "    <tr>\n",
       "      <th>Árboles de decisión: Red wine Quality</th>\n",
       "      <td>0</td>\n",
       "      <td>0</td>\n",
       "      <td>0</td>\n",
       "      <td>0</td>\n",
       "      <td>0</td>\n",
       "      <td>0</td>\n",
       "      <td>0</td>\n",
       "      <td>0</td>\n",
       "    </tr>\n",
       "    <tr>\n",
       "      <th>Árboles de decisión: Notas Arqui</th>\n",
       "      <td>0</td>\n",
       "      <td>0</td>\n",
       "      <td>0</td>\n",
       "      <td>0</td>\n",
       "      <td>0</td>\n",
       "      <td>0</td>\n",
       "      <td>0</td>\n",
       "      <td>0</td>\n",
       "    </tr>\n",
       "    <tr>\n",
       "      <th>Árboles de decisión: Propio</th>\n",
       "      <td>0</td>\n",
       "      <td>0</td>\n",
       "      <td>0</td>\n",
       "      <td>0</td>\n",
       "      <td>0</td>\n",
       "      <td>0</td>\n",
       "      <td>0</td>\n",
       "      <td>0</td>\n",
       "    </tr>\n",
       "    <tr>\n",
       "      <th>KNN: Red wine Quality</th>\n",
       "      <td>0</td>\n",
       "      <td>0</td>\n",
       "      <td>0</td>\n",
       "      <td>0</td>\n",
       "      <td>0</td>\n",
       "      <td>0</td>\n",
       "      <td>0</td>\n",
       "      <td>0</td>\n",
       "    </tr>\n",
       "    <tr>\n",
       "      <th>KNN: Notas Arqui</th>\n",
       "      <td>0</td>\n",
       "      <td>0</td>\n",
       "      <td>0</td>\n",
       "      <td>0</td>\n",
       "      <td>0</td>\n",
       "      <td>0</td>\n",
       "      <td>0</td>\n",
       "      <td>0</td>\n",
       "    </tr>\n",
       "    <tr>\n",
       "      <th>KNN: Propio</th>\n",
       "      <td>0</td>\n",
       "      <td>0</td>\n",
       "      <td>0</td>\n",
       "      <td>0</td>\n",
       "      <td>0</td>\n",
       "      <td>0</td>\n",
       "      <td>0</td>\n",
       "      <td>0</td>\n",
       "    </tr>\n",
       "  </tbody>\n",
       "</table>\n",
       "</div>"
      ],
      "text/plain": [
       "                                       Accuracy  Precision  Recall  AUC  \\\n",
       "Regresión Logística: Red wine Quality         0          0       0    0   \n",
       "Regresión Logística: Notas Arqui              0          0       0    0   \n",
       "Regresión Logística: Propio                   0          0       0    0   \n",
       "Árboles de decisión: Red wine Quality         0          0       0    0   \n",
       "Árboles de decisión: Notas Arqui              0          0       0    0   \n",
       "Árboles de decisión: Propio                   0          0       0    0   \n",
       "KNN: Red wine Quality                         0          0       0    0   \n",
       "KNN: Notas Arqui                              0          0       0    0   \n",
       "KNN: Propio                                   0          0       0    0   \n",
       "\n",
       "                                       Accuracy_sklearn  Precision_sklearn  \\\n",
       "Regresión Logística: Red wine Quality                 0                  0   \n",
       "Regresión Logística: Notas Arqui                      0                  0   \n",
       "Regresión Logística: Propio                           0                  0   \n",
       "Árboles de decisión: Red wine Quality                 0                  0   \n",
       "Árboles de decisión: Notas Arqui                      0                  0   \n",
       "Árboles de decisión: Propio                           0                  0   \n",
       "KNN: Red wine Quality                                 0                  0   \n",
       "KNN: Notas Arqui                                      0                  0   \n",
       "KNN: Propio                                           0                  0   \n",
       "\n",
       "                                       Recall_sklearn  AUC_sklearn  \n",
       "Regresión Logística: Red wine Quality               0            0  \n",
       "Regresión Logística: Notas Arqui                    0            0  \n",
       "Regresión Logística: Propio                         0            0  \n",
       "Árboles de decisión: Red wine Quality               0            0  \n",
       "Árboles de decisión: Notas Arqui                    0            0  \n",
       "Árboles de decisión: Propio                         0            0  \n",
       "KNN: Red wine Quality                               0            0  \n",
       "KNN: Notas Arqui                                    0            0  \n",
       "KNN: Propio                                         0            0  "
      ]
     },
     "execution_count": 92,
     "metadata": {},
     "output_type": "execute_result"
    }
   ],
   "source": [
    "k_values=[0,1,2]\n",
    "\n",
    "accuracy = [0,0,0,0,0,0,0,0,0]\n",
    "precision = [0,0,0,0,0,0,0,0,0]\n",
    "recall = [0,0,0,0,0,0,0,0,0]\n",
    "auc = [0,0,0,0,0,0,0,0,0]\n",
    "\n",
    "accuracy_sklearn = [0,0,0,0,0,0,0,0,0]\n",
    "precision_sklearn = [0,0,0,0,0,0,0,0,0]\n",
    "recall_sklearn = [0,0,0,0,0,0,0,0,0]\n",
    "auc_sklearn = [0,0,0,0,0,0,0,0,0]\n",
    "\n",
    "print(\"Comparación de datos y algoritmos\")\n",
    "accuracy_data = {\n",
    "  \"Accuracy\": accuracy,\n",
    "  \"Precision\": precision,\n",
    "  \"Recall\": recall,\n",
    "  \"AUC\": auc,\n",
    "  \"Accuracy_sklearn\": accuracy_sklearn,\n",
    "  \"Precision_sklearn\": precision_sklearn,\n",
    "  \"Recall_sklearn\": recall_sklearn,\n",
    "  \"AUC_sklearn\": auc_sklearn\n",
    "}\n",
    "pd.DataFrame( accuracy_data,index = [\"Regresión Logística: Red wine Quality\", \"Regresión Logística: Notas Arqui\", \"Regresión Logística: Propio\", \n",
    "                                             \"Árboles de decisión: Red wine Quality\", \"Árboles de decisión: Notas Arqui\", \"Árboles de decisión: Propio\", \n",
    "                                             \"KNN: Red wine Quality\", \"KNN: Notas Arqui\", \"KNN: Propio\"])"
   ]
  },
  {
   "cell_type": "markdown",
   "id": "406bbe03",
   "metadata": {},
   "source": [
    "## Puntos Extra"
   ]
  },
  {
   "cell_type": "code",
   "execution_count": null,
   "id": "d7bc589c",
   "metadata": {},
   "outputs": [],
   "source": []
  },
  {
   "cell_type": "code",
   "execution_count": null,
   "id": "fa50f5e7",
   "metadata": {},
   "outputs": [],
   "source": []
  },
  {
   "cell_type": "code",
   "execution_count": null,
   "id": "c850e33c",
   "metadata": {},
   "outputs": [],
   "source": []
  }
 ],
 "metadata": {
  "kernelspec": {
   "display_name": "Python 3 (ipykernel)",
   "language": "python",
   "name": "python3"
  },
  "language_info": {
   "codemirror_mode": {
    "name": "ipython",
    "version": 3
   },
   "file_extension": ".py",
   "mimetype": "text/x-python",
   "name": "python",
   "nbconvert_exporter": "python",
   "pygments_lexer": "ipython3",
   "version": "3.10.8"
  },
  "vscode": {
   "interpreter": {
    "hash": "e7370f93d1d0cde622a1f8e1c04877d8463912d04d973331ad4851f04de6915a"
   }
  }
 },
 "nbformat": 4,
 "nbformat_minor": 5
}
