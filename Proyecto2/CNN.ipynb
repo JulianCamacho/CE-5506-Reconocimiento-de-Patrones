{
 "cells": [
  {
   "attachments": {},
   "cell_type": "markdown",
   "metadata": {},
   "source": [
    "# Proyecto 2 Reconocimiento de Patrones\n",
    "\n",
    "José Julián Camacho Hernández\n",
    "\n",
    "Leonardo Guillén Fernández"
   ]
  },
  {
   "cell_type": "code",
   "execution_count": null,
   "metadata": {},
   "outputs": [],
   "source": [
    "import pandas as pd\n",
    "import numpy as np\n",
    "import math\n",
    "import matplotlib.pyplot as plt\n",
    "from IPython.display import display\n",
    "from sklearn.model_selection import train_test_split, GridSearchCV\n",
    "from sklearn.preprocessing import StandardScaler, MinMaxScaler\n",
    "from sklearn.metrics import accuracy_score, precision_score, recall_score, roc_auc_score, roc_curve, f1_score"
   ]
  },
  {
   "attachments": {},
   "cell_type": "markdown",
   "metadata": {},
   "source": [
    "### Set de datos"
   ]
  },
  {
   "cell_type": "code",
   "execution_count": null,
   "metadata": {},
   "outputs": [],
   "source": []
  },
  {
   "attachments": {},
   "cell_type": "markdown",
   "metadata": {},
   "source": [
    "### MLP"
   ]
  },
  {
   "attachments": {},
   "cell_type": "markdown",
   "metadata": {},
   "source": [
    "### CNN Redes Convolucionales"
   ]
  },
  {
   "cell_type": "code",
   "execution_count": 2,
   "metadata": {},
   "outputs": [],
   "source": [
    "import numpy as np\n",
    "import cv2\n",
    "import tensorflow as tf\n",
    "from tensorflow.keras import datasets, layers, models"
   ]
  },
  {
   "cell_type": "code",
   "execution_count": 3,
   "metadata": {},
   "outputs": [],
   "source": [
    "# Cargar el conjunto de datos MNIST\n",
    "(train_images, train_labels), (test_images, test_labels) = datasets.mnist.load_data()\n",
    "\n",
    "# Filtrar las imágenes con el filtro bilateral (solo se ejecuta una vez)\n",
    "filtered_train_images = np.zeros_like(train_images)\n",
    "filtered_test_images = np.zeros_like(test_images)\n",
    "\n",
    "for i in range(len(train_images)):\n",
    "    filtered_train_images[i] = cv2.bilateralFilter(train_images[i], 9, 75, 75)\n",
    "\n",
    "for i in range(len(test_images)):\n",
    "    filtered_test_images[i] = cv2.bilateralFilter(test_images[i], 9, 75, 75)"
   ]
  },
  {
   "cell_type": "code",
   "execution_count": 4,
   "metadata": {},
   "outputs": [],
   "source": [
    "# Normalizar los datos de entrada (escalado entre 0 y 1)\n",
    "train_images = train_images / 255.0\n",
    "test_images = test_images / 255.0\n",
    "filtered_train_images = filtered_train_images / 255.0\n",
    "filtered_test_images = filtered_test_images / 255.0\n",
    "\n",
    "# Agregar una dimensión adicional para el canal de color\n",
    "train_images = train_images.reshape(-1, 28, 28, 1)\n",
    "test_images = test_images.reshape(-1, 28, 28, 1)\n",
    "filtered_train_images = filtered_train_images.reshape(-1, 28, 28, 1)\n",
    "filtered_test_images = filtered_test_images.reshape(-1, 28, 28, 1)"
   ]
  },
  {
   "cell_type": "code",
   "execution_count": 5,
   "metadata": {},
   "outputs": [
    {
     "name": "stdout",
     "output_type": "stream",
     "text": [
      "Epoch 1/2\n"
     ]
    },
    {
     "name": "stderr",
     "output_type": "stream",
     "text": [
      "2023-05-18 22:37:41.448942: W tensorflow/tsl/framework/cpu_allocator_impl.cc:83] Allocation of 188160000 exceeds 10% of free system memory.\n"
     ]
    },
    {
     "name": "stdout",
     "output_type": "stream",
     "text": [
      "1875/1875 [==============================] - 62s 32ms/step - loss: 0.1665 - accuracy: 0.9507\n",
      "Epoch 2/2\n",
      "1875/1875 [==============================] - 61s 32ms/step - loss: 0.0591 - accuracy: 0.9821\n",
      "313/313 [==============================] - 4s 11ms/step - loss: 0.0586 - accuracy: 0.9801\n"
     ]
    }
   ],
   "source": [
    "# Crear la CNN sin procesar\n",
    "model_raw = models.Sequential()\n",
    "model_raw.add(layers.Conv2D(32, (3, 3), activation='relu', input_shape=(28, 28, 1)))\n",
    "model_raw.add(layers.MaxPooling2D((2, 2)))\n",
    "model_raw.add(layers.Flatten())\n",
    "model_raw.add(layers.Dense(64, activation='relu'))\n",
    "model_raw.add(layers.Dense(10, activation='softmax'))\n",
    "\n",
    "# Compilar y entrenar la CNN sin procesar\n",
    "model_raw.compile(optimizer='adam',\n",
    "                  loss=tf.keras.losses.SparseCategoricalCrossentropy(from_logits=True),\n",
    "                  metrics=['accuracy'])\n",
    "\n",
    "model_raw.fit(train_images, train_labels, epochs=2)\n",
    "\n",
    "# Evaluar la CNN sin procesar en el conjunto de prueba\n",
    "_, test_acc_raw = model_raw.evaluate(test_images, test_labels)"
   ]
  },
  {
   "cell_type": "code",
   "execution_count": 6,
   "metadata": {},
   "outputs": [
    {
     "name": "stdout",
     "output_type": "stream",
     "text": [
      "Epoch 1/2\n"
     ]
    },
    {
     "name": "stderr",
     "output_type": "stream",
     "text": [
      "2023-05-18 22:39:48.595282: W tensorflow/tsl/framework/cpu_allocator_impl.cc:83] Allocation of 188160000 exceeds 10% of free system memory.\n"
     ]
    },
    {
     "name": "stdout",
     "output_type": "stream",
     "text": [
      "1875/1875 [==============================] - 124s 65ms/step - loss: 0.1890 - accuracy: 0.9435\n",
      "Epoch 2/2\n",
      "1875/1875 [==============================] - 142s 76ms/step - loss: 0.0677 - accuracy: 0.9798\n",
      "313/313 [==============================] - 11s 33ms/step - loss: 0.0700 - accuracy: 0.9767\n",
      "Precisión en el conjunto de prueba sin procesar: 0.9800999760627747\n",
      "Precisión en el conjunto de prueba con filtro bilateral: 0.9767000079154968\n"
     ]
    }
   ],
   "source": [
    "# Crear la CNN con imágenes filtradas\n",
    "model_filtered = models.Sequential()\n",
    "model_filtered.add(layers.Conv2D(32, (3, 3), activation='relu', input_shape=(28, 28, 1)))\n",
    "model_filtered.add(layers.MaxPooling2D((2, 2)))\n",
    "model_filtered.add(layers.Flatten())\n",
    "model_filtered.add(layers.Dense(64, activation='relu'))\n",
    "model_filtered.add(layers.Dense(10, activation='softmax'))\n",
    "\n",
    "# Compilar y entrenar la CNN con imágenes filtradas\n",
    "model_filtered.compile(optimizer='adam',\n",
    "                       loss=tf.keras.losses.SparseCategoricalCrossentropy(from_logits=True),\n",
    "                       metrics=['accuracy'])\n",
    "\n",
    "model_filtered.fit(filtered_train_images, train_labels, epochs=2)\n",
    "\n",
    "# Evaluar la CNN con imágenes filtradas en el conjunto de prueba\n",
    "_, test_acc_filtered = model_filtered.evaluate(filtered_test_images, test_labels)\n",
    "\n",
    "# Imprimir los resultados\n",
    "print(\"Precisión en el conjunto de prueba sin procesar:\", test_acc_raw)\n",
    "print(\"Precisión en el conjunto de prueba con filtro bilateral:\", test_acc_filtered)\n"
   ]
  }
 ],
 "metadata": {
  "kernelspec": {
   "display_name": "Python 3",
   "language": "python",
   "name": "python3"
  },
  "language_info": {
   "codemirror_mode": {
    "name": "ipython",
    "version": 3
   },
   "file_extension": ".py",
   "mimetype": "text/x-python",
   "name": "python",
   "nbconvert_exporter": "python",
   "pygments_lexer": "ipython3",
   "version": "3.8.10"
  },
  "orig_nbformat": 4,
  "vscode": {
   "interpreter": {
    "hash": "e7370f93d1d0cde622a1f8e1c04877d8463912d04d973331ad4851f04de6915a"
   }
  }
 },
 "nbformat": 4,
 "nbformat_minor": 2
}
