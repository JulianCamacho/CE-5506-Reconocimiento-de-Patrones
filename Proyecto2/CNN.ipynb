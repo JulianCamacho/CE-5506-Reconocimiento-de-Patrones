{
 "cells": [
  {
   "attachments": {},
   "cell_type": "markdown",
   "metadata": {},
   "source": [
    "# Proyecto 2 Reconocimiento de Patrones\n",
    "\n",
    "José Julián Camacho Hernández\n",
    "\n",
    "Leonardo Guillén Fernández"
   ]
  },
  {
   "cell_type": "code",
   "execution_count": null,
   "metadata": {},
   "outputs": [],
   "source": [
    "import pandas as pd\n",
    "import numpy as np\n",
    "import math\n",
    "import matplotlib.pyplot as plt\n",
    "from IPython.display import display\n",
    "from sklearn.model_selection import train_test_split, GridSearchCV\n",
    "from sklearn.preprocessing import StandardScaler, MinMaxScaler\n",
    "from sklearn.metrics import accuracy_score, precision_score, recall_score, roc_auc_score, roc_curve, f1_score"
   ]
  },
  {
   "attachments": {},
   "cell_type": "markdown",
   "metadata": {},
   "source": [
    "### Set de datos"
   ]
  },
  {
   "cell_type": "code",
   "execution_count": null,
   "metadata": {},
   "outputs": [],
   "source": []
  },
  {
   "attachments": {},
   "cell_type": "markdown",
   "metadata": {},
   "source": [
    "### MLP"
   ]
  },
  {
   "attachments": {},
   "cell_type": "markdown",
   "metadata": {},
   "source": [
    "### CNN Redes Convolucionales"
   ]
  },
  {
   "cell_type": "code",
   "execution_count": 4,
   "metadata": {},
   "outputs": [
    {
     "name": "stderr",
     "output_type": "stream",
     "text": [
      "2023-05-18 15:09:51.609630: W tensorflow/tsl/framework/cpu_allocator_impl.cc:83] Allocation of 188160000 exceeds 10% of free system memory.\n"
     ]
    },
    {
     "name": "stdout",
     "output_type": "stream",
     "text": [
      "Epoch 1/10\n",
      "1875/1875 [==============================] - 43s 22ms/step - loss: 0.1685 - accuracy: 0.9500 - val_loss: 0.0657 - val_accuracy: 0.9779\n",
      "Epoch 2/10\n",
      "1875/1875 [==============================] - 41s 22ms/step - loss: 0.0579 - accuracy: 0.9824 - val_loss: 0.0542 - val_accuracy: 0.9823\n",
      "Epoch 3/10\n",
      "1875/1875 [==============================] - 50s 26ms/step - loss: 0.0383 - accuracy: 0.9880 - val_loss: 0.0524 - val_accuracy: 0.9827\n",
      "Epoch 4/10\n",
      "1875/1875 [==============================] - 63s 34ms/step - loss: 0.0285 - accuracy: 0.9909 - val_loss: 0.0511 - val_accuracy: 0.9835\n",
      "Epoch 5/10\n",
      "1875/1875 [==============================] - 64s 34ms/step - loss: 0.0201 - accuracy: 0.9938 - val_loss: 0.0498 - val_accuracy: 0.9854\n",
      "Epoch 6/10\n",
      "1875/1875 [==============================] - 62s 33ms/step - loss: 0.0149 - accuracy: 0.9955 - val_loss: 0.0440 - val_accuracy: 0.9865\n",
      "Epoch 7/10\n",
      "1875/1875 [==============================] - 90s 48ms/step - loss: 0.0114 - accuracy: 0.9964 - val_loss: 0.0506 - val_accuracy: 0.9846\n",
      "Epoch 8/10\n",
      "1875/1875 [==============================] - 82s 44ms/step - loss: 0.0079 - accuracy: 0.9975 - val_loss: 0.0552 - val_accuracy: 0.9845\n",
      "Epoch 9/10\n",
      "1875/1875 [==============================] - 81s 43ms/step - loss: 0.0072 - accuracy: 0.9976 - val_loss: 0.0609 - val_accuracy: 0.9833\n",
      "Epoch 10/10\n",
      "1875/1875 [==============================] - 79s 42ms/step - loss: 0.0056 - accuracy: 0.9981 - val_loss: 0.0657 - val_accuracy: 0.9833\n",
      "313/313 [==============================] - 4s 12ms/step - loss: 0.0657 - accuracy: 0.9833\n",
      "Precisión en el conjunto de prueba: 0.983299970626831\n"
     ]
    },
    {
     "data": {
      "image/png": "[encoded data removed]",
      "text/plain": [
       "<Figure size 640x480 with 1 Axes>"
      ]
     },
     "metadata": {},
     "output_type": "display_data"
    }
   ],
   "source": [
    "import tensorflow as tf\n",
    "from tensorflow.keras import datasets, layers, models\n",
    "import matplotlib.pyplot as plt\n",
    "\n",
    "# Cargar el conjunto de datos MNIST\n",
    "(train_images, train_labels), (test_images, test_labels) = datasets.mnist.load_data()\n",
    "\n",
    "# Normalizar los datos de entrada (escalado entre 0 y 1)\n",
    "train_images = train_images / 255.0\n",
    "test_images = test_images / 255.0\n",
    "\n",
    "# Agregar una dimensión adicional para el canal de color (escala de grises)\n",
    "train_images = train_images.reshape(-1, 28, 28, 1)\n",
    "test_images = test_images.reshape(-1, 28, 28, 1)\n",
    "\n",
    "# Crear el modelo de la red convolucional\n",
    "model = models.Sequential()\n",
    "model.add(layers.Conv2D(32, (3, 3), activation='relu', input_shape=(28, 28, 1)))\n",
    "model.add(layers.MaxPooling2D((2, 2)))\n",
    "model.add(layers.Flatten())\n",
    "model.add(layers.Dense(64, activation='relu'))\n",
    "model.add(layers.Dense(10, activation='softmax'))\n",
    "\n",
    "# Compilar el modelo\n",
    "model.compile(optimizer='adam',\n",
    "              loss=tf.keras.losses.SparseCategoricalCrossentropy(from_logits=True),\n",
    "              metrics=['accuracy'])\n",
    "\n",
    "# Entrenar el modelo\n",
    "history = model.fit(train_images, train_labels, epochs=10, \n",
    "                    validation_data=(test_images, test_labels))\n",
    "\n",
    "# Evaluar el modelo en el conjunto de prueba\n",
    "test_loss, test_acc = model.evaluate(test_images, test_labels)\n",
    "print(\"Precisión en el conjunto de prueba:\", test_acc)\n",
    "\n",
    "# Graficar la precisión y la pérdida durante el entrenamiento\n",
    "plt.plot(history.history['accuracy'], label='Precisión')\n",
    "plt.plot(history.history['val_accuracy'], label='Precisión en validación')\n",
    "plt.plot(history.history['loss'], label='Pérdida')\n",
    "plt.plot(history.history['val_loss'], label='Pérdida en validación')\n",
    "plt.xlabel('Época')\n",
    "plt.ylabel('Valor')\n",
    "plt.legend()\n",
    "plt.show()"
   ]
  },
  {
   "cell_type": "code",
   "execution_count": 5,
   "metadata": {},
   "outputs": [
    {
     "name": "stdout",
     "output_type": "stream",
     "text": [
      "Epoch 1/10\n",
      "1875/1875 [==============================] - 62s 32ms/step - loss: 0.1637 - accuracy: 0.9514\n",
      "Epoch 2/10\n",
      "1875/1875 [==============================] - 63s 33ms/step - loss: 0.0578 - accuracy: 0.9825\n",
      "Epoch 3/10\n",
      "1875/1875 [==============================] - 83s 44ms/step - loss: 0.0405 - accuracy: 0.9877\n",
      "Epoch 4/10\n",
      "1875/1875 [==============================] - 78s 41ms/step - loss: 0.0289 - accuracy: 0.9912\n",
      "Epoch 5/10\n",
      "1875/1875 [==============================] - 81s 43ms/step - loss: 0.0224 - accuracy: 0.9929\n",
      "Epoch 6/10\n",
      "1875/1875 [==============================] - 77s 41ms/step - loss: 0.0160 - accuracy: 0.9947\n",
      "Epoch 7/10\n",
      "1875/1875 [==============================] - 83s 44ms/step - loss: 0.0116 - accuracy: 0.9962\n",
      "Epoch 8/10\n",
      "1875/1875 [==============================] - 80s 43ms/step - loss: 0.0088 - accuracy: 0.9972\n",
      "Epoch 9/10\n",
      "1875/1875 [==============================] - 80s 43ms/step - loss: 0.0079 - accuracy: 0.9975\n",
      "Epoch 10/10\n",
      "1875/1875 [==============================] - 82s 44ms/step - loss: 0.0057 - accuracy: 0.9983\n",
      "313/313 [==============================] - 5s 12ms/step - loss: 0.0575 - accuracy: 0.9866\n",
      "Epoch 1/10\n"
     ]
    }
   ],
   "source": [
    "import numpy as np\n",
    "import cv2\n",
    "import tensorflow as tf\n",
    "from tensorflow.keras import datasets, layers, models\n",
    "\n",
    "# Cargar el conjunto de datos MNIST\n",
    "(train_images, train_labels), (test_images, test_labels) = datasets.mnist.load_data()\n",
    "\n",
    "# Filtrar las imágenes con el filtro bilateral (solo se ejecuta una vez)\n",
    "filtered_train_images = np.zeros_like(train_images)\n",
    "filtered_test_images = np.zeros_like(test_images)\n",
    "\n",
    "for i in range(len(train_images)):\n",
    "    filtered_train_images[i] = cv2.bilateralFilter(train_images[i], 9, 75, 75)\n",
    "\n",
    "for i in range(len(test_images)):\n",
    "    filtered_test_images[i] = cv2.bilateralFilter(test_images[i], 9, 75, 75)\n",
    "\n",
    "# Normalizar los datos de entrada (escalado entre 0 y 1)\n",
    "train_images = train_images / 255.0\n",
    "test_images = test_images / 255.0\n",
    "filtered_train_images = filtered_train_images / 255.0\n",
    "filtered_test_images = filtered_test_images / 255.0\n",
    "\n",
    "# Agregar una dimensión adicional para el canal de color\n",
    "train_images = train_images.reshape(-1, 28, 28, 1)\n",
    "test_images = test_images.reshape(-1, 28, 28, 1)\n",
    "filtered_train_images = filtered_train_images.reshape(-1, 28, 28, 1)\n",
    "filtered_test_images = filtered_test_images.reshape(-1, 28, 28, 1)\n",
    "\n",
    "# Crear la CNN sin procesar\n",
    "model_raw = models.Sequential()\n",
    "model_raw.add(layers.Conv2D(32, (3, 3), activation='relu', input_shape=(28, 28, 1)))\n",
    "model_raw.add(layers.MaxPooling2D((2, 2)))\n",
    "model_raw.add(layers.Flatten())\n",
    "model_raw.add(layers.Dense(64, activation='relu'))\n",
    "model_raw.add(layers.Dense(10, activation='softmax'))\n",
    "\n",
    "# Compilar y entrenar la CNN sin procesar\n",
    "model_raw.compile(optimizer='adam',\n",
    "                  loss=tf.keras.losses.SparseCategoricalCrossentropy(from_logits=True),\n",
    "                  metrics=['accuracy'])\n",
    "\n",
    "model_raw.fit(train_images, train_labels, epochs=10)\n",
    "\n",
    "# Evaluar la CNN sin procesar en el conjunto de prueba\n",
    "_, test_acc_raw = model_raw.evaluate(test_images, test_labels)\n",
    "\n",
    "# Crear la CNN con imágenes filtradas\n",
    "model_filtered = models.Sequential()\n",
    "model_filtered.add(layers.Conv2D(32, (3, 3), activation='relu', input_shape=(28, 28, 1)))\n",
    "model_filtered.add(layers.MaxPooling2D((2, 2)))\n",
    "model_filtered.add(layers.Flatten())\n",
    "model_filtered.add(layers.Dense(64, activation='relu'))\n",
    "model_filtered.add(layers.Dense(10, activation='softmax'))\n",
    "\n",
    "# Compilar y entrenar la CNN con imágenes filtradas\n",
    "model_filtered.compile(optimizer='adam',\n",
    "                       loss=tf.keras.losses.SparseCategoricalCrossentropy(from_logits=True),\n",
    "                       metrics=['accuracy'])\n",
    "\n",
    "model_filtered.fit(filtered_train_images, train_labels, epochs=10)\n",
    "\n",
    "# Evaluar la CNN con imágenes filtradas en el conjunto de prueba\n",
    "_, test_acc_filtered = model_filtered.evaluate(filtered_test_images, test_labels)\n",
    "\n",
    "# Imprimir los resultados\n",
    "print(\"Precisión en el conjunto de prueba sin procesar:\", test_acc_raw)\n",
    "print(\"Precisión en el conjunto de prueba con filtro bilateral:\", test_acc_filtered)\n"
   ]
  }
 ],
 "metadata": {
  "kernelspec": {
   "display_name": "Python 3",
   "language": "python",
   "name": "python3"
  },
  "language_info": {
   "codemirror_mode": {
    "name": "ipython",
    "version": 3
   },
   "file_extension": ".py",
   "mimetype": "text/x-python",
   "name": "python",
   "nbconvert_exporter": "python",
   "pygments_lexer": "ipython3",
   "version": "3.8.10"
  },
  "orig_nbformat": 4,
  "vscode": {
   "interpreter": {
    "hash": "e7370f93d1d0cde622a1f8e1c04877d8463912d04d973331ad4851f04de6915a"
   }
  }
 },
 "nbformat": 4,
 "nbformat_minor": 2
}
