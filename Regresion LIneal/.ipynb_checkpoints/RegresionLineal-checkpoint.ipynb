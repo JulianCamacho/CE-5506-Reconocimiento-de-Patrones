{
 "cells": [
  {
   "cell_type": "code",
   "execution_count": 1,
   "id": "phantom-finland",
   "metadata": {},
   "outputs": [],
   "source": [
    "import numpy as np\n",
    "import matplotlib.pyplot as plt\n",
    "import pandas as pd\n",
    "import time"
   ]
  },
  {
   "cell_type": "code",
   "execution_count": 2,
   "id": "medical-miniature",
   "metadata": {},
   "outputs": [],
   "source": [
    "class LinearRegression:\n",
    "    \n",
    "    def __init__(self, n_features):\n",
    "        self.W = np.random.normal(-1,1,(n_features,1)) #weights\n",
    "        self.b = np.random.rand(1) #intercept\n",
    "        \n",
    "    def descent(self, delta_W, delta_b, learning_rate):\n",
    "        #updating the weights with the calculated gradients\n",
    "        self.W -= learning_rate*delta_W                                                                  \n",
    "        self.b -= learning_rate*delta_b \n",
    "        \n",
    "    def derivatives(self, X, Y):\n",
    "        #partial derivative of cost w.r.t the weights\n",
    "        delta_W = np.sum(np.multiply(((np.matmul(X,self.W)+self.b)-Y), X))*2/X.shape[0] \n",
    "        #partial derivative of cost w.r.t the intercept\n",
    "        delta_b = np.sum(((np.matmul(X,self.W)+self.b)-Y))*2/X.shape[0]                \n",
    "        return delta_W, delta_b\n",
    "    \n",
    "    #fit\n",
    "    def train(self, X, Y, epochs=50, learning_rate=0.1):\n",
    "        X = np.array(X).reshape(-1,1)\n",
    "        Y = np.array(Y).reshape(-1,1)\n",
    "\n",
    "              \n",
    "        for i in range(epochs):\n",
    "            \n",
    "            delta_W, delta_b = self.derivatives(X, Y)\n",
    "            self.descent(delta_W, delta_b, learning_rate)\n",
    "            \n",
    "            \n",
    "            \n",
    "        return self.W, self.b\n",
    "\n",
    "    def predict(self, X):\n",
    "        print(X.shape, X.reshape(-1,1).shape)\n",
    "        product = np.matmul(np.array(X).reshape(-1,1),self.W)+self.b\n",
    "        return product\n",
    "    \n",
    "    "
   ]
  },
  {
   "cell_type": "code",
   "execution_count": 3,
   "id": "electric-trauma",
   "metadata": {},
   "outputs": [
    {
     "data": {
      "text/html": [
       "<div>\n",
       "<style scoped>\n",
       "    .dataframe tbody tr th:only-of-type {\n",
       "        vertical-align: middle;\n",
       "    }\n",
       "\n",
       "    .dataframe tbody tr th {\n",
       "        vertical-align: top;\n",
       "    }\n",
       "\n",
       "    .dataframe thead th {\n",
       "        text-align: right;\n",
       "    }\n",
       "</style>\n",
       "<table border=\"1\" class=\"dataframe\">\n",
       "  <thead>\n",
       "    <tr style=\"text-align: right;\">\n",
       "      <th></th>\n",
       "      <th>User ID</th>\n",
       "      <th>Gender</th>\n",
       "      <th>Age</th>\n",
       "      <th>EstimatedSalary</th>\n",
       "      <th>Purchased</th>\n",
       "    </tr>\n",
       "  </thead>\n",
       "  <tbody>\n",
       "    <tr>\n",
       "      <th>0</th>\n",
       "      <td>15624510</td>\n",
       "      <td>Male</td>\n",
       "      <td>19</td>\n",
       "      <td>19000</td>\n",
       "      <td>0</td>\n",
       "    </tr>\n",
       "    <tr>\n",
       "      <th>1</th>\n",
       "      <td>15810944</td>\n",
       "      <td>Male</td>\n",
       "      <td>35</td>\n",
       "      <td>20000</td>\n",
       "      <td>0</td>\n",
       "    </tr>\n",
       "    <tr>\n",
       "      <th>2</th>\n",
       "      <td>15668575</td>\n",
       "      <td>Female</td>\n",
       "      <td>26</td>\n",
       "      <td>43000</td>\n",
       "      <td>0</td>\n",
       "    </tr>\n",
       "    <tr>\n",
       "      <th>3</th>\n",
       "      <td>15603246</td>\n",
       "      <td>Female</td>\n",
       "      <td>27</td>\n",
       "      <td>57000</td>\n",
       "      <td>0</td>\n",
       "    </tr>\n",
       "    <tr>\n",
       "      <th>4</th>\n",
       "      <td>15804002</td>\n",
       "      <td>Male</td>\n",
       "      <td>19</td>\n",
       "      <td>76000</td>\n",
       "      <td>0</td>\n",
       "    </tr>\n",
       "    <tr>\n",
       "      <th>5</th>\n",
       "      <td>15728773</td>\n",
       "      <td>Male</td>\n",
       "      <td>27</td>\n",
       "      <td>58000</td>\n",
       "      <td>0</td>\n",
       "    </tr>\n",
       "    <tr>\n",
       "      <th>6</th>\n",
       "      <td>15598044</td>\n",
       "      <td>Female</td>\n",
       "      <td>27</td>\n",
       "      <td>84000</td>\n",
       "      <td>0</td>\n",
       "    </tr>\n",
       "    <tr>\n",
       "      <th>7</th>\n",
       "      <td>15694829</td>\n",
       "      <td>Female</td>\n",
       "      <td>32</td>\n",
       "      <td>150000</td>\n",
       "      <td>1</td>\n",
       "    </tr>\n",
       "    <tr>\n",
       "      <th>8</th>\n",
       "      <td>15600575</td>\n",
       "      <td>Male</td>\n",
       "      <td>25</td>\n",
       "      <td>33000</td>\n",
       "      <td>0</td>\n",
       "    </tr>\n",
       "    <tr>\n",
       "      <th>9</th>\n",
       "      <td>15727311</td>\n",
       "      <td>Female</td>\n",
       "      <td>35</td>\n",
       "      <td>65000</td>\n",
       "      <td>0</td>\n",
       "    </tr>\n",
       "  </tbody>\n",
       "</table>\n",
       "</div>"
      ],
      "text/plain": [
       "    User ID  Gender  Age  EstimatedSalary  Purchased\n",
       "0  15624510    Male   19            19000          0\n",
       "1  15810944    Male   35            20000          0\n",
       "2  15668575  Female   26            43000          0\n",
       "3  15603246  Female   27            57000          0\n",
       "4  15804002    Male   19            76000          0\n",
       "5  15728773    Male   27            58000          0\n",
       "6  15598044  Female   27            84000          0\n",
       "7  15694829  Female   32           150000          1\n",
       "8  15600575    Male   25            33000          0\n",
       "9  15727311  Female   35            65000          0"
      ]
     },
     "execution_count": 3,
     "metadata": {},
     "output_type": "execute_result"
    }
   ],
   "source": [
    "df = pd.read_csv(\"https://raw.githubusercontent.com/SLPeoples/Machine-Learning-A-Z/master/Part%2003%20-%20Classification/16_SVM/Social_Network_Ads.csv\")\n",
    "df.head(10)"
   ]
  },
  {
   "cell_type": "code",
   "execution_count": 4,
   "id": "unavailable-grain",
   "metadata": {},
   "outputs": [
    {
     "data": {
      "text/plain": [
       "((400,), (400,))"
      ]
     },
     "execution_count": 4,
     "metadata": {},
     "output_type": "execute_result"
    }
   ],
   "source": [
    "# feature engineering?\n",
    "x = (df['Age']-df['Age'].mean())/df['Age'].std() #standardization of the dataset\n",
    "y = (df[\"EstimatedSalary\"]-df['EstimatedSalary'].mean())/df[\"EstimatedSalary\"].std()\n",
    "x.shape, y.shape"
   ]
  },
  {
   "cell_type": "code",
   "execution_count": 5,
   "id": "28c7880f",
   "metadata": {},
   "outputs": [],
   "source": [
    "reg = LinearRegression(n_features=1)"
   ]
  },
  {
   "cell_type": "code",
   "execution_count": 63,
   "id": "conceptual-layer",
   "metadata": {},
   "outputs": [
    {
     "name": "stdout",
     "output_type": "stream",
     "text": [
      "[0.15523802] 1.8645198663950033e-17\n"
     ]
    },
    {
     "data": {
      "text/plain": [
       "[<matplotlib.lines.Line2D at 0x7f00c0831550>]"
      ]
     },
     "execution_count": 63,
     "metadata": {},
     "output_type": "execute_result"
    },
    {
     "data": {
      "image/png": "[encoded data removed]",
      "text/plain": [
       "<Figure size 640x480 with 1 Axes>"
      ]
     },
     "metadata": {},
     "output_type": "display_data"
    }
   ],
   "source": [
    "params = reg.train(x, y, epochs=200, learning_rate=0.225)\n",
    "print(params[0][-1], params[1][-1])\n",
    "plt.scatter(x[:180], y[:180], color='red')\n",
    "pred = reg.predict(np.array(x[:180]))\n",
    "plt.plot(x[:180], pred[:180])"
   ]
  },
  {
   "cell_type": "code",
   "execution_count": 64,
   "id": "consistent-audience",
   "metadata": {},
   "outputs": [
    {
     "data": {
      "text/plain": [
       "((25000, 1), (25000, 1))"
      ]
     },
     "execution_count": 64,
     "metadata": {},
     "output_type": "execute_result"
    }
   ],
   "source": [
    "def foo(w, b, n):\n",
    "    x = np.random.rand(n,1)\n",
    "    y = np.power(2, (w*x)) + b\n",
    "    return x, y\n",
    "\n",
    "x, y = foo(9, 3, 25000)\n",
    "x.shape, y.shape"
   ]
  },
  {
   "cell_type": "code",
   "execution_count": 65,
   "id": "minor-binding",
   "metadata": {},
   "outputs": [],
   "source": [
    "reg = LinearRegression(n_features=1)"
   ]
  },
  {
   "cell_type": "code",
   "execution_count": 66,
   "id": "reliable-movie",
   "metadata": {},
   "outputs": [
    {
     "name": "stdout",
     "output_type": "stream",
     "text": [
      "[336.46528922] -83.33425001083685\n",
      "(180, 1) (180, 1)\n"
     ]
    },
    {
     "data": {
      "text/plain": [
       "[<matplotlib.lines.Line2D at 0x7f00c07de9a0>]"
      ]
     },
     "execution_count": 66,
     "metadata": {},
     "output_type": "execute_result"
    },
    {
     "data": {
      "image/png": "[encoded data removed]",
      "text/plain": [
       "<Figure size 640x480 with 1 Axes>"
      ]
     },
     "metadata": {},
     "output_type": "display_data"
    }
   ],
   "source": [
    "params = reg.train(x, y, epochs=500, learning_rate=0.225)\n",
    "print(params[0][-1], params[1][-1])\n",
    "plt.scatter(x[:180], y[:180], color='red')\n",
    "pred = reg.predict(np.array(x[:180]))\n",
    "plt.plot(x[:180], pred[:180])"
   ]
  },
  {
   "cell_type": "code",
   "execution_count": null,
   "id": "789b4923",
   "metadata": {},
   "outputs": [],
   "source": []
  },
  {
   "cell_type": "code",
   "execution_count": 67,
   "id": "fc8bbc7d",
   "metadata": {},
   "outputs": [],
   "source": [
    "import torch\n"
   ]
  },
  {
   "cell_type": "code",
   "execution_count": 68,
   "id": "c017e039",
   "metadata": {},
   "outputs": [],
   "source": [
    "class LinearRegression_Pytorch:\n",
    "\n",
    "    def __init__(self, n_features):\n",
    "        self.W = torch.randn(n_features, 1, dtype=torch.double, requires_grad=True)\n",
    "        self.b = torch.randn(1, dtype=torch.double, requires_grad=True)\n",
    "\n",
    "    def descent(self, delta_W, delta_b, learning_rate):\n",
    "        #updating the weights with the calculated gradients\n",
    "        self.W.data -= learning_rate*delta_W.data\n",
    "        self.b.data -= learning_rate*delta_b.data \n",
    "\n",
    "    def derivatives(self, X, Y):\n",
    "        #partial derivative of cost w.r.t the weights\n",
    "        delta_W = torch.sum(((torch.matmul(X.double(), self.W.double()) + self.b.double()) - Y.double()) * X.double(), dim=0) * 2 / X.shape[0] \n",
    "        #partial derivative of cost w.r.t the intercept\n",
    "        delta_b = torch.sum(((torch.matmul(X.double(), self.W.double()) + self.b.double()) - Y.double()), dim=0) * 2 / X.shape[0]\n",
    "        return delta_W, delta_b\n",
    "    #fit\n",
    "    def train(self, X, Y, epochs=50, learning_rate=0.1):\n",
    "        X = torch.tensor(X, dtype=torch.double).reshape(-1, 1)\n",
    "        Y = torch.tensor(Y, dtype=torch.double).reshape(-1, 1)\n",
    "\n",
    "        for i in range(epochs):\n",
    "\n",
    "            delta_W, delta_b = self.derivatives(X, Y)\n",
    "            self.descent(delta_W, delta_b, learning_rate)\n",
    "\n",
    "\n",
    "\n",
    "        return self.W.detach().numpy(), self.b.detach().numpy()\n",
    "\n",
    "    def predict(self, X):\n",
    "        X = torch.tensor(X).reshape(-1, 1)\n",
    "        product = torch.matmul(X, self.W) + self.b\n",
    "        return product.detach().numpy()"
   ]
  },
  {
   "cell_type": "code",
   "execution_count": 69,
   "id": "01b06a3f",
   "metadata": {},
   "outputs": [],
   "source": [
    "\n"
   ]
  },
  {
   "cell_type": "code",
   "execution_count": 70,
   "id": "abc9daec",
   "metadata": {},
   "outputs": [
    {
     "name": "stdout",
     "output_type": "stream",
     "text": [
      "[0.15523802] 1.8615378587422563e-17\n"
     ]
    },
    {
     "data": {
      "text/plain": [
       "[<matplotlib.lines.Line2D at 0x7f00c073d6a0>]"
      ]
     },
     "execution_count": 70,
     "metadata": {},
     "output_type": "execute_result"
    },
    {
     "data": {
      "image/png": "[encoded data removed]",
      "text/plain": [
       "<Figure size 640x480 with 1 Axes>"
      ]
     },
     "metadata": {},
     "output_type": "display_data"
    }
   ],
   "source": [
    "params = reg2.train(x, y, epochs=200, learning_rate=0.225)\n",
    "print(params[0][-1], params[1][-1])\n",
    "plt.scatter(x[:180], y[:180], color='red')\n",
    "pred = reg2.predict(np.array(x[:180]))\n",
    "plt.plot(x[:180], pred[:180])"
   ]
  },
  {
   "cell_type": "code",
   "execution_count": null,
   "id": "ac14c61d",
   "metadata": {},
   "outputs": [],
   "source": []
  },
  {
   "cell_type": "code",
   "execution_count": null,
   "id": "2b809fbf",
   "metadata": {},
   "outputs": [],
   "source": []
  },
  {
   "cell_type": "code",
   "execution_count": null,
   "id": "420902fa",
   "metadata": {},
   "outputs": [],
   "source": []
  }
 ],
 "metadata": {
  "kernelspec": {
   "display_name": "Python 3 (ipykernel)",
   "language": "python",
   "name": "python3"
  },
  "language_info": {
   "codemirror_mode": {
    "name": "ipython",
    "version": 3
   },
   "file_extension": ".py",
   "mimetype": "text/x-python",
   "name": "python",
   "nbconvert_exporter": "python",
   "pygments_lexer": "ipython3",
   "version": "3.8.10"
  }
 },
 "nbformat": 4,
 "nbformat_minor": 5
}
